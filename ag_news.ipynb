{
  "nbformat": 4,
  "nbformat_minor": 0,
  "metadata": {
    "colab": {
      "name": "ag news.ipynb",
      "provenance": [],
      "collapsed_sections": []
    },
    "kernelspec": {
      "name": "python3",
      "display_name": "Python 3"
    },
    "language_info": {
      "name": "python"
    }
  },
  "cells": [
    {
      "cell_type": "code",
      "metadata": {
        "id": "087j9OnNZAHJ",
        "colab": {
          "base_uri": "https://localhost:8080/"
        },
        "outputId": "47ebe858-792e-43ea-bf60-64a4d7e68884"
      },
      "source": [
        "!pip install textattack"
      ],
      "execution_count": null,
      "outputs": [
        {
          "output_type": "stream",
          "text": [
            "Requirement already satisfied: textattack in /usr/local/lib/python3.7/dist-packages (0.2.15)\n",
            "Requirement already satisfied: tqdm<4.50.0,>=4.27 in /usr/local/lib/python3.7/dist-packages (from textattack) (4.41.1)\n",
            "Requirement already satisfied: language-tool-python in /usr/local/lib/python3.7/dist-packages (from textattack) (2.5.3)\n",
            "Requirement already satisfied: bert-score>=0.3.5 in /usr/local/lib/python3.7/dist-packages (from textattack) (0.3.9)\n",
            "Requirement already satisfied: num2words in /usr/local/lib/python3.7/dist-packages (from textattack) (0.5.10)\n",
            "Requirement already satisfied: filelock in /usr/local/lib/python3.7/dist-packages (from textattack) (3.0.12)\n",
            "Requirement already satisfied: lemminflect in /usr/local/lib/python3.7/dist-packages (from textattack) (0.2.2)\n",
            "Requirement already satisfied: pandas>=1.0.1 in /usr/local/lib/python3.7/dist-packages (from textattack) (1.1.5)\n",
            "Requirement already satisfied: flair==0.6.1.post1 in /usr/local/lib/python3.7/dist-packages (from textattack) (0.6.1.post1)\n",
            "Requirement already satisfied: datasets in /usr/local/lib/python3.7/dist-packages (from textattack) (1.6.2)\n",
            "Requirement already satisfied: lru-dict in /usr/local/lib/python3.7/dist-packages (from textattack) (1.1.7)\n",
            "Requirement already satisfied: word2number in /usr/local/lib/python3.7/dist-packages (from textattack) (1.1)\n",
            "Requirement already satisfied: more-itertools in /usr/local/lib/python3.7/dist-packages (from textattack) (8.7.0)\n",
            "Requirement already satisfied: nltk in /usr/local/lib/python3.7/dist-packages (from textattack) (3.6.2)\n",
            "Requirement already satisfied: transformers>=3.3.0 in /usr/local/lib/python3.7/dist-packages (from textattack) (4.5.1)\n",
            "Requirement already satisfied: numpy<1.19.0 in /usr/local/lib/python3.7/dist-packages (from textattack) (1.18.5)\n",
            "Requirement already satisfied: torch in /usr/local/lib/python3.7/dist-packages (from textattack) (1.8.1+cu101)\n",
            "Requirement already satisfied: PySocks!=1.5.7,>=1.5.6 in /usr/local/lib/python3.7/dist-packages (from textattack) (1.7.1)\n",
            "Requirement already satisfied: editdistance in /usr/local/lib/python3.7/dist-packages (from textattack) (0.5.3)\n",
            "Requirement already satisfied: scipy==1.4.1 in /usr/local/lib/python3.7/dist-packages (from textattack) (1.4.1)\n",
            "Requirement already satisfied: terminaltables in /usr/local/lib/python3.7/dist-packages (from textattack) (3.1.0)\n",
            "Requirement already satisfied: requests in /usr/local/lib/python3.7/dist-packages (from language-tool-python->textattack) (2.23.0)\n",
            "Requirement already satisfied: matplotlib in /usr/local/lib/python3.7/dist-packages (from bert-score>=0.3.5->textattack) (3.2.2)\n",
            "Requirement already satisfied: docopt>=0.6.2 in /usr/local/lib/python3.7/dist-packages (from num2words->textattack) (0.6.2)\n",
            "Requirement already satisfied: pytz>=2017.2 in /usr/local/lib/python3.7/dist-packages (from pandas>=1.0.1->textattack) (2018.9)\n",
            "Requirement already satisfied: python-dateutil>=2.7.3 in /usr/local/lib/python3.7/dist-packages (from pandas>=1.0.1->textattack) (2.8.1)\n",
            "Requirement already satisfied: janome in /usr/local/lib/python3.7/dist-packages (from flair==0.6.1.post1->textattack) (0.4.1)\n",
            "Requirement already satisfied: scikit-learn>=0.21.3 in /usr/local/lib/python3.7/dist-packages (from flair==0.6.1.post1->textattack) (0.22.2.post1)\n",
            "Requirement already satisfied: deprecated>=1.2.4 in /usr/local/lib/python3.7/dist-packages (from flair==0.6.1.post1->textattack) (1.2.12)\n",
            "Requirement already satisfied: tabulate in /usr/local/lib/python3.7/dist-packages (from flair==0.6.1.post1->textattack) (0.8.9)\n",
            "Requirement already satisfied: bpemb>=0.3.2 in /usr/local/lib/python3.7/dist-packages (from flair==0.6.1.post1->textattack) (0.3.3)\n",
            "Requirement already satisfied: sqlitedict>=1.6.0 in /usr/local/lib/python3.7/dist-packages (from flair==0.6.1.post1->textattack) (1.7.0)\n",
            "Requirement already satisfied: konoha<5.0.0,>=4.0.0 in /usr/local/lib/python3.7/dist-packages (from flair==0.6.1.post1->textattack) (4.6.4)\n",
            "Requirement already satisfied: langdetect in /usr/local/lib/python3.7/dist-packages (from flair==0.6.1.post1->textattack) (1.0.8)\n",
            "Requirement already satisfied: regex in /usr/local/lib/python3.7/dist-packages (from flair==0.6.1.post1->textattack) (2019.12.20)\n",
            "Requirement already satisfied: hyperopt>=0.1.1 in /usr/local/lib/python3.7/dist-packages (from flair==0.6.1.post1->textattack) (0.1.2)\n",
            "Requirement already satisfied: gensim>=3.4.0 in /usr/local/lib/python3.7/dist-packages (from flair==0.6.1.post1->textattack) (4.0.0)\n",
            "Requirement already satisfied: sentencepiece!=0.1.92 in /usr/local/lib/python3.7/dist-packages (from flair==0.6.1.post1->textattack) (0.1.95)\n",
            "Requirement already satisfied: gdown in /usr/local/lib/python3.7/dist-packages (from flair==0.6.1.post1->textattack) (3.6.4)\n",
            "Requirement already satisfied: ftfy in /usr/local/lib/python3.7/dist-packages (from flair==0.6.1.post1->textattack) (6.0.1)\n",
            "Requirement already satisfied: lxml in /usr/local/lib/python3.7/dist-packages (from flair==0.6.1.post1->textattack) (4.2.6)\n",
            "Requirement already satisfied: segtok>=1.5.7 in /usr/local/lib/python3.7/dist-packages (from flair==0.6.1.post1->textattack) (1.5.10)\n",
            "Requirement already satisfied: mpld3==0.3 in /usr/local/lib/python3.7/dist-packages (from flair==0.6.1.post1->textattack) (0.3)\n",
            "Requirement already satisfied: importlib-metadata; python_version < \"3.8\" in /usr/local/lib/python3.7/dist-packages (from datasets->textattack) (3.10.1)\n",
            "Requirement already satisfied: dill in /usr/local/lib/python3.7/dist-packages (from datasets->textattack) (0.3.3)\n",
            "Requirement already satisfied: huggingface-hub<0.1.0 in /usr/local/lib/python3.7/dist-packages (from datasets->textattack) (0.0.8)\n",
            "Requirement already satisfied: pyarrow>=1.0.0<4.0.0 in /usr/local/lib/python3.7/dist-packages (from datasets->textattack) (3.0.0)\n",
            "Requirement already satisfied: xxhash in /usr/local/lib/python3.7/dist-packages (from datasets->textattack) (2.0.2)\n",
            "Requirement already satisfied: packaging in /usr/local/lib/python3.7/dist-packages (from datasets->textattack) (20.9)\n",
            "Requirement already satisfied: multiprocess in /usr/local/lib/python3.7/dist-packages (from datasets->textattack) (0.70.11.1)\n",
            "Requirement already satisfied: fsspec in /usr/local/lib/python3.7/dist-packages (from datasets->textattack) (2021.4.0)\n",
            "Requirement already satisfied: joblib in /usr/local/lib/python3.7/dist-packages (from nltk->textattack) (1.0.1)\n",
            "Requirement already satisfied: click in /usr/local/lib/python3.7/dist-packages (from nltk->textattack) (7.1.2)\n",
            "Requirement already satisfied: tokenizers<0.11,>=0.10.1 in /usr/local/lib/python3.7/dist-packages (from transformers>=3.3.0->textattack) (0.10.2)\n",
            "Requirement already satisfied: sacremoses in /usr/local/lib/python3.7/dist-packages (from transformers>=3.3.0->textattack) (0.0.45)\n",
            "Requirement already satisfied: typing-extensions in /usr/local/lib/python3.7/dist-packages (from torch->textattack) (3.7.4.3)\n",
            "Requirement already satisfied: urllib3!=1.25.0,!=1.25.1,<1.26,>=1.21.1 in /usr/local/lib/python3.7/dist-packages (from requests->language-tool-python->textattack) (1.24.3)\n",
            "Requirement already satisfied: certifi>=2017.4.17 in /usr/local/lib/python3.7/dist-packages (from requests->language-tool-python->textattack) (2020.12.5)\n",
            "Requirement already satisfied: chardet<4,>=3.0.2 in /usr/local/lib/python3.7/dist-packages (from requests->language-tool-python->textattack) (3.0.4)\n",
            "Requirement already satisfied: idna<3,>=2.5 in /usr/local/lib/python3.7/dist-packages (from requests->language-tool-python->textattack) (2.10)\n",
            "Requirement already satisfied: kiwisolver>=1.0.1 in /usr/local/lib/python3.7/dist-packages (from matplotlib->bert-score>=0.3.5->textattack) (1.3.1)\n",
            "Requirement already satisfied: pyparsing!=2.0.4,!=2.1.2,!=2.1.6,>=2.0.1 in /usr/local/lib/python3.7/dist-packages (from matplotlib->bert-score>=0.3.5->textattack) (2.4.7)\n",
            "Requirement already satisfied: cycler>=0.10 in /usr/local/lib/python3.7/dist-packages (from matplotlib->bert-score>=0.3.5->textattack) (0.10.0)\n",
            "Requirement already satisfied: six>=1.5 in /usr/local/lib/python3.7/dist-packages (from python-dateutil>=2.7.3->pandas>=1.0.1->textattack) (1.15.0)\n",
            "Requirement already satisfied: wrapt<2,>=1.10 in /usr/local/lib/python3.7/dist-packages (from deprecated>=1.2.4->flair==0.6.1.post1->textattack) (1.12.1)\n",
            "Requirement already satisfied: overrides<4.0.0,>=3.0.0 in /usr/local/lib/python3.7/dist-packages (from konoha<5.0.0,>=4.0.0->flair==0.6.1.post1->textattack) (3.1.0)\n",
            "Requirement already satisfied: pymongo in /usr/local/lib/python3.7/dist-packages (from hyperopt>=0.1.1->flair==0.6.1.post1->textattack) (3.11.3)\n",
            "Requirement already satisfied: networkx in /usr/local/lib/python3.7/dist-packages (from hyperopt>=0.1.1->flair==0.6.1.post1->textattack) (2.5.1)\n",
            "Requirement already satisfied: future in /usr/local/lib/python3.7/dist-packages (from hyperopt>=0.1.1->flair==0.6.1.post1->textattack) (0.16.0)\n",
            "Requirement already satisfied: smart-open>=1.8.1 in /usr/local/lib/python3.7/dist-packages (from gensim>=3.4.0->flair==0.6.1.post1->textattack) (5.0.0)\n",
            "Requirement already satisfied: wcwidth in /usr/local/lib/python3.7/dist-packages (from ftfy->flair==0.6.1.post1->textattack) (0.2.5)\n",
            "Requirement already satisfied: zipp>=0.5 in /usr/local/lib/python3.7/dist-packages (from importlib-metadata; python_version < \"3.8\"->datasets->textattack) (3.4.1)\n",
            "Requirement already satisfied: decorator<5,>=4.3 in /usr/local/lib/python3.7/dist-packages (from networkx->hyperopt>=0.1.1->flair==0.6.1.post1->textattack) (4.4.2)\n"
          ],
          "name": "stdout"
        }
      ]
    },
    {
      "cell_type": "code",
      "metadata": {
        "id": "2HvizblyaVeQ",
        "colab": {
          "base_uri": "https://localhost:8080/"
        },
        "outputId": "6a6dc5e2-c697-491e-e93e-eeb21aa04ca3"
      },
      "source": [
        "!pip install -U gensim==4.0.0"
      ],
      "execution_count": null,
      "outputs": [
        {
          "output_type": "stream",
          "text": [
            "Requirement already up-to-date: gensim==4.0.0 in /usr/local/lib/python3.7/dist-packages (4.0.0)\n",
            "Requirement already satisfied, skipping upgrade: scipy>=0.18.1 in /usr/local/lib/python3.7/dist-packages (from gensim==4.0.0) (1.4.1)\n",
            "Requirement already satisfied, skipping upgrade: smart-open>=1.8.1 in /usr/local/lib/python3.7/dist-packages (from gensim==4.0.0) (5.0.0)\n",
            "Requirement already satisfied, skipping upgrade: numpy>=1.11.3 in /usr/local/lib/python3.7/dist-packages (from gensim==4.0.0) (1.18.5)\n"
          ],
          "name": "stdout"
        }
      ]
    },
    {
      "cell_type": "code",
      "metadata": {
        "id": "pX6CUYORZI7R",
        "colab": {
          "base_uri": "https://localhost:8080/"
        },
        "outputId": "9d28f563-00b2-40aa-934b-64741ee60378"
      },
      "source": [
        "import gensim.downloader as api\n",
        "corpus = api.load('text8')\n",
        "from gensim.models.fasttext import FastText\n",
        "model1 = FastText(corpus)"
      ],
      "execution_count": null,
      "outputs": [
        {
          "output_type": "stream",
          "text": [
            "/usr/local/lib/python3.7/dist-packages/gensim/similarities/__init__.py:15: UserWarning: The gensim.similarities.levenshtein submodule is disabled, because the optional Levenshtein package <https://pypi.org/project/python-Levenshtein/> is unavailable. Install Levenhstein (e.g. `pip install python-Levenshtein`) to suppress this warning.\n",
            "  warnings.warn(msg)\n"
          ],
          "name": "stderr"
        },
        {
          "output_type": "stream",
          "text": [
            "[==================================================] 100.0% 31.6/31.6MB downloaded\n"
          ],
          "name": "stdout"
        }
      ]
    },
    {
      "cell_type": "code",
      "metadata": {
        "id": "bEn5E7CXTxbJ"
      },
      "source": [
        "from gensim.models.word2vec import Word2Vec\n",
        "model2 = Word2Vec(corpus)"
      ],
      "execution_count": null,
      "outputs": []
    },
    {
      "cell_type": "code",
      "metadata": {
        "id": "KFo7IrI-jxqV"
      },
      "source": [
        "'''!pip install fasttext\n",
        "!wget https://dumps.wikimedia.org/enwiki/latest/enwiki-latest-pages-articles.xml.bz2\n",
        "!mkdir data\n",
        "!wget -c http://mattmahoney.net/dc/enwik9.zip -P data\n",
        "!unzip data/enwik9.zip -d data\n",
        "!perl wikifil.pl data/enwik9 > data/fil9\n",
        "!head -c 80 data/fil9'''"
      ],
      "execution_count": null,
      "outputs": []
    },
    {
      "cell_type": "code",
      "metadata": {
        "id": "6AJWPslbinsB"
      },
      "source": [
        "'''import fasttext\n",
        "model = fasttext.train_unsupervised('data/fil9')'''"
      ],
      "execution_count": null,
      "outputs": []
    },
    {
      "cell_type": "code",
      "metadata": {
        "id": "KjAsa2b5S5jz"
      },
      "source": [
        "'''import gensim\n",
        "model = gensim.models.KeyedVectors.load_word2vec_format('./drive/MyDrive/wiki-news-300d-1M-subword.vec')\n",
        "similar = model.most_similar(positive=['man'],topn=10)'''"
      ],
      "execution_count": null,
      "outputs": []
    },
    {
      "cell_type": "code",
      "metadata": {
        "colab": {
          "base_uri": "https://localhost:8080/"
        },
        "id": "eLx0jKHxa1o-",
        "outputId": "caf92838-b2d4-40c5-ed7a-9b7be0a11d7a"
      },
      "source": [
        "print(model1.wv.most_similar(positive=['cat']))\n",
        "print(model2.wv.most_similar(positive=['cat']))"
      ],
      "execution_count": null,
      "outputs": [
        {
          "output_type": "stream",
          "text": [
            "[('catnip', 0.864077091217041), ('catwalk', 0.8089081645011902), ('catchy', 0.791682243347168), ('tomcat', 0.783934473991394), ('caveat', 0.782516360282898), ('bobcat', 0.7743992209434509), ('muscat', 0.7740746140480042), ('caf', 0.7704710364341736), ('moat', 0.7674577236175537), ('catfish', 0.764030396938324)]\n",
            "[('dog', 0.8480975031852722), ('ass', 0.8097784519195557), ('pig', 0.7805290222167969), ('bee', 0.7713808417320251), ('hamster', 0.76572185754776), ('goat', 0.7572160363197327), ('bird', 0.7534515857696533), ('blonde', 0.7459284067153931), ('cow', 0.7334691286087036), ('pet', 0.7326641082763672)]\n"
          ],
          "name": "stdout"
        }
      ]
    },
    {
      "cell_type": "code",
      "metadata": {
        "colab": {
          "base_uri": "https://localhost:8080/"
        },
        "id": "sJVWW9s7XG8r",
        "outputId": "447a0e66-0e93-4485-e873-0cfaf3fe1f40"
      },
      "source": [
        "print(model1.wv.most_similar(positive=['should']))\n",
        "print(model2.wv.most_similar(positive=['should']))"
      ],
      "execution_count": null,
      "outputs": [
        {
          "output_type": "stream",
          "text": [
            "[('ould', 0.9274786710739136), ('could', 0.9151180982589722), ('must', 0.9023160338401794), ('shouldn', 0.9019829034805298), ('mould', 0.8930110931396484), ('gould', 0.89240562915802), ('would', 0.8678963780403137), ('will', 0.8663672208786011), ('might', 0.835799515247345), ('can', 0.8297219276428223)]\n",
            "[('must', 0.8945703506469727), ('could', 0.8524012565612793), ('might', 0.8352087140083313), ('will', 0.8295758962631226), ('cannot', 0.8116617202758789), ('would', 0.803212583065033), ('can', 0.7983443140983582), ('may', 0.7895328402519226), ('shall', 0.7794409990310669), ('ought', 0.6562421917915344)]\n"
          ],
          "name": "stdout"
        }
      ]
    },
    {
      "cell_type": "code",
      "metadata": {
        "colab": {
          "base_uri": "https://localhost:8080/"
        },
        "id": "SdMzwxOlZZZf",
        "outputId": "f2d74836-726d-4405-cc51-1e4bb8b3b379"
      },
      "source": [
        "from google.colab import drive\n",
        "drive.mount('/content/drive')"
      ],
      "execution_count": null,
      "outputs": [
        {
          "output_type": "stream",
          "text": [
            "Drive already mounted at /content/drive; to attempt to forcibly remount, call drive.mount(\"/content/drive\", force_remount=True).\n"
          ],
          "name": "stdout"
        }
      ]
    },
    {
      "cell_type": "code",
      "metadata": {
        "id": "_6KI0ZaDXT3u"
      },
      "source": [
        "from gensim.test.utils import get_tmpfile\n",
        "fname = get_tmpfile(\"/content/drive/MyDrive/fasttext\")\n",
        "\n",
        "model1.save(fname)"
      ],
      "execution_count": null,
      "outputs": []
    },
    {
      "cell_type": "code",
      "metadata": {
        "id": "69vzXAiPaQ6A"
      },
      "source": [
        "from gensim.models.fasttext import FastText\n",
        "from gensim.test.utils import get_tmpfile\n",
        "fname = get_tmpfile(\"/content/drive/MyDrive/fasttext\")\n",
        "model1 = FastText.load(fname)"
      ],
      "execution_count": null,
      "outputs": []
    },
    {
      "cell_type": "code",
      "metadata": {
        "id": "CFrHLWXFZuJz"
      },
      "source": [
        "from gensim.test.utils import get_tmpfile\n",
        "fname1 = get_tmpfile(\"/content/drive/MyDrive/word2vec\")\n",
        "\n",
        "model2.save(fname1)"
      ],
      "execution_count": null,
      "outputs": []
    },
    {
      "cell_type": "code",
      "metadata": {
        "id": "rCV4IH9JaUwq"
      },
      "source": [
        "from gensim.models.word2vec import Word2Vec\n",
        "from gensim.test.utils import get_tmpfile\n",
        "fname1 = get_tmpfile(\"/content/drive/MyDrive/word2vec\")\n",
        "model2 = Word2Vec.load(fname1)"
      ],
      "execution_count": null,
      "outputs": []
    },
    {
      "cell_type": "code",
      "metadata": {
        "colab": {
          "base_uri": "https://localhost:8080/"
        },
        "id": "EbRdy8Hxai1C",
        "outputId": "e7c28b07-bda5-48d8-e258-21b82b3f6919"
      },
      "source": [
        "print(model1.wv.most_similar(positive=['cat']))\n",
        "print(model2.wv.most_similar(positive=['cat']))"
      ],
      "execution_count": null,
      "outputs": [
        {
          "output_type": "stream",
          "text": [
            "[('catnip', 0.864077091217041), ('catwalk', 0.8089081645011902), ('catchy', 0.791682243347168), ('tomcat', 0.783934473991394), ('caveat', 0.782516360282898), ('bobcat', 0.7743992209434509), ('muscat', 0.7740746140480042), ('caf', 0.7704710364341736), ('moat', 0.7674577236175537), ('catfish', 0.764030396938324)]\n",
            "[('dog', 0.8480975031852722), ('ass', 0.8097784519195557), ('pig', 0.7805290222167969), ('bee', 0.7713808417320251), ('hamster', 0.76572185754776), ('goat', 0.7572160363197327), ('bird', 0.7534515857696533), ('blonde', 0.7459284067153931), ('cow', 0.7334691286087036), ('pet', 0.7326641082763672)]\n"
          ],
          "name": "stdout"
        }
      ]
    },
    {
      "cell_type": "code",
      "metadata": {
        "id": "rHJKpChOZByK"
      },
      "source": [
        "# Import the model\n",
        "import transformers\n",
        "from textattack.models.tokenizers import AutoTokenizer\n",
        "from textattack.models.wrappers import HuggingFaceModelWrapper\n",
        "\n",
        "model = transformers.AutoModelForSequenceClassification.from_pretrained(\"textattack/bert-base-uncased-ag-news\")\n",
        "tokenizer = AutoTokenizer(\"textattack/bert-base-uncased-ag-news\")\n",
        "\n",
        "model_wrapper = HuggingFaceModelWrapper(model, tokenizer)"
      ],
      "execution_count": null,
      "outputs": []
    },
    {
      "cell_type": "code",
      "metadata": {
        "id": "2y8bHtgp6QWf"
      },
      "source": [
        "'''import logging\n",
        "logging.basicConfig(format='%(asctime)s : %(levelname)s : %(message)s', level=logging.INFO)\n",
        "\n",
        "from pprint import pprint as print\n",
        "from gensim.models.fasttext import FastText\n",
        "from gensim.test.utils import datapath\n",
        "\n",
        "# Set file names for train and test data\n",
        "corpus_file = datapath('lee_background.cor')\n",
        "\n",
        "model1 = FastText(vector_size=100)\n",
        "\n",
        "# build the vocabulary\n",
        "model1.build_vocab(corpus_file=corpus_file)\n",
        "\n",
        "# train the model\n",
        "model1.train(\n",
        "    corpus_file=corpus_file, epochs=10,\n",
        "    total_examples=model1.corpus_count, total_words=model1.corpus_total_words,\n",
        ")'''"
      ],
      "execution_count": null,
      "outputs": []
    },
    {
      "cell_type": "code",
      "metadata": {
        "id": "hv_-nMrzZLDs",
        "colab": {
          "base_uri": "https://localhost:8080/"
        },
        "outputId": "c366f7e1-61e7-4117-ef28-b5f24e68d20f"
      },
      "source": [
        "print([model1.wv.most_similar(positive=['science'])[0][0]])\n",
        "print([model2.wv.most_similar(positive=['science'])[0][0]])"
      ],
      "execution_count": null,
      "outputs": [
        {
          "output_type": "stream",
          "text": [
            "['geoscience']\n",
            "['psychology']\n"
          ],
          "name": "stdout"
        }
      ]
    },
    {
      "cell_type": "code",
      "metadata": {
        "colab": {
          "base_uri": "https://localhost:8080/",
          "height": 358
        },
        "id": "LikFPi4Rd4pz",
        "outputId": "6a484ba4-ad4e-4b18-f4e4-18c786efa119"
      },
      "source": [
        "print([model1.wv.most_similar(positive=['Fears'])[0][0]])\n",
        "print([model2.wv.most_similar(positive=['Fears'])[0][0]])"
      ],
      "execution_count": null,
      "outputs": [
        {
          "output_type": "stream",
          "text": [
            "['gears']\n"
          ],
          "name": "stdout"
        },
        {
          "output_type": "error",
          "ename": "KeyError",
          "evalue": "ignored",
          "traceback": [
            "\u001b[0;31m---------------------------------------------------------------------------\u001b[0m",
            "\u001b[0;31mKeyError\u001b[0m                                  Traceback (most recent call last)",
            "\u001b[0;32m<ipython-input-93-1c965b45cc3f>\u001b[0m in \u001b[0;36m<module>\u001b[0;34m()\u001b[0m\n\u001b[1;32m      1\u001b[0m \u001b[0mprint\u001b[0m\u001b[0;34m(\u001b[0m\u001b[0;34m[\u001b[0m\u001b[0mmodel1\u001b[0m\u001b[0;34m.\u001b[0m\u001b[0mwv\u001b[0m\u001b[0;34m.\u001b[0m\u001b[0mmost_similar\u001b[0m\u001b[0;34m(\u001b[0m\u001b[0mpositive\u001b[0m\u001b[0;34m=\u001b[0m\u001b[0;34m[\u001b[0m\u001b[0;34m'Fears'\u001b[0m\u001b[0;34m]\u001b[0m\u001b[0;34m)\u001b[0m\u001b[0;34m[\u001b[0m\u001b[0;36m0\u001b[0m\u001b[0;34m]\u001b[0m\u001b[0;34m[\u001b[0m\u001b[0;36m0\u001b[0m\u001b[0;34m]\u001b[0m\u001b[0;34m]\u001b[0m\u001b[0;34m)\u001b[0m\u001b[0;34m\u001b[0m\u001b[0;34m\u001b[0m\u001b[0m\n\u001b[0;32m----> 2\u001b[0;31m \u001b[0mprint\u001b[0m\u001b[0;34m(\u001b[0m\u001b[0;34m[\u001b[0m\u001b[0mmodel2\u001b[0m\u001b[0;34m.\u001b[0m\u001b[0mwv\u001b[0m\u001b[0;34m.\u001b[0m\u001b[0mmost_similar\u001b[0m\u001b[0;34m(\u001b[0m\u001b[0mpositive\u001b[0m\u001b[0;34m=\u001b[0m\u001b[0;34m[\u001b[0m\u001b[0;34m'Fears'\u001b[0m\u001b[0;34m]\u001b[0m\u001b[0;34m)\u001b[0m\u001b[0;34m[\u001b[0m\u001b[0;36m0\u001b[0m\u001b[0;34m]\u001b[0m\u001b[0;34m[\u001b[0m\u001b[0;36m0\u001b[0m\u001b[0;34m]\u001b[0m\u001b[0;34m]\u001b[0m\u001b[0;34m)\u001b[0m\u001b[0;34m\u001b[0m\u001b[0;34m\u001b[0m\u001b[0m\n\u001b[0m",
            "\u001b[0;32m/usr/local/lib/python3.7/dist-packages/gensim/models/keyedvectors.py\u001b[0m in \u001b[0;36mmost_similar\u001b[0;34m(self, positive, negative, topn, clip_start, clip_end, restrict_vocab, indexer)\u001b[0m\n\u001b[1;32m    760\u001b[0m                 \u001b[0mmean\u001b[0m\u001b[0;34m.\u001b[0m\u001b[0mappend\u001b[0m\u001b[0;34m(\u001b[0m\u001b[0mweight\u001b[0m \u001b[0;34m*\u001b[0m \u001b[0mkey\u001b[0m\u001b[0;34m)\u001b[0m\u001b[0;34m\u001b[0m\u001b[0;34m\u001b[0m\u001b[0m\n\u001b[1;32m    761\u001b[0m             \u001b[0;32melse\u001b[0m\u001b[0;34m:\u001b[0m\u001b[0;34m\u001b[0m\u001b[0;34m\u001b[0m\u001b[0m\n\u001b[0;32m--> 762\u001b[0;31m                 \u001b[0mmean\u001b[0m\u001b[0;34m.\u001b[0m\u001b[0mappend\u001b[0m\u001b[0;34m(\u001b[0m\u001b[0mweight\u001b[0m \u001b[0;34m*\u001b[0m \u001b[0mself\u001b[0m\u001b[0;34m.\u001b[0m\u001b[0mget_vector\u001b[0m\u001b[0;34m(\u001b[0m\u001b[0mkey\u001b[0m\u001b[0;34m,\u001b[0m \u001b[0mnorm\u001b[0m\u001b[0;34m=\u001b[0m\u001b[0;32mTrue\u001b[0m\u001b[0;34m)\u001b[0m\u001b[0;34m)\u001b[0m\u001b[0;34m\u001b[0m\u001b[0;34m\u001b[0m\u001b[0m\n\u001b[0m\u001b[1;32m    763\u001b[0m                 \u001b[0;32mif\u001b[0m \u001b[0mself\u001b[0m\u001b[0;34m.\u001b[0m\u001b[0mhas_index_for\u001b[0m\u001b[0;34m(\u001b[0m\u001b[0mkey\u001b[0m\u001b[0;34m)\u001b[0m\u001b[0;34m:\u001b[0m\u001b[0;34m\u001b[0m\u001b[0;34m\u001b[0m\u001b[0m\n\u001b[1;32m    764\u001b[0m                     \u001b[0mall_keys\u001b[0m\u001b[0;34m.\u001b[0m\u001b[0madd\u001b[0m\u001b[0;34m(\u001b[0m\u001b[0mself\u001b[0m\u001b[0;34m.\u001b[0m\u001b[0mget_index\u001b[0m\u001b[0;34m(\u001b[0m\u001b[0mkey\u001b[0m\u001b[0;34m)\u001b[0m\u001b[0;34m)\u001b[0m\u001b[0;34m\u001b[0m\u001b[0;34m\u001b[0m\u001b[0m\n",
            "\u001b[0;32m/usr/local/lib/python3.7/dist-packages/gensim/models/keyedvectors.py\u001b[0m in \u001b[0;36mget_vector\u001b[0;34m(self, key, norm)\u001b[0m\n\u001b[1;32m    420\u001b[0m \u001b[0;34m\u001b[0m\u001b[0m\n\u001b[1;32m    421\u001b[0m         \"\"\"\n\u001b[0;32m--> 422\u001b[0;31m         \u001b[0mindex\u001b[0m \u001b[0;34m=\u001b[0m \u001b[0mself\u001b[0m\u001b[0;34m.\u001b[0m\u001b[0mget_index\u001b[0m\u001b[0;34m(\u001b[0m\u001b[0mkey\u001b[0m\u001b[0;34m)\u001b[0m\u001b[0;34m\u001b[0m\u001b[0;34m\u001b[0m\u001b[0m\n\u001b[0m\u001b[1;32m    423\u001b[0m         \u001b[0;32mif\u001b[0m \u001b[0mnorm\u001b[0m\u001b[0;34m:\u001b[0m\u001b[0;34m\u001b[0m\u001b[0;34m\u001b[0m\u001b[0m\n\u001b[1;32m    424\u001b[0m             \u001b[0mself\u001b[0m\u001b[0;34m.\u001b[0m\u001b[0mfill_norms\u001b[0m\u001b[0;34m(\u001b[0m\u001b[0;34m)\u001b[0m\u001b[0;34m\u001b[0m\u001b[0;34m\u001b[0m\u001b[0m\n",
            "\u001b[0;32m/usr/local/lib/python3.7/dist-packages/gensim/models/keyedvectors.py\u001b[0m in \u001b[0;36mget_index\u001b[0;34m(self, key, default)\u001b[0m\n\u001b[1;32m    394\u001b[0m             \u001b[0;32mreturn\u001b[0m \u001b[0mdefault\u001b[0m\u001b[0;34m\u001b[0m\u001b[0;34m\u001b[0m\u001b[0m\n\u001b[1;32m    395\u001b[0m         \u001b[0;32melse\u001b[0m\u001b[0;34m:\u001b[0m\u001b[0;34m\u001b[0m\u001b[0;34m\u001b[0m\u001b[0m\n\u001b[0;32m--> 396\u001b[0;31m             \u001b[0;32mraise\u001b[0m \u001b[0mKeyError\u001b[0m\u001b[0;34m(\u001b[0m\u001b[0;34mf\"Key '{key}' not present\"\u001b[0m\u001b[0;34m)\u001b[0m\u001b[0;34m\u001b[0m\u001b[0;34m\u001b[0m\u001b[0m\n\u001b[0m\u001b[1;32m    397\u001b[0m \u001b[0;34m\u001b[0m\u001b[0m\n\u001b[1;32m    398\u001b[0m     \u001b[0;32mdef\u001b[0m \u001b[0mget_vector\u001b[0m\u001b[0;34m(\u001b[0m\u001b[0mself\u001b[0m\u001b[0;34m,\u001b[0m \u001b[0mkey\u001b[0m\u001b[0;34m,\u001b[0m \u001b[0mnorm\u001b[0m\u001b[0;34m=\u001b[0m\u001b[0;32mFalse\u001b[0m\u001b[0;34m)\u001b[0m\u001b[0;34m:\u001b[0m\u001b[0;34m\u001b[0m\u001b[0;34m\u001b[0m\u001b[0m\n",
            "\u001b[0;31mKeyError\u001b[0m: \"Key 'Fears' not present\""
          ]
        }
      ]
    },
    {
      "cell_type": "code",
      "metadata": {
        "id": "-Jfy0PqnZQqP"
      },
      "source": [
        "from textattack.transformations import WordSwap\n",
        "#using fasttext similar word\n",
        "\n",
        "class Swapper(WordSwap):\n",
        "    \"\"\" Transforms an input by replacing any word with 'banana'.\n",
        "    \"\"\"\n",
        "\n",
        "    # We don't need a constructor, since our class doesn't require any parameters.\n",
        "\n",
        "    def _get_replacement_words(self, word):\n",
        "        \"\"\" Returns 'banana', no matter what 'word' was originally.\n",
        "\n",
        "            Returns a list with one item, since `_get_replacement_words` is intended to\n",
        "                return a list of candidate replacement words.\n",
        "        \"\"\"\n",
        "        return [model1.wv.most_similar(word)[0][0]]"
      ],
      "execution_count": null,
      "outputs": []
    },
    {
      "cell_type": "code",
      "metadata": {
        "id": "AZCo-YWScEBH"
      },
      "source": [
        "#using word2vec similar word\n",
        "\n",
        "class Swapper_(WordSwap):\n",
        "    \"\"\" Transforms an input by replacing any word with 'banana'.\n",
        "    \"\"\"\n",
        "\n",
        "    # We don't need a constructor, since our class doesn't require any parameters.\n",
        "\n",
        "    def _get_replacement_words(self, word):\n",
        "        \"\"\" Returns 'banana', no matter what 'word' was originally.\n",
        "\n",
        "            Returns a list with one item, since `_get_replacement_words` is intended to\n",
        "                return a list of candidate replacement words.\n",
        "        \"\"\"\n",
        "        if word in model2.wv.key_to_index:\n",
        "          return [model2.wv.most_similar(word)[0][0]]\n",
        "        else:\n",
        "          return [word]"
      ],
      "execution_count": null,
      "outputs": []
    },
    {
      "cell_type": "code",
      "metadata": {
        "id": "NZnnDcpFZVGc",
        "colab": {
          "base_uri": "https://localhost:8080/"
        },
        "outputId": "32210461-0647-46c9-de14-8aa62deb02a3"
      },
      "source": [
        "from textattack.search_methods import GreedySearch\n",
        "from textattack.constraints.pre_transformation import RepeatModification, StopwordModification\n",
        "from textattack.shared import Attack\n",
        "from textattack.goal_functions import UntargetedClassification\n",
        "from textattack.datasets import HuggingFaceDataset\n",
        "\n",
        "# We're going to use our word swap class as the attack transformation.\n",
        "transformation = Swapper()\n",
        "# We'll constrain modification of already modified indices and stopwords\n",
        "constraints = [RepeatModification(),\n",
        "               StopwordModification()]\n",
        "# We'll use the Greedy search method\n",
        "search_method = GreedySearch()\n",
        "# Create the goal function using the model\n",
        "\n",
        "goal_function = UntargetedClassification(model_wrapper)\n",
        "\n",
        "# Now, let's make the attack from the 4 components:\n",
        "attack = Attack(goal_function, constraints, transformation, search_method)\n",
        "\n",
        "dataset = HuggingFaceDataset(\"ag_news\", None, \"test\")"
      ],
      "execution_count": null,
      "outputs": [
        {
          "output_type": "stream",
          "text": [
            "\u001b[34;1mtextattack\u001b[0m: Unknown if model of class <class 'transformers.models.bert.modeling_bert.BertForSequenceClassification'> compatible with goal function <class 'textattack.goal_functions.classification.untargeted_classification.UntargetedClassification'>.\n",
            "Using custom data configuration default\n",
            "Reusing dataset ag_news (/root/.cache/huggingface/datasets/ag_news/default/0.0.0/0eeeaaa5fb6dffd81458e293dfea1adba2881ffcbdc3fb56baeb5a892566c29a)\n",
            "\u001b[34;1mtextattack\u001b[0m: Loading \u001b[94mdatasets\u001b[0m dataset \u001b[94mag_news\u001b[0m, split \u001b[94mtest\u001b[0m.\n"
          ],
          "name": "stderr"
        }
      ]
    },
    {
      "cell_type": "code",
      "metadata": {
        "colab": {
          "base_uri": "https://localhost:8080/"
        },
        "id": "Mxjp9fH1Au3Y",
        "outputId": "a4b9b769-d0a4-43e4-a1fc-b1aa30f8da51"
      },
      "source": [
        "print(attack)"
      ],
      "execution_count": null,
      "outputs": [
        {
          "output_type": "stream",
          "text": [
            "Attack(\n",
            "  (search_method): GreedySearch\n",
            "  (goal_function):  UntargetedClassification\n",
            "  (transformation):  Swapper\n",
            "  (constraints): \n",
            "    (0): RepeatModification\n",
            "    (1): StopwordModification\n",
            "  (is_black_box):  True\n",
            ")\n"
          ],
          "name": "stdout"
        }
      ]
    },
    {
      "cell_type": "code",
      "metadata": {
        "colab": {
          "base_uri": "https://localhost:8080/",
          "height": 1000
        },
        "id": "R7FBaqkHAm7D",
        "outputId": "26beb68a-d403-491a-ae58-34fefa90a887"
      },
      "source": [
        "from collections import deque\n",
        "\n",
        "import textattack\n",
        "import tqdm\n",
        "import time\n",
        "from IPython.display import display, HTML\n",
        "num_examples = 10\n",
        "num_remaining_attacks = num_examples\n",
        "pbar = tqdm.tqdm(total=num_remaining_attacks, smoothing=0)\n",
        "\n",
        "worklist = deque(range(0, num_examples))\n",
        "worklist_tail = worklist[-1]\n",
        "\n",
        "attack_log_manager = textattack.loggers.AttackLogManager()\n",
        "\n",
        "load_time = time.time()\n",
        "        \n",
        "num_results = 0\n",
        "num_failures = 0\n",
        "num_successes = 0\n",
        "for result in attack.attack_dataset(dataset, indices=worklist):\n",
        "    result_html_str = result.__str__(color_method=\"html\").replace(\"\\n\\n\", \"<br>\")\n",
        "    display(HTML(result_html_str))\n",
        "    attack_log_manager.log_result(result)\n",
        "            \n",
        "    if not isinstance(result, textattack.attack_results.SkippedAttackResult):\n",
        "        pbar.update(1)\n",
        "    else:\n",
        "        worklist_tail += 1\n",
        "        pbar.update(1)\n",
        "        worklist.append(worklist_tail)\n",
        "\n",
        "    num_results += 1\n",
        "\n",
        "    if (\n",
        "        type(result) == textattack.attack_results.SuccessfulAttackResult\n",
        "        or type(result) == textattack.attack_results.MaximizedAttackResult\n",
        "    ):\n",
        "        num_successes += 1\n",
        "                \n",
        "    if type(result) == textattack.attack_results.FailedAttackResult:\n",
        "        num_failures += 1\n",
        "    pbar.set_description(\n",
        "        \"[Succeeded / Failed / Total] {} / {} / {}\".format(\n",
        "            num_successes, num_failures, num_results\n",
        "        )\n",
        "    )\n",
        "\n",
        "pbar.close()\n",
        "\n",
        "attack_log_manager.enable_stdout()\n",
        "attack_log_manager.log_summary()\n",
        "attack_log_manager.flush()\n",
        "        \n",
        "textattack.shared.logger.info(f\"Attack time: {time.time() - load_time}s\")"
      ],
      "execution_count": null,
      "outputs": [
        {
          "output_type": "stream",
          "text": [
            "\r  0%|          | 0/10 [00:00<?, ?it/s]"
          ],
          "name": "stderr"
        },
        {
          "output_type": "display_data",
          "data": {
            "text/html": [
              "<font color = blue>Business (100%)</font> --> <font color = purple>Sci/tech (63%)</font><br>Fears for T <font color = blue>N</font> <font color = blue>pension</font> after talks Unions representing workers at Turner   <font color = blue>Newall</font> say they are 'disappointed' after talks with stricken parent firm Federal Mogul.<br>Fears for T <font color = purple>outgrabe</font> <font color = purple>suspension</font> after talks Unions representing workers at Turner   <font color = purple>sewall</font> say they are 'disappointed' after talks with stricken parent firm Federal Mogul."
            ],
            "text/plain": [
              "<IPython.core.display.HTML object>"
            ]
          },
          "metadata": {
            "tags": []
          }
        },
        {
          "output_type": "stream",
          "text": [
            "[Succeeded / Failed / Total] 1 / 0 / 1:  10%|█         | 1/10 [00:01<00:10,  1.22s/it]"
          ],
          "name": "stderr"
        },
        {
          "output_type": "display_data",
          "data": {
            "text/html": [
              "<font color = purple>Sci/tech (100%)</font> --> <font color = red>[FAILED]</font><br>The Race is On: Second Private Team Sets Launch Date for Human Spaceflight (SPACE.com) SPACE.com - TORONTO, Canada -- A second\\team of rocketeers competing for the  #36;10 million Ansari X Prize, a contest for\\privately funded suborbital space flight, has officially announced the first\\launch date for its manned rocket."
            ],
            "text/plain": [
              "<IPython.core.display.HTML object>"
            ]
          },
          "metadata": {
            "tags": []
          }
        },
        {
          "output_type": "stream",
          "text": [
            "[Succeeded / Failed / Total] 1 / 1 / 2:  20%|██        | 2/10 [00:17<01:09,  8.71s/it]"
          ],
          "name": "stderr"
        },
        {
          "output_type": "display_data",
          "data": {
            "text/html": [
              "<font color = purple>Sci/tech (100%)</font> --> <font color = red>[FAILED]</font><br>Ky. Company Wins Grant to Study Peptides (AP) AP - A company founded by a chemistry researcher at the University of Louisville won a grant to develop a method of producing better peptides, which are short chains of amino acids, the building blocks of proteins."
            ],
            "text/plain": [
              "<IPython.core.display.HTML object>"
            ]
          },
          "metadata": {
            "tags": []
          }
        },
        {
          "output_type": "stream",
          "text": [
            "[Succeeded / Failed / Total] 1 / 2 / 3:  30%|███       | 3/10 [00:25<00:58,  8.37s/it]"
          ],
          "name": "stderr"
        },
        {
          "output_type": "display_data",
          "data": {
            "text/html": [
              "<font color = purple>Sci/tech (100%)</font> --> <font color = green>Sports (61%)</font><br>Prediction <font color = purple>Unit</font> <font color = purple>Helps</font> Forecast <font color = purple>Wildfires</font> (AP) AP - <font color = purple>It's</font> barely dawn when Mike Fitzpatrick starts his shift with a blur of colorful maps, figures and endless charts, but already he knows what the day will bring. Lightning will strike in places he expects. <font color = purple>Winds</font> will <font color = purple>pick</font> up, <font color = purple>moist</font> places will dry and flames will roar.<br>Prediction <font color = green>nit</font> <font color = green>lps</font> Forecast <font color = green>fires</font> (AP) AP - <font color = green>yr</font> barely dawn when Mike Fitzpatrick starts his shift with a blur of colorful maps, figures and endless charts, but already he knows what the day will bring. Lightning will strike in places he expects. <font color = green>nds</font> will <font color = green>pickwick</font> up, <font color = green>hoist</font> places will dry and flames will roar."
            ],
            "text/plain": [
              "<IPython.core.display.HTML object>"
            ]
          },
          "metadata": {
            "tags": []
          }
        },
        {
          "output_type": "stream",
          "text": [
            "[Succeeded / Failed / Total] 2 / 2 / 4:  40%|████      | 4/10 [00:29<00:44,  7.34s/it]"
          ],
          "name": "stderr"
        },
        {
          "output_type": "display_data",
          "data": {
            "text/html": [
              "<font color = purple>Sci/tech (100%)</font> --> <font color = red>World (88%)</font><br><font color = purple>Calif</font>. <font color = purple>Aims</font> to <font color = purple>Limit</font> Farm-Related Smog (AP) AP - Southern California's <font color = purple>smog-fighting</font> agency went after <font color = purple>emissions</font> of the <font color = purple>bovine</font> variety Friday, adopting the nation's first rules to reduce air <font color = purple>pollution</font> from dairy cow manure.<br><font color = red>alif</font>. <font color = red>pms</font> to <font color = red>delimit</font> Farm-Related Smog (AP) AP - Southern California's <font color = red>bullfighting</font> agency went after <font color = red>omissions</font> of the <font color = red>glavine</font> variety Friday, adopting the nation's first rules to reduce air <font color = red>dilution</font> from dairy cow manure."
            ],
            "text/plain": [
              "<IPython.core.display.HTML object>"
            ]
          },
          "metadata": {
            "tags": []
          }
        },
        {
          "output_type": "stream",
          "text": [
            "[Succeeded / Failed / Total] 3 / 2 / 5:  50%|█████     | 5/10 [00:32<00:32,  6.48s/it]"
          ],
          "name": "stderr"
        },
        {
          "output_type": "display_data",
          "data": {
            "text/html": [
              "<font color = purple>Sci/tech (100%)</font> --> <font color = red>[FAILED]</font><br>Open Letter Against British Copyright Indoctrination in Schools The British Department for Education and Skills (DfES) recently launched a \"Music Manifesto\" campaign, with the ostensible intention of educating the next generation of British musicians. Unfortunately, they also teamed up with the music industry (EMI, and various artists) to make this popular. EMI has apparently negotiated their end well, so that children in our schools will now be indoctrinated about the illegality of downloading music.The ignorance and audacity of this got to me a little, so I wrote an open letter to the DfES about it. Unfortunately, it's pedantic, as I suppose you have to be when writing to goverment representatives. But I hope you find it useful, and perhaps feel inspired to do something similar, if or when the same thing has happened in your area."
            ],
            "text/plain": [
              "<IPython.core.display.HTML object>"
            ]
          },
          "metadata": {
            "tags": []
          }
        },
        {
          "output_type": "stream",
          "text": [
            "[Succeeded / Failed / Total] 3 / 3 / 6:  60%|██████    | 6/10 [01:35<01:03, 15.93s/it]"
          ],
          "name": "stderr"
        },
        {
          "output_type": "display_data",
          "data": {
            "text/html": [
              "<font color = purple>Sci/tech (100%)</font> --> <font color = red>[FAILED]</font><br>Loosing the War on Terrorism \\\\\"Sven Jaschan, self-confessed author of the Netsky and Sasser viruses, is\\responsible for 70 percent of virus infections in 2004, according to a six-month\\virus roundup published Wednesday by antivirus company Sophos.\"\\\\\"The 18-year-old Jaschan was taken into custody in Germany in May by police who\\said he had admitted programming both the Netsky and Sasser worms, something\\experts at Microsoft confirmed. (A Microsoft antivirus reward program led to the\\teenager's arrest.) During the five months preceding Jaschan's capture, there\\were at least 25 variants of Netsky and one of the port-scanning network worm\\Sasser.\"\\\\\"Graham Cluley, senior technology consultant at Sophos, said it was staggeri ...\\\\"
            ],
            "text/plain": [
              "<IPython.core.display.HTML object>"
            ]
          },
          "metadata": {
            "tags": []
          }
        },
        {
          "output_type": "stream",
          "text": [
            "[Succeeded / Failed / Total] 3 / 4 / 7:  70%|███████   | 7/10 [02:33<01:05, 21.91s/it]"
          ],
          "name": "stderr"
        },
        {
          "output_type": "display_data",
          "data": {
            "text/html": [
              "<font color = purple>Sci/tech (100%)</font> --> <font color = red>[FAILED]</font><br>FOAFKey: FOAF, PGP, Key Distribution, and Bloom Filters \\\\FOAF/LOAF  and bloom filters have a lot of interesting properties for social\\network and whitelist distribution.\\\\I think we can go one level higher though and include GPG/OpenPGP key\\fingerpring distribution in the FOAF file for simple web-of-trust based key\\distribution.\\\\What if we used FOAF and included the PGP key fingerprint(s) for identities?\\This could mean a lot.  You include the PGP key fingerprints within the FOAF\\file of your direct friends and then include a bloom filter of the PGP key\\fingerprints of your entire whitelist (the source FOAF file would of course need\\to be encrypted ).\\\\Your whitelist would be populated from the social network as your client\\discovered new identit ...\\\\"
            ],
            "text/plain": [
              "<IPython.core.display.HTML object>"
            ]
          },
          "metadata": {
            "tags": []
          }
        },
        {
          "output_type": "stream",
          "text": [
            "[Succeeded / Failed / Total] 3 / 5 / 8:  80%|████████  | 8/10 [03:51<00:57, 28.93s/it]"
          ],
          "name": "stderr"
        },
        {
          "output_type": "display_data",
          "data": {
            "text/html": [
              "<font color = purple>Sci/tech (98%)</font> --> <font color = red>World (80%)</font><br><font color = purple>E-mail</font> scam targets police chief Wiltshire Police warns about \"<font color = purple>phishing</font>\" after its <font color = purple>fraud</font> squad chief was targeted.<br><font color = red>qmail</font> scam targets police chief Wiltshire Police warns about \"<font color = red>vanishing</font>\" after its <font color = red>frau</font> squad chief was targeted."
            ],
            "text/plain": [
              "<IPython.core.display.HTML object>"
            ]
          },
          "metadata": {
            "tags": []
          }
        },
        {
          "output_type": "stream",
          "text": [
            "[Succeeded / Failed / Total] 4 / 5 / 9:  90%|█████████ | 9/10 [03:52<00:25, 25.79s/it]"
          ],
          "name": "stderr"
        },
        {
          "output_type": "display_data",
          "data": {
            "text/html": [
              "<font color = purple>Sci/tech (98%)</font> --> <font color = blue>Business (43%)</font><br>Card fraud unit nets 36,000 cards In its first two years, the UK's dedicated <font color = purple>card</font> fraud unit, has recovered 36,000 stolen cards and 171 arrests - and estimates it saved 65m.<br>Card fraud unit nets 36,000 cards In its first two years, the UK's dedicated <font color = blue>cardboard</font> fraud unit, has recovered 36,000 stolen cards and 171 arrests - and estimates it saved 65m."
            ],
            "text/plain": [
              "<IPython.core.display.HTML object>"
            ]
          },
          "metadata": {
            "tags": []
          }
        },
        {
          "output_type": "stream",
          "text": [
            "[Succeeded / Failed / Total] 5 / 5 / 10: 100%|██████████| 10/10 [03:52<00:00, 23.27s/it]"
          ],
          "name": "stderr"
        },
        {
          "output_type": "stream",
          "text": [
            "+-------------------------------+--------+\n",
            "| Attack Results                |        |\n",
            "+-------------------------------+--------+\n",
            "| Number of successful attacks: | 5      |\n",
            "| Number of failed attacks:     | 5      |\n",
            "| Number of skipped attacks:    | 0      |\n",
            "| Original accuracy:            | 100.0% |\n",
            "| Accuracy under attack:        | 50.0%  |\n",
            "| Attack success rate:          | 50.0%  |\n",
            "| Average perturbed word %:     | 13.39% |\n",
            "| Average num. words per input: | 63.0   |\n",
            "| Avg num queries:              | 1113.1 |\n",
            "+-------------------------------+--------+"
          ],
          "name": "stdout"
        },
        {
          "output_type": "stream",
          "text": [
            "\n",
            "\u001b[34;1mtextattack\u001b[0m: Attack time: 232.66640639305115s\n"
          ],
          "name": "stderr"
        }
      ]
    },
    {
      "cell_type": "code",
      "metadata": {
        "colab": {
          "base_uri": "https://localhost:8080/"
        },
        "id": "UhtEwGJjk2z2",
        "outputId": "8b1816e1-db5d-4c21-c138-b9ac765a5d48"
      },
      "source": [
        "from textattack.search_methods import GreedySearch\n",
        "from textattack.constraints.pre_transformation import RepeatModification, StopwordModification\n",
        "from textattack.shared import Attack\n",
        "from textattack.goal_functions import UntargetedClassification\n",
        "from textattack.datasets import HuggingFaceDataset\n",
        "\n",
        "# We're going to use our word swap class as the attack transformation.\n",
        "transformation = Swapper_()\n",
        "# We'll constrain modification of already modified indices and stopwords\n",
        "constraints = [RepeatModification(),\n",
        "               StopwordModification()]\n",
        "# We'll use the Greedy search method\n",
        "search_method = GreedySearch()\n",
        "# Create the goal function using the model\n",
        "\n",
        "goal_function = UntargetedClassification(model_wrapper)\n",
        "\n",
        "# Now, let's make the attack from the 4 components:\n",
        "attack = Attack(goal_function, constraints, transformation, search_method)\n",
        "\n",
        "dataset = HuggingFaceDataset(\"ag_news\", None, \"test\")"
      ],
      "execution_count": null,
      "outputs": [
        {
          "output_type": "stream",
          "text": [
            "\u001b[34;1mtextattack\u001b[0m: Unknown if model of class <class 'transformers.models.bert.modeling_bert.BertForSequenceClassification'> compatible with goal function <class 'textattack.goal_functions.classification.untargeted_classification.UntargetedClassification'>.\n",
            "Using custom data configuration default\n",
            "Reusing dataset ag_news (/root/.cache/huggingface/datasets/ag_news/default/0.0.0/0eeeaaa5fb6dffd81458e293dfea1adba2881ffcbdc3fb56baeb5a892566c29a)\n",
            "\u001b[34;1mtextattack\u001b[0m: Loading \u001b[94mdatasets\u001b[0m dataset \u001b[94mag_news\u001b[0m, split \u001b[94mtest\u001b[0m.\n"
          ],
          "name": "stderr"
        }
      ]
    },
    {
      "cell_type": "code",
      "metadata": {
        "colab": {
          "base_uri": "https://localhost:8080/"
        },
        "id": "jZT70ENcnESm",
        "outputId": "aa9ef6ed-402b-405c-b2b1-aba54d5c68fc"
      },
      "source": [
        "print(attack)"
      ],
      "execution_count": null,
      "outputs": [
        {
          "output_type": "stream",
          "text": [
            "Attack(\n",
            "  (search_method): GreedySearch\n",
            "  (goal_function):  UntargetedClassification\n",
            "  (transformation):  Swapper_\n",
            "  (constraints): \n",
            "    (0): RepeatModification\n",
            "    (1): StopwordModification\n",
            "  (is_black_box):  True\n",
            ")\n"
          ],
          "name": "stdout"
        }
      ]
    },
    {
      "cell_type": "code",
      "metadata": {
        "colab": {
          "base_uri": "https://localhost:8080/",
          "height": 1000
        },
        "id": "w4D6aDCYnRge",
        "outputId": "9717ae8e-146d-4f49-ab65-f0dc1c83fec0"
      },
      "source": [
        "from collections import deque\n",
        "\n",
        "import textattack\n",
        "import tqdm\n",
        "import time\n",
        "from IPython.display import display, HTML\n",
        "num_examples = 10\n",
        "num_remaining_attacks = num_examples\n",
        "pbar = tqdm.tqdm(total=num_remaining_attacks, smoothing=0)\n",
        "\n",
        "worklist = deque(range(0, num_examples))\n",
        "worklist_tail = worklist[-1]\n",
        "\n",
        "attack_log_manager = textattack.loggers.AttackLogManager()\n",
        "\n",
        "load_time = time.time()\n",
        "        \n",
        "num_results = 0\n",
        "num_failures = 0\n",
        "num_successes = 0\n",
        "for result in attack.attack_dataset(dataset, indices=worklist):\n",
        "    result_html_str = result.__str__(color_method=\"html\").replace(\"\\n\\n\", \"<br>\")\n",
        "    display(HTML(result_html_str))\n",
        "    attack_log_manager.log_result(result)\n",
        "            \n",
        "    if not isinstance(result, textattack.attack_results.SkippedAttackResult):\n",
        "        pbar.update(1)\n",
        "    else:\n",
        "        worklist_tail += 1\n",
        "        pbar.update(1)\n",
        "        worklist.append(worklist_tail)\n",
        "\n",
        "    num_results += 1\n",
        "\n",
        "    if (\n",
        "        type(result) == textattack.attack_results.SuccessfulAttackResult\n",
        "        or type(result) == textattack.attack_results.MaximizedAttackResult\n",
        "    ):\n",
        "        num_successes += 1\n",
        "                \n",
        "    if type(result) == textattack.attack_results.FailedAttackResult:\n",
        "        num_failures += 1\n",
        "    pbar.set_description(\n",
        "        \"[Succeeded / Failed / Total] {} / {} / {}\".format(\n",
        "            num_successes, num_failures, num_results\n",
        "        )\n",
        "    )\n",
        "\n",
        "pbar.close()\n",
        "\n",
        "attack_log_manager.enable_stdout()\n",
        "attack_log_manager.log_summary()\n",
        "attack_log_manager.flush()\n",
        "        \n",
        "textattack.shared.logger.info(f\"Attack time: {time.time() - load_time}s\")"
      ],
      "execution_count": null,
      "outputs": [
        {
          "output_type": "stream",
          "text": [
            "\n",
            "\n",
            "  0%|          | 0/10 [00:00<?, ?it/s]\u001b[A\u001b[A"
          ],
          "name": "stderr"
        },
        {
          "output_type": "display_data",
          "data": {
            "text/html": [
              "<font color = blue>Business (100%)</font> --> <font color = red>[FAILED]</font><br>Fears for T N pension after talks Unions representing workers at Turner   Newall say they are 'disappointed' after talks with stricken parent firm Federal Mogul."
            ],
            "text/plain": [
              "<IPython.core.display.HTML object>"
            ]
          },
          "metadata": {
            "tags": []
          }
        },
        {
          "output_type": "stream",
          "text": [
            "\n",
            "\n",
            " 10%|█         | 1/10 [00:00<00:08,  1.05it/s]\u001b[A\u001b[A\n",
            "\n",
            "[Succeeded / Failed / Total] 0 / 1 / 1:  10%|█         | 1/10 [00:00<00:08,  1.04it/s]\u001b[A\u001b[A"
          ],
          "name": "stderr"
        },
        {
          "output_type": "display_data",
          "data": {
            "text/html": [
              "<font color = purple>Sci/tech (100%)</font> --> <font color = red>[FAILED]</font><br>The Race is On: Second Private Team Sets Launch Date for Human Spaceflight (SPACE.com) SPACE.com - TORONTO, Canada -- A second\\team of rocketeers competing for the  #36;10 million Ansari X Prize, a contest for\\privately funded suborbital space flight, has officially announced the first\\launch date for its manned rocket."
            ],
            "text/plain": [
              "<IPython.core.display.HTML object>"
            ]
          },
          "metadata": {
            "tags": []
          }
        },
        {
          "output_type": "stream",
          "text": [
            "\n",
            "\n",
            "[Succeeded / Failed / Total] 0 / 1 / 1:  20%|██        | 2/10 [00:04<00:18,  2.33s/it]\u001b[A\u001b[A\n",
            "\n",
            "[Succeeded / Failed / Total] 0 / 2 / 2:  20%|██        | 2/10 [00:04<00:18,  2.34s/it]\u001b[A\u001b[A"
          ],
          "name": "stderr"
        },
        {
          "output_type": "display_data",
          "data": {
            "text/html": [
              "<font color = purple>Sci/tech (100%)</font> --> <font color = red>[FAILED]</font><br>Ky. Company Wins Grant to Study Peptides (AP) AP - A company founded by a chemistry researcher at the University of Louisville won a grant to develop a method of producing better peptides, which are short chains of amino acids, the building blocks of proteins."
            ],
            "text/plain": [
              "<IPython.core.display.HTML object>"
            ]
          },
          "metadata": {
            "tags": []
          }
        },
        {
          "output_type": "stream",
          "text": [
            "\n",
            "\n",
            "[Succeeded / Failed / Total] 0 / 2 / 2:  30%|███       | 3/10 [00:07<00:17,  2.55s/it]\u001b[A\u001b[A\n",
            "\n",
            "[Succeeded / Failed / Total] 0 / 3 / 3:  30%|███       | 3/10 [00:07<00:17,  2.55s/it]\u001b[A\u001b[A"
          ],
          "name": "stderr"
        },
        {
          "output_type": "display_data",
          "data": {
            "text/html": [
              "<font color = purple>Sci/tech (100%)</font> --> <font color = red>[FAILED]</font><br>Prediction Unit Helps Forecast Wildfires (AP) AP - It's barely dawn when Mike Fitzpatrick starts his shift with a blur of colorful maps, figures and endless charts, but already he knows what the day will bring. Lightning will strike in places he expects. Winds will pick up, moist places will dry and flames will roar."
            ],
            "text/plain": [
              "<IPython.core.display.HTML object>"
            ]
          },
          "metadata": {
            "tags": []
          }
        },
        {
          "output_type": "stream",
          "text": [
            "\n",
            "\n",
            "[Succeeded / Failed / Total] 0 / 3 / 3:  40%|████      | 4/10 [00:13<00:19,  3.26s/it]\u001b[A\u001b[A\n",
            "\n",
            "[Succeeded / Failed / Total] 0 / 4 / 4:  40%|████      | 4/10 [00:13<00:19,  3.26s/it]\u001b[A\u001b[A"
          ],
          "name": "stderr"
        },
        {
          "output_type": "display_data",
          "data": {
            "text/html": [
              "<font color = purple>Sci/tech (100%)</font> --> <font color = red>[FAILED]</font><br>Calif. Aims to Limit Farm-Related Smog (AP) AP - Southern California's smog-fighting agency went after emissions of the bovine variety Friday, adopting the nation's first rules to reduce air pollution from dairy cow manure."
            ],
            "text/plain": [
              "<IPython.core.display.HTML object>"
            ]
          },
          "metadata": {
            "tags": []
          }
        },
        {
          "output_type": "stream",
          "text": [
            "\n",
            "\n",
            "[Succeeded / Failed / Total] 0 / 4 / 4:  50%|█████     | 5/10 [00:15<00:15,  3.03s/it]\u001b[A\u001b[A\n",
            "\n",
            "[Succeeded / Failed / Total] 0 / 5 / 5:  50%|█████     | 5/10 [00:15<00:15,  3.03s/it]\u001b[A\u001b[A"
          ],
          "name": "stderr"
        },
        {
          "output_type": "display_data",
          "data": {
            "text/html": [
              "<font color = purple>Sci/tech (100%)</font> --> <font color = red>[FAILED]</font><br>Open Letter Against British Copyright Indoctrination in Schools The British Department for Education and Skills (DfES) recently launched a \"Music Manifesto\" campaign, with the ostensible intention of educating the next generation of British musicians. Unfortunately, they also teamed up with the music industry (EMI, and various artists) to make this popular. EMI has apparently negotiated their end well, so that children in our schools will now be indoctrinated about the illegality of downloading music.The ignorance and audacity of this got to me a little, so I wrote an open letter to the DfES about it. Unfortunately, it's pedantic, as I suppose you have to be when writing to goverment representatives. But I hope you find it useful, and perhaps feel inspired to do something similar, if or when the same thing has happened in your area."
            ],
            "text/plain": [
              "<IPython.core.display.HTML object>"
            ]
          },
          "metadata": {
            "tags": []
          }
        },
        {
          "output_type": "stream",
          "text": [
            "\n",
            "\n",
            "[Succeeded / Failed / Total] 0 / 5 / 5:  60%|██████    | 6/10 [00:41<00:27,  6.94s/it]\u001b[A\u001b[A\n",
            "\n",
            "[Succeeded / Failed / Total] 0 / 6 / 6:  60%|██████    | 6/10 [00:41<00:27,  6.94s/it]\u001b[A\u001b[A"
          ],
          "name": "stderr"
        },
        {
          "output_type": "display_data",
          "data": {
            "text/html": [
              "<font color = purple>Sci/tech (100%)</font> --> <font color = red>[FAILED]</font><br>Loosing the War on Terrorism \\\\\"Sven Jaschan, self-confessed author of the Netsky and Sasser viruses, is\\responsible for 70 percent of virus infections in 2004, according to a six-month\\virus roundup published Wednesday by antivirus company Sophos.\"\\\\\"The 18-year-old Jaschan was taken into custody in Germany in May by police who\\said he had admitted programming both the Netsky and Sasser worms, something\\experts at Microsoft confirmed. (A Microsoft antivirus reward program led to the\\teenager's arrest.) During the five months preceding Jaschan's capture, there\\were at least 25 variants of Netsky and one of the port-scanning network worm\\Sasser.\"\\\\\"Graham Cluley, senior technology consultant at Sophos, said it was staggeri ...\\\\"
            ],
            "text/plain": [
              "<IPython.core.display.HTML object>"
            ]
          },
          "metadata": {
            "tags": []
          }
        },
        {
          "output_type": "stream",
          "text": [
            "\n",
            "\n",
            "[Succeeded / Failed / Total] 0 / 6 / 6:  70%|███████   | 7/10 [00:56<00:24,  8.12s/it]\u001b[A\u001b[A\n",
            "\n",
            "[Succeeded / Failed / Total] 0 / 7 / 7:  70%|███████   | 7/10 [00:56<00:24,  8.12s/it]\u001b[A\u001b[A"
          ],
          "name": "stderr"
        },
        {
          "output_type": "display_data",
          "data": {
            "text/html": [
              "<font color = purple>Sci/tech (100%)</font> --> <font color = red>[FAILED]</font><br>FOAFKey: FOAF, PGP, Key Distribution, and Bloom Filters \\\\FOAF/LOAF  and bloom filters have a lot of interesting properties for social\\network and whitelist distribution.\\\\I think we can go one level higher though and include GPG/OpenPGP key\\fingerpring distribution in the FOAF file for simple web-of-trust based key\\distribution.\\\\What if we used FOAF and included the PGP key fingerprint(s) for identities?\\This could mean a lot.  You include the PGP key fingerprints within the FOAF\\file of your direct friends and then include a bloom filter of the PGP key\\fingerprints of your entire whitelist (the source FOAF file would of course need\\to be encrypted ).\\\\Your whitelist would be populated from the social network as your client\\discovered new identit ...\\\\"
            ],
            "text/plain": [
              "<IPython.core.display.HTML object>"
            ]
          },
          "metadata": {
            "tags": []
          }
        },
        {
          "output_type": "stream",
          "text": [
            "\n",
            "\n",
            "[Succeeded / Failed / Total] 0 / 7 / 7:  80%|████████  | 8/10 [01:30<00:22, 11.27s/it]\u001b[A\u001b[A\n",
            "\n",
            "[Succeeded / Failed / Total] 0 / 8 / 8:  80%|████████  | 8/10 [01:30<00:22, 11.27s/it]\u001b[A\u001b[A"
          ],
          "name": "stderr"
        },
        {
          "output_type": "display_data",
          "data": {
            "text/html": [
              "<font color = purple>Sci/tech (98%)</font> --> <font color = red>World (82%)</font><br>E-mail scam targets <font color = purple>police</font> chief Wiltshire Police warns about \"<font color = purple>phishing</font>\" after its fraud squad chief was targeted.<br>E-mail scam targets <font color = red>militia</font> chief Wiltshire Police warns about \"<font color = red>backpacking</font>\" after its fraud squad chief was targeted."
            ],
            "text/plain": [
              "<IPython.core.display.HTML object>"
            ]
          },
          "metadata": {
            "tags": []
          }
        },
        {
          "output_type": "stream",
          "text": [
            "\n",
            "\n",
            "[Succeeded / Failed / Total] 0 / 8 / 8:  90%|█████████ | 9/10 [01:30<00:10, 10.06s/it]\u001b[A\u001b[A\n",
            "\n",
            "[Succeeded / Failed / Total] 1 / 8 / 9:  90%|█████████ | 9/10 [01:30<00:10, 10.06s/it]\u001b[A\u001b[A"
          ],
          "name": "stderr"
        },
        {
          "output_type": "display_data",
          "data": {
            "text/html": [
              "<font color = purple>Sci/tech (98%)</font> --> <font color = blue>Business (82%)</font><br>Card fraud unit nets 36,000 cards In its first two years, the UK's dedicated <font color = purple>card</font> fraud unit, has recovered 36,000 stolen cards and 171 arrests - and estimates it saved 65m.<br>Card fraud unit nets 36,000 cards In its first two years, the UK's dedicated <font color = blue>cards</font> fraud unit, has recovered 36,000 stolen cards and 171 arrests - and estimates it saved 65m."
            ],
            "text/plain": [
              "<IPython.core.display.HTML object>"
            ]
          },
          "metadata": {
            "tags": []
          }
        },
        {
          "output_type": "stream",
          "text": [
            "\n",
            "\n",
            "[Succeeded / Failed / Total] 1 / 8 / 9: 100%|██████████| 10/10 [01:30<00:00,  9.09s/it]\u001b[A\u001b[A\n",
            "\n",
            "[Succeeded / Failed / Total] 2 / 8 / 10: 100%|██████████| 10/10 [01:30<00:00,  9.09s/it]"
          ],
          "name": "stderr"
        },
        {
          "output_type": "stream",
          "text": [
            "+-------------------------------+--------+\n",
            "| Attack Results                |        |\n",
            "+-------------------------------+--------+\n",
            "| Number of successful attacks: | 2      |\n",
            "| Number of failed attacks:     | 8      |\n",
            "| Number of skipped attacks:    | 0      |\n",
            "| Original accuracy:            | 100.0% |\n",
            "| Accuracy under attack:        | 80.0%  |\n",
            "| Attack success rate:          | 20.0%  |\n",
            "| Average perturbed word %:     | 7.44%  |\n",
            "| Average num. words per input: | 63.0   |\n",
            "| Avg num queries:              | 437.7  |\n",
            "+-------------------------------+--------+"
          ],
          "name": "stdout"
        },
        {
          "output_type": "stream",
          "text": [
            "\n",
            "\u001b[34;1mtextattack\u001b[0m: Attack time: 90.91300868988037s\n"
          ],
          "name": "stderr"
        }
      ]
    },
    {
      "cell_type": "code",
      "metadata": {
        "colab": {
          "base_uri": "https://localhost:8080/"
        },
        "id": "8EARCbjGqFd2",
        "outputId": "e4a6abdd-45ca-40aa-9bb7-0ec4fc2e1090"
      },
      "source": [
        "from textattack.search_methods import GreedyWordSwapWIR\n",
        "from textattack.constraints.overlap import LevenshteinEditDistance\n",
        "from textattack.shared import Attack\n",
        "from textattack.goal_functions import UntargetedClassification\n",
        "from textattack.datasets import HuggingFaceDataset\n",
        "\n",
        "# We're going to use our word swap class as the attack transformation.\n",
        "transformation = Swapper()\n",
        "# We'll constrain modification of already modified indices and stopwords\n",
        "constraints = [LevenshteinEditDistance(10)]\n",
        "# We'll use the Greedy search method\n",
        "search_method = GreedyWordSwapWIR()\n",
        "# Create the goal function using the model\n",
        "\n",
        "goal_function = UntargetedClassification(model_wrapper)\n",
        "\n",
        "# Now, let's make the attack from the 4 components:\n",
        "attack = Attack(goal_function, constraints, transformation, search_method)\n",
        "\n",
        "dataset = HuggingFaceDataset(\"ag_news\", None, \"test\")"
      ],
      "execution_count": null,
      "outputs": [
        {
          "output_type": "stream",
          "text": [
            "\u001b[34;1mtextattack\u001b[0m: Unknown if model of class <class 'transformers.models.bert.modeling_bert.BertForSequenceClassification'> compatible with goal function <class 'textattack.goal_functions.classification.untargeted_classification.UntargetedClassification'>.\n",
            "Using custom data configuration default\n",
            "Reusing dataset ag_news (/root/.cache/huggingface/datasets/ag_news/default/0.0.0/0eeeaaa5fb6dffd81458e293dfea1adba2881ffcbdc3fb56baeb5a892566c29a)\n",
            "\u001b[34;1mtextattack\u001b[0m: Loading \u001b[94mdatasets\u001b[0m dataset \u001b[94mag_news\u001b[0m, split \u001b[94mtest\u001b[0m.\n"
          ],
          "name": "stderr"
        }
      ]
    },
    {
      "cell_type": "code",
      "metadata": {
        "colab": {
          "base_uri": "https://localhost:8080/"
        },
        "id": "OW6Ngoo1qptm",
        "outputId": "acbfe546-fa85-4170-a580-03113374894b"
      },
      "source": [
        "print(attack)"
      ],
      "execution_count": null,
      "outputs": [
        {
          "output_type": "stream",
          "text": [
            "Attack(\n",
            "  (search_method): GreedyWordSwapWIR(\n",
            "    (wir_method):  unk\n",
            "  )\n",
            "  (goal_function):  UntargetedClassification\n",
            "  (transformation):  Swapper\n",
            "  (constraints): \n",
            "    (0): LevenshteinEditDistance(\n",
            "        (max_edit_distance):  10\n",
            "        (compare_against_original):  True\n",
            "      )\n",
            "  (is_black_box):  True\n",
            ")\n"
          ],
          "name": "stdout"
        }
      ]
    },
    {
      "cell_type": "code",
      "metadata": {
        "colab": {
          "base_uri": "https://localhost:8080/",
          "height": 1000
        },
        "id": "mPxc9nL9qte-",
        "outputId": "14a82ca4-353d-4a7a-9596-a9db1356d0aa"
      },
      "source": [
        "from collections import deque\n",
        "import textattack\n",
        "import tqdm\n",
        "import time\n",
        "from IPython.display import display, HTML\n",
        "num_examples = 10\n",
        "num_remaining_attacks = num_examples\n",
        "pbar = tqdm.tqdm(total=num_remaining_attacks, smoothing=0)\n",
        "\n",
        "worklist = deque(range(0, num_examples))\n",
        "worklist_tail = worklist[-1]\n",
        "\n",
        "attack_log_manager = textattack.loggers.AttackLogManager()\n",
        "\n",
        "load_time = time.time()\n",
        "        \n",
        "num_results = 0\n",
        "num_failures = 0\n",
        "num_successes = 0\n",
        "for result in attack.attack_dataset(dataset, indices=worklist):\n",
        "    result_html_str = result.__str__(color_method=\"html\").replace(\"\\n\\n\", \"<br>\")\n",
        "    display(HTML(result_html_str))\n",
        "    attack_log_manager.log_result(result)\n",
        "            \n",
        "    if not isinstance(result, textattack.attack_results.SkippedAttackResult):\n",
        "        pbar.update(1)\n",
        "    else:\n",
        "        worklist_tail += 1\n",
        "        pbar.update(1)\n",
        "        worklist.append(worklist_tail)\n",
        "\n",
        "    num_results += 1\n",
        "\n",
        "    if (\n",
        "        type(result) == textattack.attack_results.SuccessfulAttackResult\n",
        "        or type(result) == textattack.attack_results.MaximizedAttackResult\n",
        "    ):\n",
        "        num_successes += 1\n",
        "                \n",
        "    if type(result) == textattack.attack_results.FailedAttackResult:\n",
        "        num_failures += 1\n",
        "    pbar.set_description(\n",
        "        \"[Succeeded / Failed / Total] {} / {} / {}\".format(\n",
        "            num_successes, num_failures, num_results\n",
        "        )\n",
        "    )\n",
        "\n",
        "pbar.close()\n",
        "\n",
        "attack_log_manager.enable_stdout()\n",
        "attack_log_manager.log_summary()\n",
        "attack_log_manager.flush()\n",
        "        \n",
        "textattack.shared.logger.info(f\"Attack time: {time.time() - load_time}s\")"
      ],
      "execution_count": null,
      "outputs": [
        {
          "output_type": "stream",
          "text": [
            "\n",
            "\n",
            "\n",
            "\n",
            "\n",
            "\n",
            "\n",
            "\n",
            "\n",
            "\n",
            "\n",
            "  0%|          | 0/10 [00:00<?, ?it/s]\u001b[A\u001b[A\u001b[A\u001b[A\u001b[A\u001b[A\u001b[A\u001b[A\u001b[A\u001b[A\u001b[A"
          ],
          "name": "stderr"
        },
        {
          "output_type": "display_data",
          "data": {
            "text/html": [
              "<font color = blue>Business (100%)</font> --> <font color = red>[FAILED]</font><br>Fears for T N pension after talks Unions representing workers at Turner   Newall say they are 'disappointed' after talks with stricken parent firm Federal Mogul."
            ],
            "text/plain": [
              "<IPython.core.display.HTML object>"
            ]
          },
          "metadata": {
            "tags": []
          }
        },
        {
          "output_type": "stream",
          "text": [
            "\n",
            "\n",
            "\n",
            "\n",
            "\n",
            "\n",
            "\n",
            "\n",
            "\n",
            "\n",
            "\n",
            " 10%|█         | 1/10 [00:00<00:06,  1.48it/s]\u001b[A\u001b[A\u001b[A\u001b[A\u001b[A\u001b[A\u001b[A\u001b[A\u001b[A\u001b[A\u001b[A\n",
            "\n",
            "\n",
            "\n",
            "\n",
            "\n",
            "\n",
            "\n",
            "\n",
            "\n",
            "\n",
            "[Succeeded / Failed / Total] 0 / 1 / 1:  10%|█         | 1/10 [00:00<00:06,  1.46it/s]\u001b[A\u001b[A\u001b[A\u001b[A\u001b[A\u001b[A\u001b[A\u001b[A\u001b[A\u001b[A\u001b[A"
          ],
          "name": "stderr"
        },
        {
          "output_type": "display_data",
          "data": {
            "text/html": [
              "<font color = purple>Sci/tech (100%)</font> --> <font color = red>[FAILED]</font><br>The Race is On: Second Private Team Sets Launch Date for Human Spaceflight (SPACE.com) SPACE.com - TORONTO, Canada -- A second\\team of rocketeers competing for the  #36;10 million Ansari X Prize, a contest for\\privately funded suborbital space flight, has officially announced the first\\launch date for its manned rocket."
            ],
            "text/plain": [
              "<IPython.core.display.HTML object>"
            ]
          },
          "metadata": {
            "tags": []
          }
        },
        {
          "output_type": "stream",
          "text": [
            "\n",
            "\n",
            "\n",
            "\n",
            "\n",
            "\n",
            "\n",
            "\n",
            "\n",
            "\n",
            "\n",
            "[Succeeded / Failed / Total] 0 / 1 / 1:  20%|██        | 2/10 [00:01<00:07,  1.04it/s]\u001b[A\u001b[A\u001b[A\u001b[A\u001b[A\u001b[A\u001b[A\u001b[A\u001b[A\u001b[A\u001b[A\n",
            "\n",
            "\n",
            "\n",
            "\n",
            "\n",
            "\n",
            "\n",
            "\n",
            "\n",
            "\n",
            "[Succeeded / Failed / Total] 0 / 2 / 2:  20%|██        | 2/10 [00:01<00:07,  1.04it/s]\u001b[A\u001b[A\u001b[A\u001b[A\u001b[A\u001b[A\u001b[A\u001b[A\u001b[A\u001b[A\u001b[A"
          ],
          "name": "stderr"
        },
        {
          "output_type": "display_data",
          "data": {
            "text/html": [
              "<font color = purple>Sci/tech (100%)</font> --> <font color = red>[FAILED]</font><br>Ky. Company Wins Grant to Study Peptides (AP) AP - A company founded by a chemistry researcher at the University of Louisville won a grant to develop a method of producing better peptides, which are short chains of amino acids, the building blocks of proteins."
            ],
            "text/plain": [
              "<IPython.core.display.HTML object>"
            ]
          },
          "metadata": {
            "tags": []
          }
        },
        {
          "output_type": "stream",
          "text": [
            "\n",
            "\n",
            "\n",
            "\n",
            "\n",
            "\n",
            "\n",
            "\n",
            "\n",
            "\n",
            "\n",
            "[Succeeded / Failed / Total] 0 / 2 / 2:  30%|███       | 3/10 [00:02<00:06,  1.04it/s]\u001b[A\u001b[A\u001b[A\u001b[A\u001b[A\u001b[A\u001b[A\u001b[A\u001b[A\u001b[A\u001b[A\n",
            "\n",
            "\n",
            "\n",
            "\n",
            "\n",
            "\n",
            "\n",
            "\n",
            "\n",
            "\n",
            "[Succeeded / Failed / Total] 0 / 3 / 3:  30%|███       | 3/10 [00:02<00:06,  1.04it/s]\u001b[A\u001b[A\u001b[A\u001b[A\u001b[A\u001b[A\u001b[A\u001b[A\u001b[A\u001b[A\u001b[A"
          ],
          "name": "stderr"
        },
        {
          "output_type": "display_data",
          "data": {
            "text/html": [
              "<font color = purple>Sci/tech (100%)</font> --> <font color = red>[FAILED]</font><br>Prediction Unit Helps Forecast Wildfires (AP) AP - It's barely dawn when Mike Fitzpatrick starts his shift with a blur of colorful maps, figures and endless charts, but already he knows what the day will bring. Lightning will strike in places he expects. Winds will pick up, moist places will dry and flames will roar."
            ],
            "text/plain": [
              "<IPython.core.display.HTML object>"
            ]
          },
          "metadata": {
            "tags": []
          }
        },
        {
          "output_type": "stream",
          "text": [
            "\n",
            "\n",
            "\n",
            "\n",
            "\n",
            "\n",
            "\n",
            "\n",
            "\n",
            "\n",
            "\n",
            "[Succeeded / Failed / Total] 0 / 3 / 3:  40%|████      | 4/10 [00:04<00:06,  1.01s/it]\u001b[A\u001b[A\u001b[A\u001b[A\u001b[A\u001b[A\u001b[A\u001b[A\u001b[A\u001b[A\u001b[A\n",
            "\n",
            "\n",
            "\n",
            "\n",
            "\n",
            "\n",
            "\n",
            "\n",
            "\n",
            "\n",
            "[Succeeded / Failed / Total] 0 / 4 / 4:  40%|████      | 4/10 [00:04<00:06,  1.01s/it]\u001b[A\u001b[A\u001b[A\u001b[A\u001b[A\u001b[A\u001b[A\u001b[A\u001b[A\u001b[A\u001b[A"
          ],
          "name": "stderr"
        },
        {
          "output_type": "display_data",
          "data": {
            "text/html": [
              "<font color = purple>Sci/tech (100%)</font> --> <font color = red>[FAILED]</font><br>Calif. Aims to Limit Farm-Related Smog (AP) AP - Southern California's smog-fighting agency went after emissions of the bovine variety Friday, adopting the nation's first rules to reduce air pollution from dairy cow manure."
            ],
            "text/plain": [
              "<IPython.core.display.HTML object>"
            ]
          },
          "metadata": {
            "tags": []
          }
        },
        {
          "output_type": "stream",
          "text": [
            "\n",
            "\n",
            "\n",
            "\n",
            "\n",
            "\n",
            "\n",
            "\n",
            "\n",
            "\n",
            "\n",
            "[Succeeded / Failed / Total] 0 / 4 / 4:  50%|█████     | 5/10 [00:04<00:04,  1.03it/s]\u001b[A\u001b[A\u001b[A\u001b[A\u001b[A\u001b[A\u001b[A\u001b[A\u001b[A\u001b[A\u001b[A\n",
            "\n",
            "\n",
            "\n",
            "\n",
            "\n",
            "\n",
            "\n",
            "\n",
            "\n",
            "\n",
            "[Succeeded / Failed / Total] 0 / 5 / 5:  50%|█████     | 5/10 [00:04<00:04,  1.03it/s]\u001b[A\u001b[A\u001b[A\u001b[A\u001b[A\u001b[A\u001b[A\u001b[A\u001b[A\u001b[A\u001b[A"
          ],
          "name": "stderr"
        },
        {
          "output_type": "display_data",
          "data": {
            "text/html": [
              "<font color = purple>Sci/tech (100%)</font> --> <font color = red>[FAILED]</font><br>Open Letter Against British Copyright Indoctrination in Schools The British Department for Education and Skills (DfES) recently launched a \"Music Manifesto\" campaign, with the ostensible intention of educating the next generation of British musicians. Unfortunately, they also teamed up with the music industry (EMI, and various artists) to make this popular. EMI has apparently negotiated their end well, so that children in our schools will now be indoctrinated about the illegality of downloading music.The ignorance and audacity of this got to me a little, so I wrote an open letter to the DfES about it. Unfortunately, it's pedantic, as I suppose you have to be when writing to goverment representatives. But I hope you find it useful, and perhaps feel inspired to do something similar, if or when the same thing has happened in your area."
            ],
            "text/plain": [
              "<IPython.core.display.HTML object>"
            ]
          },
          "metadata": {
            "tags": []
          }
        },
        {
          "output_type": "stream",
          "text": [
            "\n",
            "\n",
            "\n",
            "\n",
            "\n",
            "\n",
            "\n",
            "\n",
            "\n",
            "\n",
            "\n",
            "[Succeeded / Failed / Total] 0 / 5 / 5:  60%|██████    | 6/10 [00:08<00:05,  1.39s/it]\u001b[A\u001b[A\u001b[A\u001b[A\u001b[A\u001b[A\u001b[A\u001b[A\u001b[A\u001b[A\u001b[A\n",
            "\n",
            "\n",
            "\n",
            "\n",
            "\n",
            "\n",
            "\n",
            "\n",
            "\n",
            "\n",
            "[Succeeded / Failed / Total] 0 / 6 / 6:  60%|██████    | 6/10 [00:08<00:05,  1.39s/it]\u001b[A\u001b[A\u001b[A\u001b[A\u001b[A\u001b[A\u001b[A\u001b[A\u001b[A\u001b[A\u001b[A"
          ],
          "name": "stderr"
        },
        {
          "output_type": "display_data",
          "data": {
            "text/html": [
              "<font color = purple>Sci/tech (100%)</font> --> <font color = red>[FAILED]</font><br>Loosing the War on Terrorism \\\\\"Sven Jaschan, self-confessed author of the Netsky and Sasser viruses, is\\responsible for 70 percent of virus infections in 2004, according to a six-month\\virus roundup published Wednesday by antivirus company Sophos.\"\\\\\"The 18-year-old Jaschan was taken into custody in Germany in May by police who\\said he had admitted programming both the Netsky and Sasser worms, something\\experts at Microsoft confirmed. (A Microsoft antivirus reward program led to the\\teenager's arrest.) During the five months preceding Jaschan's capture, there\\were at least 25 variants of Netsky and one of the port-scanning network worm\\Sasser.\"\\\\\"Graham Cluley, senior technology consultant at Sophos, said it was staggeri ...\\\\"
            ],
            "text/plain": [
              "<IPython.core.display.HTML object>"
            ]
          },
          "metadata": {
            "tags": []
          }
        },
        {
          "output_type": "stream",
          "text": [
            "\n",
            "\n",
            "\n",
            "\n",
            "\n",
            "\n",
            "\n",
            "\n",
            "\n",
            "\n",
            "\n",
            "[Succeeded / Failed / Total] 0 / 6 / 6:  70%|███████   | 7/10 [00:10<00:04,  1.56s/it]\u001b[A\u001b[A\u001b[A\u001b[A\u001b[A\u001b[A\u001b[A\u001b[A\u001b[A\u001b[A\u001b[A\n",
            "\n",
            "\n",
            "\n",
            "\n",
            "\n",
            "\n",
            "\n",
            "\n",
            "\n",
            "\n",
            "[Succeeded / Failed / Total] 0 / 7 / 7:  70%|███████   | 7/10 [00:10<00:04,  1.57s/it]\u001b[A\u001b[A\u001b[A\u001b[A\u001b[A\u001b[A\u001b[A\u001b[A\u001b[A\u001b[A\u001b[A"
          ],
          "name": "stderr"
        },
        {
          "output_type": "display_data",
          "data": {
            "text/html": [
              "<font color = purple>Sci/tech (100%)</font> --> <font color = red>[FAILED]</font><br>FOAFKey: FOAF, PGP, Key Distribution, and Bloom Filters \\\\FOAF/LOAF  and bloom filters have a lot of interesting properties for social\\network and whitelist distribution.\\\\I think we can go one level higher though and include GPG/OpenPGP key\\fingerpring distribution in the FOAF file for simple web-of-trust based key\\distribution.\\\\What if we used FOAF and included the PGP key fingerprint(s) for identities?\\This could mean a lot.  You include the PGP key fingerprints within the FOAF\\file of your direct friends and then include a bloom filter of the PGP key\\fingerprints of your entire whitelist (the source FOAF file would of course need\\to be encrypted ).\\\\Your whitelist would be populated from the social network as your client\\discovered new identit ...\\\\"
            ],
            "text/plain": [
              "<IPython.core.display.HTML object>"
            ]
          },
          "metadata": {
            "tags": []
          }
        },
        {
          "output_type": "stream",
          "text": [
            "\n",
            "\n",
            "\n",
            "\n",
            "\n",
            "\n",
            "\n",
            "\n",
            "\n",
            "\n",
            "\n",
            "[Succeeded / Failed / Total] 0 / 7 / 7:  80%|████████  | 8/10 [00:14<00:03,  1.75s/it]\u001b[A\u001b[A\u001b[A\u001b[A\u001b[A\u001b[A\u001b[A\u001b[A\u001b[A\u001b[A\u001b[A\n",
            "\n",
            "\n",
            "\n",
            "\n",
            "\n",
            "\n",
            "\n",
            "\n",
            "\n",
            "\n",
            "[Succeeded / Failed / Total] 0 / 8 / 8:  80%|████████  | 8/10 [00:14<00:03,  1.75s/it]\u001b[A\u001b[A\u001b[A\u001b[A\u001b[A\u001b[A\u001b[A\u001b[A\u001b[A\u001b[A\u001b[A"
          ],
          "name": "stderr"
        },
        {
          "output_type": "display_data",
          "data": {
            "text/html": [
              "<font color = purple>Sci/tech (98%)</font> --> <font color = red>World (62%)</font><br>E-mail scam targets police chief Wiltshire Police warns about \"<font color = purple>phishing</font>\" after its <font color = purple>fraud</font> <font color = purple>squad</font> chief was targeted.<br>E-mail scam targets police chief Wiltshire Police warns about \"<font color = red>vanishing</font>\" after its <font color = red>frau</font> <font color = red>squadron</font> chief was targeted."
            ],
            "text/plain": [
              "<IPython.core.display.HTML object>"
            ]
          },
          "metadata": {
            "tags": []
          }
        },
        {
          "output_type": "stream",
          "text": [
            "\n",
            "\n",
            "\n",
            "\n",
            "\n",
            "\n",
            "\n",
            "\n",
            "\n",
            "\n",
            "\n",
            "[Succeeded / Failed / Total] 0 / 8 / 8:  90%|█████████ | 9/10 [00:14<00:01,  1.60s/it]\u001b[A\u001b[A\u001b[A\u001b[A\u001b[A\u001b[A\u001b[A\u001b[A\u001b[A\u001b[A\u001b[A\n",
            "\n",
            "\n",
            "\n",
            "\n",
            "\n",
            "\n",
            "\n",
            "\n",
            "\n",
            "\n",
            "[Succeeded / Failed / Total] 1 / 8 / 9:  90%|█████████ | 9/10 [00:14<00:01,  1.60s/it]\u001b[A\u001b[A\u001b[A\u001b[A\u001b[A\u001b[A\u001b[A\u001b[A\u001b[A\u001b[A\u001b[A"
          ],
          "name": "stderr"
        },
        {
          "output_type": "display_data",
          "data": {
            "text/html": [
              "<font color = purple>Sci/tech (98%)</font> --> <font color = blue>Business (60%)</font><br>Card fraud unit nets 36,000 cards In its first two years, the <font color = purple>UK's</font> <font color = purple>dedicated</font> card <font color = purple>fraud</font> unit, has recovered 36,000 stolen cards and 171 arrests - and estimates it saved 65m.<br>Card fraud unit nets 36,000 cards In its first two years, the <font color = blue>secret</font> <font color = blue>rededicated</font> card <font color = blue>frau</font> unit, has recovered 36,000 stolen cards and 171 arrests - and estimates it saved 65m."
            ],
            "text/plain": [
              "<IPython.core.display.HTML object>"
            ]
          },
          "metadata": {
            "tags": []
          }
        },
        {
          "output_type": "stream",
          "text": [
            "\n",
            "\n",
            "\n",
            "\n",
            "\n",
            "\n",
            "\n",
            "\n",
            "\n",
            "\n",
            "\n",
            "[Succeeded / Failed / Total] 1 / 8 / 9: 100%|██████████| 10/10 [00:14<00:00,  1.49s/it]\u001b[A\u001b[A\u001b[A\u001b[A\u001b[A\u001b[A\u001b[A\u001b[A\u001b[A\u001b[A\u001b[A\n",
            "\n",
            "\n",
            "\n",
            "\n",
            "\n",
            "\n",
            "\n",
            "\n",
            "\n",
            "\n",
            "[Succeeded / Failed / Total] 2 / 8 / 10: 100%|██████████| 10/10 [00:14<00:00,  1.50s/it]"
          ],
          "name": "stderr"
        },
        {
          "output_type": "stream",
          "text": [
            "+-------------------------------+--------+\n",
            "| Attack Results                |        |\n",
            "+-------------------------------+--------+\n",
            "| Number of successful attacks: | 2      |\n",
            "| Number of failed attacks:     | 8      |\n",
            "| Number of skipped attacks:    | 0      |\n",
            "| Original accuracy:            | 100.0% |\n",
            "| Accuracy under attack:        | 80.0%  |\n",
            "| Attack success rate:          | 20.0%  |\n",
            "| Average perturbed word %:     | 13.51% |\n",
            "| Average num. words per input: | 63.0   |\n",
            "| Avg num queries:              | 69.9   |\n",
            "+-------------------------------+--------+"
          ],
          "name": "stdout"
        },
        {
          "output_type": "stream",
          "text": [
            "\n",
            "\u001b[34;1mtextattack\u001b[0m: Attack time: 14.970821619033813s\n"
          ],
          "name": "stderr"
        }
      ]
    },
    {
      "cell_type": "code",
      "metadata": {
        "colab": {
          "base_uri": "https://localhost:8080/"
        },
        "id": "xCzzewbfdMmF",
        "outputId": "76a61116-cdf5-462f-ca67-ee7a35bb1646"
      },
      "source": [
        "from textattack.search_methods import GreedyWordSwapWIR\n",
        "from textattack.constraints.overlap import LevenshteinEditDistance\n",
        "from textattack.shared import Attack\n",
        "from textattack.goal_functions import UntargetedClassification\n",
        "from textattack.datasets import HuggingFaceDataset\n",
        "\n",
        "# We're going to use our word swap class as the attack transformation.\n",
        "transformation = Swapper()\n",
        "# We'll constrain modification of already modified indices and stopwords\n",
        "constraints = [LevenshteinEditDistance(10)]\n",
        "# We'll use the Greedy search method\n",
        "search_method = GreedyWordSwapWIR()\n",
        "# Create the goal function using the model\n",
        "\n",
        "goal_function = UntargetedClassification(model_wrapper)\n",
        "\n",
        "# Now, let's make the attack from the 4 components:\n",
        "attack = Attack(goal_function, constraints, transformation, search_method)\n",
        "\n",
        "dataset = HuggingFaceDataset(\"ag_news\", None, \"test\")"
      ],
      "execution_count": null,
      "outputs": [
        {
          "output_type": "stream",
          "text": [
            "\u001b[34;1mtextattack\u001b[0m: Unknown if model of class <class 'transformers.models.bert.modeling_bert.BertForSequenceClassification'> compatible with goal function <class 'textattack.goal_functions.classification.untargeted_classification.UntargetedClassification'>.\n",
            "Using custom data configuration default\n",
            "Reusing dataset ag_news (/root/.cache/huggingface/datasets/ag_news/default/0.0.0/0eeeaaa5fb6dffd81458e293dfea1adba2881ffcbdc3fb56baeb5a892566c29a)\n",
            "\u001b[34;1mtextattack\u001b[0m: Loading \u001b[94mdatasets\u001b[0m dataset \u001b[94mag_news\u001b[0m, split \u001b[94mtest\u001b[0m.\n"
          ],
          "name": "stderr"
        }
      ]
    },
    {
      "cell_type": "code",
      "metadata": {
        "colab": {
          "base_uri": "https://localhost:8080/"
        },
        "id": "Nd1hJSgDdPVg",
        "outputId": "9c02988d-b419-4194-a5d0-b9fed399b7be"
      },
      "source": [
        "print(attack)"
      ],
      "execution_count": null,
      "outputs": [
        {
          "output_type": "stream",
          "text": [
            "Attack(\n",
            "  (search_method): GreedyWordSwapWIR(\n",
            "    (wir_method):  unk\n",
            "  )\n",
            "  (goal_function):  UntargetedClassification\n",
            "  (transformation):  Swapper_\n",
            "  (constraints): \n",
            "    (0): LevenshteinEditDistance(\n",
            "        (max_edit_distance):  10\n",
            "        (compare_against_original):  True\n",
            "      )\n",
            "  (is_black_box):  True\n",
            ")\n"
          ],
          "name": "stdout"
        }
      ]
    },
    {
      "cell_type": "code",
      "metadata": {
        "colab": {
          "base_uri": "https://localhost:8080/",
          "height": 1000
        },
        "id": "bjJpdnO0dUa8",
        "outputId": "a33b5c23-5a47-4b82-ec50-f25048934c7a"
      },
      "source": [
        "from collections import deque\n",
        "\n",
        "import textattack\n",
        "import tqdm\n",
        "import time\n",
        "from IPython.display import display, HTML\n",
        "num_examples = 10\n",
        "num_remaining_attacks = num_examples\n",
        "pbar = tqdm.tqdm(total=num_remaining_attacks, smoothing=0)\n",
        "\n",
        "worklist = deque(range(0, num_examples))\n",
        "worklist_tail = worklist[-1]\n",
        "\n",
        "attack_log_manager = textattack.loggers.AttackLogManager()\n",
        "\n",
        "load_time = time.time()\n",
        "        \n",
        "num_results = 0\n",
        "num_failures = 0\n",
        "num_successes = 0\n",
        "for result in attack.attack_dataset(dataset, indices=worklist):\n",
        "    result_html_str = result.__str__(color_method=\"html\").replace(\"\\n\\n\", \"<br>\")\n",
        "    display(HTML(result_html_str))\n",
        "    attack_log_manager.log_result(result)\n",
        "            \n",
        "    if not isinstance(result, textattack.attack_results.SkippedAttackResult):\n",
        "        pbar.update(1)\n",
        "    else:\n",
        "        worklist_tail += 1\n",
        "        pbar.update(1)\n",
        "        worklist.append(worklist_tail)\n",
        "\n",
        "    num_results += 1\n",
        "\n",
        "    if (\n",
        "        type(result) == textattack.attack_results.SuccessfulAttackResult\n",
        "        or type(result) == textattack.attack_results.MaximizedAttackResult\n",
        "    ):\n",
        "        num_successes += 1\n",
        "                \n",
        "    if type(result) == textattack.attack_results.FailedAttackResult:\n",
        "        num_failures += 1\n",
        "    pbar.set_description(\n",
        "        \"[Succeeded / Failed / Total] {} / {} / {}\".format(\n",
        "            num_successes, num_failures, num_results\n",
        "        )\n",
        "    )\n",
        "\n",
        "pbar.close()\n",
        "\n",
        "attack_log_manager.enable_stdout()\n",
        "attack_log_manager.log_summary()\n",
        "attack_log_manager.flush()\n",
        "        \n",
        "textattack.shared.logger.info(f\"Attack time: {time.time() - load_time}s\")"
      ],
      "execution_count": null,
      "outputs": [
        {
          "output_type": "stream",
          "text": [
            "\n",
            "\n",
            "\n",
            "\n",
            "\n",
            "\n",
            "\n",
            "\n",
            "\n",
            "\n",
            "\n",
            "  0%|          | 0/10 [00:00<?, ?it/s]\u001b[A\u001b[A\u001b[A\u001b[A\u001b[A\u001b[A\u001b[A\u001b[A\u001b[A\u001b[A\u001b[A"
          ],
          "name": "stderr"
        },
        {
          "output_type": "display_data",
          "data": {
            "text/html": [
              "<font color = blue>Business (100%)</font> --> <font color = red>[FAILED]</font><br>Fears for T N pension after talks Unions representing workers at Turner   Newall say they are 'disappointed' after talks with stricken parent firm Federal Mogul."
            ],
            "text/plain": [
              "<IPython.core.display.HTML object>"
            ]
          },
          "metadata": {
            "tags": []
          }
        },
        {
          "output_type": "stream",
          "text": [
            "\n",
            "\n",
            "\n",
            "\n",
            "\n",
            "\n",
            "\n",
            "\n",
            "\n",
            "\n",
            "\n",
            " 10%|█         | 1/10 [00:00<00:04,  1.86it/s]\u001b[A\u001b[A\u001b[A\u001b[A\u001b[A\u001b[A\u001b[A\u001b[A\u001b[A\u001b[A\u001b[A\n",
            "\n",
            "\n",
            "\n",
            "\n",
            "\n",
            "\n",
            "\n",
            "\n",
            "\n",
            "\n",
            "[Succeeded / Failed / Total] 0 / 1 / 1:  10%|█         | 1/10 [00:00<00:04,  1.84it/s]\u001b[A\u001b[A\u001b[A\u001b[A\u001b[A\u001b[A\u001b[A\u001b[A\u001b[A\u001b[A\u001b[A"
          ],
          "name": "stderr"
        },
        {
          "output_type": "display_data",
          "data": {
            "text/html": [
              "<font color = purple>Sci/tech (100%)</font> --> <font color = red>[FAILED]</font><br>The Race is On: Second Private Team Sets Launch Date for Human Spaceflight (SPACE.com) SPACE.com - TORONTO, Canada -- A second\\team of rocketeers competing for the  #36;10 million Ansari X Prize, a contest for\\privately funded suborbital space flight, has officially announced the first\\launch date for its manned rocket."
            ],
            "text/plain": [
              "<IPython.core.display.HTML object>"
            ]
          },
          "metadata": {
            "tags": []
          }
        },
        {
          "output_type": "stream",
          "text": [
            "\n",
            "\n",
            "\n",
            "\n",
            "\n",
            "\n",
            "\n",
            "\n",
            "\n",
            "\n",
            "\n",
            "[Succeeded / Failed / Total] 0 / 1 / 1:  20%|██        | 2/10 [00:01<00:06,  1.22it/s]\u001b[A\u001b[A\u001b[A\u001b[A\u001b[A\u001b[A\u001b[A\u001b[A\u001b[A\u001b[A\u001b[A\n",
            "\n",
            "\n",
            "\n",
            "\n",
            "\n",
            "\n",
            "\n",
            "\n",
            "\n",
            "\n",
            "[Succeeded / Failed / Total] 0 / 2 / 2:  20%|██        | 2/10 [00:01<00:06,  1.21it/s]\u001b[A\u001b[A\u001b[A\u001b[A\u001b[A\u001b[A\u001b[A\u001b[A\u001b[A\u001b[A\u001b[A"
          ],
          "name": "stderr"
        },
        {
          "output_type": "display_data",
          "data": {
            "text/html": [
              "<font color = purple>Sci/tech (100%)</font> --> <font color = red>[FAILED]</font><br>Ky. Company Wins Grant to Study Peptides (AP) AP - A company founded by a chemistry researcher at the University of Louisville won a grant to develop a method of producing better peptides, which are short chains of amino acids, the building blocks of proteins."
            ],
            "text/plain": [
              "<IPython.core.display.HTML object>"
            ]
          },
          "metadata": {
            "tags": []
          }
        },
        {
          "output_type": "stream",
          "text": [
            "\n",
            "\n",
            "\n",
            "\n",
            "\n",
            "\n",
            "\n",
            "\n",
            "\n",
            "\n",
            "\n",
            "[Succeeded / Failed / Total] 0 / 2 / 2:  30%|███       | 3/10 [00:02<00:05,  1.20it/s]\u001b[A\u001b[A\u001b[A\u001b[A\u001b[A\u001b[A\u001b[A\u001b[A\u001b[A\u001b[A\u001b[A\n",
            "\n",
            "\n",
            "\n",
            "\n",
            "\n",
            "\n",
            "\n",
            "\n",
            "\n",
            "\n",
            "[Succeeded / Failed / Total] 0 / 3 / 3:  30%|███       | 3/10 [00:02<00:05,  1.19it/s]\u001b[A\u001b[A\u001b[A\u001b[A\u001b[A\u001b[A\u001b[A\u001b[A\u001b[A\u001b[A\u001b[A"
          ],
          "name": "stderr"
        },
        {
          "output_type": "display_data",
          "data": {
            "text/html": [
              "<font color = purple>Sci/tech (100%)</font> --> <font color = red>[FAILED]</font><br>Prediction Unit Helps Forecast Wildfires (AP) AP - It's barely dawn when Mike Fitzpatrick starts his shift with a blur of colorful maps, figures and endless charts, but already he knows what the day will bring. Lightning will strike in places he expects. Winds will pick up, moist places will dry and flames will roar."
            ],
            "text/plain": [
              "<IPython.core.display.HTML object>"
            ]
          },
          "metadata": {
            "tags": []
          }
        },
        {
          "output_type": "stream",
          "text": [
            "\n",
            "\n",
            "\n",
            "\n",
            "\n",
            "\n",
            "\n",
            "\n",
            "\n",
            "\n",
            "\n",
            "[Succeeded / Failed / Total] 0 / 3 / 3:  40%|████      | 4/10 [00:03<00:05,  1.12it/s]\u001b[A\u001b[A\u001b[A\u001b[A\u001b[A\u001b[A\u001b[A\u001b[A\u001b[A\u001b[A\u001b[A\n",
            "\n",
            "\n",
            "\n",
            "\n",
            "\n",
            "\n",
            "\n",
            "\n",
            "\n",
            "\n",
            "[Succeeded / Failed / Total] 0 / 4 / 4:  40%|████      | 4/10 [00:03<00:05,  1.11it/s]\u001b[A\u001b[A\u001b[A\u001b[A\u001b[A\u001b[A\u001b[A\u001b[A\u001b[A\u001b[A\u001b[A"
          ],
          "name": "stderr"
        },
        {
          "output_type": "display_data",
          "data": {
            "text/html": [
              "<font color = purple>Sci/tech (100%)</font> --> <font color = red>[FAILED]</font><br>Calif. Aims to Limit Farm-Related Smog (AP) AP - Southern California's smog-fighting agency went after emissions of the bovine variety Friday, adopting the nation's first rules to reduce air pollution from dairy cow manure."
            ],
            "text/plain": [
              "<IPython.core.display.HTML object>"
            ]
          },
          "metadata": {
            "tags": []
          }
        },
        {
          "output_type": "stream",
          "text": [
            "\n",
            "\n",
            "\n",
            "\n",
            "\n",
            "\n",
            "\n",
            "\n",
            "\n",
            "\n",
            "\n",
            "[Succeeded / Failed / Total] 0 / 4 / 4:  50%|█████     | 5/10 [00:04<00:04,  1.15it/s]\u001b[A\u001b[A\u001b[A\u001b[A\u001b[A\u001b[A\u001b[A\u001b[A\u001b[A\u001b[A\u001b[A\n",
            "\n",
            "\n",
            "\n",
            "\n",
            "\n",
            "\n",
            "\n",
            "\n",
            "\n",
            "\n",
            "[Succeeded / Failed / Total] 0 / 5 / 5:  50%|█████     | 5/10 [00:04<00:04,  1.15it/s]\u001b[A\u001b[A\u001b[A\u001b[A\u001b[A\u001b[A\u001b[A\u001b[A\u001b[A\u001b[A\u001b[A"
          ],
          "name": "stderr"
        },
        {
          "output_type": "display_data",
          "data": {
            "text/html": [
              "<font color = purple>Sci/tech (100%)</font> --> <font color = red>[FAILED]</font><br>Open Letter Against British Copyright Indoctrination in Schools The British Department for Education and Skills (DfES) recently launched a \"Music Manifesto\" campaign, with the ostensible intention of educating the next generation of British musicians. Unfortunately, they also teamed up with the music industry (EMI, and various artists) to make this popular. EMI has apparently negotiated their end well, so that children in our schools will now be indoctrinated about the illegality of downloading music.The ignorance and audacity of this got to me a little, so I wrote an open letter to the DfES about it. Unfortunately, it's pedantic, as I suppose you have to be when writing to goverment representatives. But I hope you find it useful, and perhaps feel inspired to do something similar, if or when the same thing has happened in your area."
            ],
            "text/plain": [
              "<IPython.core.display.HTML object>"
            ]
          },
          "metadata": {
            "tags": []
          }
        },
        {
          "output_type": "stream",
          "text": [
            "\n",
            "\n",
            "\n",
            "\n",
            "\n",
            "\n",
            "\n",
            "\n",
            "\n",
            "\n",
            "\n",
            "[Succeeded / Failed / Total] 0 / 5 / 5:  60%|██████    | 6/10 [00:07<00:05,  1.27s/it]\u001b[A\u001b[A\u001b[A\u001b[A\u001b[A\u001b[A\u001b[A\u001b[A\u001b[A\u001b[A\u001b[A\n",
            "\n",
            "\n",
            "\n",
            "\n",
            "\n",
            "\n",
            "\n",
            "\n",
            "\n",
            "\n",
            "[Succeeded / Failed / Total] 0 / 6 / 6:  60%|██████    | 6/10 [00:07<00:05,  1.27s/it]\u001b[A\u001b[A\u001b[A\u001b[A\u001b[A\u001b[A\u001b[A\u001b[A\u001b[A\u001b[A\u001b[A"
          ],
          "name": "stderr"
        },
        {
          "output_type": "display_data",
          "data": {
            "text/html": [
              "<font color = purple>Sci/tech (100%)</font> --> <font color = red>[FAILED]</font><br>Loosing the War on Terrorism \\\\\"Sven Jaschan, self-confessed author of the Netsky and Sasser viruses, is\\responsible for 70 percent of virus infections in 2004, according to a six-month\\virus roundup published Wednesday by antivirus company Sophos.\"\\\\\"The 18-year-old Jaschan was taken into custody in Germany in May by police who\\said he had admitted programming both the Netsky and Sasser worms, something\\experts at Microsoft confirmed. (A Microsoft antivirus reward program led to the\\teenager's arrest.) During the five months preceding Jaschan's capture, there\\were at least 25 variants of Netsky and one of the port-scanning network worm\\Sasser.\"\\\\\"Graham Cluley, senior technology consultant at Sophos, said it was staggeri ...\\\\"
            ],
            "text/plain": [
              "<IPython.core.display.HTML object>"
            ]
          },
          "metadata": {
            "tags": []
          }
        },
        {
          "output_type": "stream",
          "text": [
            "\n",
            "\n",
            "\n",
            "\n",
            "\n",
            "\n",
            "\n",
            "\n",
            "\n",
            "\n",
            "\n",
            "[Succeeded / Failed / Total] 0 / 6 / 6:  70%|███████   | 7/10 [00:09<00:04,  1.43s/it]\u001b[A\u001b[A\u001b[A\u001b[A\u001b[A\u001b[A\u001b[A\u001b[A\u001b[A\u001b[A\u001b[A\n",
            "\n",
            "\n",
            "\n",
            "\n",
            "\n",
            "\n",
            "\n",
            "\n",
            "\n",
            "\n",
            "[Succeeded / Failed / Total] 0 / 7 / 7:  70%|███████   | 7/10 [00:09<00:04,  1.43s/it]\u001b[A\u001b[A\u001b[A\u001b[A\u001b[A\u001b[A\u001b[A\u001b[A\u001b[A\u001b[A\u001b[A"
          ],
          "name": "stderr"
        },
        {
          "output_type": "display_data",
          "data": {
            "text/html": [
              "<font color = purple>Sci/tech (100%)</font> --> <font color = red>[FAILED]</font><br>FOAFKey: FOAF, PGP, Key Distribution, and Bloom Filters \\\\FOAF/LOAF  and bloom filters have a lot of interesting properties for social\\network and whitelist distribution.\\\\I think we can go one level higher though and include GPG/OpenPGP key\\fingerpring distribution in the FOAF file for simple web-of-trust based key\\distribution.\\\\What if we used FOAF and included the PGP key fingerprint(s) for identities?\\This could mean a lot.  You include the PGP key fingerprints within the FOAF\\file of your direct friends and then include a bloom filter of the PGP key\\fingerprints of your entire whitelist (the source FOAF file would of course need\\to be encrypted ).\\\\Your whitelist would be populated from the social network as your client\\discovered new identit ...\\\\"
            ],
            "text/plain": [
              "<IPython.core.display.HTML object>"
            ]
          },
          "metadata": {
            "tags": []
          }
        },
        {
          "output_type": "stream",
          "text": [
            "\n",
            "\n",
            "\n",
            "\n",
            "\n",
            "\n",
            "\n",
            "\n",
            "\n",
            "\n",
            "\n",
            "[Succeeded / Failed / Total] 0 / 7 / 7:  80%|████████  | 8/10 [00:12<00:03,  1.60s/it]\u001b[A\u001b[A\u001b[A\u001b[A\u001b[A\u001b[A\u001b[A\u001b[A\u001b[A\u001b[A\u001b[A\n",
            "\n",
            "\n",
            "\n",
            "\n",
            "\n",
            "\n",
            "\n",
            "\n",
            "\n",
            "\n",
            "[Succeeded / Failed / Total] 0 / 8 / 8:  80%|████████  | 8/10 [00:12<00:03,  1.60s/it]\u001b[A\u001b[A\u001b[A\u001b[A\u001b[A\u001b[A\u001b[A\u001b[A\u001b[A\u001b[A\u001b[A"
          ],
          "name": "stderr"
        },
        {
          "output_type": "display_data",
          "data": {
            "text/html": [
              "<font color = purple>Sci/tech (98%)</font> --> <font color = red>[FAILED]</font><br>E-mail scam targets police chief Wiltshire Police warns about \"phishing\" after its fraud squad chief was targeted."
            ],
            "text/plain": [
              "<IPython.core.display.HTML object>"
            ]
          },
          "metadata": {
            "tags": []
          }
        },
        {
          "output_type": "stream",
          "text": [
            "\n",
            "\n",
            "\n",
            "\n",
            "\n",
            "\n",
            "\n",
            "\n",
            "\n",
            "\n",
            "\n",
            "[Succeeded / Failed / Total] 0 / 8 / 8:  90%|█████████ | 9/10 [00:13<00:01,  1.47s/it]\u001b[A\u001b[A\u001b[A\u001b[A\u001b[A\u001b[A\u001b[A\u001b[A\u001b[A\u001b[A\u001b[A\n",
            "\n",
            "\n",
            "\n",
            "\n",
            "\n",
            "\n",
            "\n",
            "\n",
            "\n",
            "\n",
            "[Succeeded / Failed / Total] 0 / 9 / 9:  90%|█████████ | 9/10 [00:13<00:01,  1.47s/it]\u001b[A\u001b[A\u001b[A\u001b[A\u001b[A\u001b[A\u001b[A\u001b[A\u001b[A\u001b[A\u001b[A"
          ],
          "name": "stderr"
        },
        {
          "output_type": "display_data",
          "data": {
            "text/html": [
              "<font color = purple>Sci/tech (98%)</font> --> <font color = blue>Business (72%)</font><br>Card fraud unit nets 36,000 cards In its first two years, the UK's <font color = purple>dedicated</font> <font color = purple>card</font> fraud unit, has recovered 36,000 stolen cards and 171 arrests - and estimates it saved 65m.<br>Card fraud unit nets 36,000 cards In its first two years, the UK's <font color = blue>devoted</font> <font color = blue>cards</font> fraud unit, has recovered 36,000 stolen cards and 171 arrests - and estimates it saved 65m."
            ],
            "text/plain": [
              "<IPython.core.display.HTML object>"
            ]
          },
          "metadata": {
            "tags": []
          }
        },
        {
          "output_type": "stream",
          "text": [
            "\n",
            "\n",
            "\n",
            "\n",
            "\n",
            "\n",
            "\n",
            "\n",
            "\n",
            "\n",
            "\n",
            "[Succeeded / Failed / Total] 0 / 9 / 9: 100%|██████████| 10/10 [00:13<00:00,  1.38s/it]\u001b[A\u001b[A\u001b[A\u001b[A\u001b[A\u001b[A\u001b[A\u001b[A\u001b[A\u001b[A\u001b[A\n",
            "\n",
            "\n",
            "\n",
            "\n",
            "\n",
            "\n",
            "\n",
            "\n",
            "\n",
            "\n",
            "[Succeeded / Failed / Total] 1 / 9 / 10: 100%|██████████| 10/10 [00:13<00:00,  1.38s/it]"
          ],
          "name": "stderr"
        },
        {
          "output_type": "stream",
          "text": [
            "+-------------------------------+--------+\n",
            "| Attack Results                |        |\n",
            "+-------------------------------+--------+\n",
            "| Number of successful attacks: | 1      |\n",
            "| Number of failed attacks:     | 9      |\n",
            "| Number of skipped attacks:    | 0      |\n",
            "| Original accuracy:            | 100.0% |\n",
            "| Accuracy under attack:        | 90.0%  |\n",
            "| Attack success rate:          | 10.0%  |\n",
            "| Average perturbed word %:     | 6.25%  |\n",
            "| Average num. words per input: | 63.0   |\n",
            "| Avg num queries:              | 68.0   |\n",
            "+-------------------------------+--------+"
          ],
          "name": "stdout"
        },
        {
          "output_type": "stream",
          "text": [
            "\n",
            "\u001b[34;1mtextattack\u001b[0m: Attack time: 13.777932167053223s\n"
          ],
          "name": "stderr"
        }
      ]
    },
    {
      "cell_type": "code",
      "metadata": {
        "colab": {
          "base_uri": "https://localhost:8080/"
        },
        "id": "9KWW6A4R805k",
        "outputId": "7ff470ff-cdf4-4820-a189-6206c02efe52"
      },
      "source": [
        "from textattack.search_methods import ParticleSwarmOptimization\n",
        "from textattack.constraints.grammaticality import PartOfSpeech\n",
        "from textattack.shared import Attack\n",
        "from textattack.goal_functions import UntargetedClassification\n",
        "from textattack.datasets import HuggingFaceDataset\n",
        "\n",
        "# We're going to use our word swap class as the attack transformation.\n",
        "transformation = Swapper()\n",
        "# We'll constrain modification of already modified indices and stopwords\n",
        "constraints = [PartOfSpeech()]\n",
        "# We'll use the Greedy search method\n",
        "search_method = ParticleSwarmOptimization(pop_size=10,max_iters=5,post_turn_check=True,max_turn_retries=5)\n",
        "# Create the goal function using the model\n",
        "\n",
        "goal_function = UntargetedClassification(model_wrapper)\n",
        "\n",
        "# Now, let's make the attack from the 4 components:\n",
        "attack = Attack(goal_function, constraints, transformation, search_method)\n",
        "\n",
        "dataset = HuggingFaceDataset(\"ag_news\", None, \"test\")"
      ],
      "execution_count": null,
      "outputs": [
        {
          "output_type": "stream",
          "text": [
            "\u001b[34;1mtextattack\u001b[0m: Unknown if model of class <class 'transformers.models.bert.modeling_bert.BertForSequenceClassification'> compatible with goal function <class 'textattack.goal_functions.classification.untargeted_classification.UntargetedClassification'>.\n",
            "Using custom data configuration default\n",
            "Reusing dataset ag_news (/root/.cache/huggingface/datasets/ag_news/default/0.0.0/0eeeaaa5fb6dffd81458e293dfea1adba2881ffcbdc3fb56baeb5a892566c29a)\n",
            "\u001b[34;1mtextattack\u001b[0m: Loading \u001b[94mdatasets\u001b[0m dataset \u001b[94mag_news\u001b[0m, split \u001b[94mtest\u001b[0m.\n"
          ],
          "name": "stderr"
        }
      ]
    },
    {
      "cell_type": "code",
      "metadata": {
        "colab": {
          "base_uri": "https://localhost:8080/"
        },
        "id": "GJiPsdw99K0N",
        "outputId": "5246073b-52ce-46f4-8a67-d0a0ccfdf8b3"
      },
      "source": [
        "print(attack)"
      ],
      "execution_count": null,
      "outputs": [
        {
          "output_type": "stream",
          "text": [
            "Attack(\n",
            "  (search_method): ParticleSwarmOptimization(\n",
            "    (pop_size):  10\n",
            "    (max_iters):  5\n",
            "    (post_turn_check):  True\n",
            "    (max_turn_retries):  20\n",
            "  )\n",
            "  (goal_function):  UntargetedClassification\n",
            "  (transformation):  Swapper\n",
            "  (constraints): \n",
            "    (0): PartOfSpeech(\n",
            "        (tagger_type):  nltk\n",
            "        (tagset):  universal\n",
            "        (allow_verb_noun_swap):  True\n",
            "        (compare_against_original):  True\n",
            "      )\n",
            "  (is_black_box):  True\n",
            ")\n"
          ],
          "name": "stdout"
        }
      ]
    },
    {
      "cell_type": "code",
      "metadata": {
        "colab": {
          "base_uri": "https://localhost:8080/",
          "height": 1000
        },
        "id": "Jd0LYDi09K_1",
        "outputId": "4256b1b8-03dc-4c4f-8a7a-335c166ca847"
      },
      "source": [
        "from collections import deque\n",
        "\n",
        "import textattack\n",
        "import tqdm\n",
        "import time\n",
        "from IPython.display import display, HTML\n",
        "num_examples = 10\n",
        "num_remaining_attacks = num_examples\n",
        "pbar = tqdm.tqdm(total=num_remaining_attacks, smoothing=0)\n",
        "\n",
        "worklist = deque(range(0, num_examples))\n",
        "worklist_tail = worklist[-1]\n",
        "\n",
        "attack_log_manager = textattack.loggers.AttackLogManager()\n",
        "\n",
        "load_time = time.time()\n",
        "        \n",
        "num_results = 0\n",
        "num_failures = 0\n",
        "num_successes = 0\n",
        "for result in attack.attack_dataset(dataset, indices=worklist):\n",
        "    result_html_str = result.__str__(color_method=\"html\").replace(\"\\n\\n\", \"<br>\")\n",
        "    display(HTML(result_html_str))\n",
        "    attack_log_manager.log_result(result)\n",
        "            \n",
        "    if not isinstance(result, textattack.attack_results.SkippedAttackResult):\n",
        "        pbar.update(1)\n",
        "    else:\n",
        "        worklist_tail += 1\n",
        "        pbar.update(1)\n",
        "        worklist.append(worklist_tail)\n",
        "\n",
        "    num_results += 1\n",
        "\n",
        "    if (\n",
        "        type(result) == textattack.attack_results.SuccessfulAttackResult\n",
        "        or type(result) == textattack.attack_results.MaximizedAttackResult\n",
        "    ):\n",
        "        num_successes += 1\n",
        "                \n",
        "    if type(result) == textattack.attack_results.FailedAttackResult:\n",
        "        num_failures += 1\n",
        "    pbar.set_description(\n",
        "        \"[Succeeded / Failed / Total] {} / {} / {}\".format(\n",
        "            num_successes, num_failures, num_results\n",
        "        )\n",
        "    )\n",
        "\n",
        "pbar.close()\n",
        "\n",
        "attack_log_manager.enable_stdout()\n",
        "attack_log_manager.log_summary()\n",
        "attack_log_manager.flush()\n",
        "        \n",
        "textattack.shared.logger.info(f\"Attack time: {time.time() - load_time}s\")"
      ],
      "execution_count": null,
      "outputs": [
        {
          "output_type": "stream",
          "text": [
            "\n",
            "\n",
            "\n",
            "\n",
            "\n",
            "\n",
            "\n",
            "\n",
            "\n",
            "\n",
            "\n",
            "\n",
            "\n",
            "  0%|          | 0/10 [00:00<?, ?it/s]\u001b[A\u001b[A\u001b[A\u001b[A\u001b[A\u001b[A\u001b[A\u001b[A\u001b[A\u001b[A\u001b[A\u001b[A\u001b[A"
          ],
          "name": "stderr"
        },
        {
          "output_type": "display_data",
          "data": {
            "text/html": [
              "<font color = blue>Business (100%)</font> --> <font color = purple>Sci/tech (73%)</font><br>Fears for T <font color = blue>N</font> <font color = blue>pension</font> after talks Unions representing <font color = blue>workers</font> at Turner   <font color = blue>Newall</font> say they are 'disappointed' after talks with stricken parent firm Federal Mogul.<br>Fears for T <font color = purple>outgrabe</font> <font color = purple>suspension</font> after talks Unions representing <font color = purple>coworkers</font> at Turner   <font color = purple>sewall</font> say they are 'disappointed' after talks with stricken parent firm Federal Mogul."
            ],
            "text/plain": [
              "<IPython.core.display.HTML object>"
            ]
          },
          "metadata": {
            "tags": []
          }
        },
        {
          "output_type": "stream",
          "text": [
            "\n",
            "\n",
            "\n",
            "\n",
            "\n",
            "\n",
            "\n",
            "\n",
            "\n",
            "\n",
            "\n",
            "\n",
            "\n",
            " 10%|█         | 1/10 [00:01<00:14,  1.62s/it]\u001b[A\u001b[A\u001b[A\u001b[A\u001b[A\u001b[A\u001b[A\u001b[A\u001b[A\u001b[A\u001b[A\u001b[A\u001b[A\n",
            "\n",
            "\n",
            "\n",
            "\n",
            "\n",
            "\n",
            "\n",
            "\n",
            "\n",
            "\n",
            "\n",
            "\n",
            "[Succeeded / Failed / Total] 1 / 0 / 1:  10%|█         | 1/10 [00:01<00:14,  1.64s/it]\u001b[A\u001b[A\u001b[A\u001b[A\u001b[A\u001b[A\u001b[A\u001b[A\u001b[A\u001b[A\u001b[A\u001b[A\u001b[A"
          ],
          "name": "stderr"
        },
        {
          "output_type": "display_data",
          "data": {
            "text/html": [
              "<font color = purple>Sci/tech (100%)</font> --> <font color = red>[FAILED]</font><br>The Race is On: Second Private Team Sets Launch Date for Human Spaceflight (SPACE.com) SPACE.com - TORONTO, Canada -- A second\\team of rocketeers competing for the  #36;10 million Ansari X Prize, a contest for\\privately funded suborbital space flight, has officially announced the first\\launch date for its manned rocket."
            ],
            "text/plain": [
              "<IPython.core.display.HTML object>"
            ]
          },
          "metadata": {
            "tags": []
          }
        },
        {
          "output_type": "stream",
          "text": [
            "\n",
            "\n",
            "\n",
            "\n",
            "\n",
            "\n",
            "\n",
            "\n",
            "\n",
            "\n",
            "\n",
            "\n",
            "\n",
            "[Succeeded / Failed / Total] 1 / 0 / 1:  20%|██        | 2/10 [00:34<02:16, 17.08s/it]\u001b[A\u001b[A\u001b[A\u001b[A\u001b[A\u001b[A\u001b[A\u001b[A\u001b[A\u001b[A\u001b[A\u001b[A\u001b[A\n",
            "\n",
            "\n",
            "\n",
            "\n",
            "\n",
            "\n",
            "\n",
            "\n",
            "\n",
            "\n",
            "\n",
            "\n",
            "[Succeeded / Failed / Total] 1 / 1 / 2:  20%|██        | 2/10 [00:34<02:16, 17.09s/it]\u001b[A\u001b[A\u001b[A\u001b[A\u001b[A\u001b[A\u001b[A\u001b[A\u001b[A\u001b[A\u001b[A\u001b[A\u001b[A"
          ],
          "name": "stderr"
        },
        {
          "output_type": "display_data",
          "data": {
            "text/html": [
              "<font color = purple>Sci/tech (100%)</font> --> <font color = red>[FAILED]</font><br>Ky. Company Wins Grant to Study Peptides (AP) AP - A company founded by a chemistry researcher at the University of Louisville won a grant to develop a method of producing better peptides, which are short chains of amino acids, the building blocks of proteins."
            ],
            "text/plain": [
              "<IPython.core.display.HTML object>"
            ]
          },
          "metadata": {
            "tags": []
          }
        },
        {
          "output_type": "stream",
          "text": [
            "\n",
            "\n",
            "\n",
            "\n",
            "\n",
            "\n",
            "\n",
            "\n",
            "\n",
            "\n",
            "\n",
            "\n",
            "\n",
            "[Succeeded / Failed / Total] 1 / 1 / 2:  30%|███       | 3/10 [01:03<02:27, 21.08s/it]\u001b[A\u001b[A\u001b[A\u001b[A\u001b[A\u001b[A\u001b[A\u001b[A\u001b[A\u001b[A\u001b[A\u001b[A\u001b[A\n",
            "\n",
            "\n",
            "\n",
            "\n",
            "\n",
            "\n",
            "\n",
            "\n",
            "\n",
            "\n",
            "\n",
            "\n",
            "[Succeeded / Failed / Total] 1 / 2 / 3:  30%|███       | 3/10 [01:03<02:27, 21.09s/it]\u001b[A\u001b[A\u001b[A\u001b[A\u001b[A\u001b[A\u001b[A\u001b[A\u001b[A\u001b[A\u001b[A\u001b[A\u001b[A"
          ],
          "name": "stderr"
        },
        {
          "output_type": "display_data",
          "data": {
            "text/html": [
              "<font color = purple>Sci/tech (100%)</font> --> <font color = green>Sports (62%)</font><br>Prediction <font color = purple>Unit</font> <font color = purple>Helps</font> Forecast <font color = purple>Wildfires</font> (AP) AP - It's barely dawn when Mike Fitzpatrick starts his shift with a blur of colorful maps, figures and endless charts, but already he knows what the day will bring. Lightning will strike in <font color = purple>places</font> he expects. <font color = purple>Winds</font> will <font color = purple>pick</font> up, <font color = purple>moist</font> places will dry and flames will <font color = purple>roar</font>.<br>Prediction <font color = green>nit</font> <font color = green>lps</font> Forecast <font color = green>fires</font> (AP) AP - It's barely dawn when Mike Fitzpatrick starts his shift with a blur of colorful maps, figures and endless charts, but already he knows what the day will bring. Lightning will strike in <font color = green>placentals</font> he expects. <font color = green>nds</font> will <font color = green>pickwick</font> up, <font color = green>hoist</font> places will dry and flames will <font color = green>trafalgar</font>."
            ],
            "text/plain": [
              "<IPython.core.display.HTML object>"
            ]
          },
          "metadata": {
            "tags": []
          }
        },
        {
          "output_type": "stream",
          "text": [
            "\n",
            "\n",
            "\n",
            "\n",
            "\n",
            "\n",
            "\n",
            "\n",
            "\n",
            "\n",
            "\n",
            "\n",
            "\n",
            "[Succeeded / Failed / Total] 1 / 2 / 3:  40%|████      | 4/10 [01:25<02:08, 21.48s/it]\u001b[A\u001b[A\u001b[A\u001b[A\u001b[A\u001b[A\u001b[A\u001b[A\u001b[A\u001b[A\u001b[A\u001b[A\u001b[A\n",
            "\n",
            "\n",
            "\n",
            "\n",
            "\n",
            "\n",
            "\n",
            "\n",
            "\n",
            "\n",
            "\n",
            "\n",
            "[Succeeded / Failed / Total] 2 / 2 / 4:  40%|████      | 4/10 [01:25<02:08, 21.48s/it]\u001b[A\u001b[A\u001b[A\u001b[A\u001b[A\u001b[A\u001b[A\u001b[A\u001b[A\u001b[A\u001b[A\u001b[A\u001b[A"
          ],
          "name": "stderr"
        },
        {
          "output_type": "display_data",
          "data": {
            "text/html": [
              "<font color = purple>Sci/tech (100%)</font> --> <font color = red>World (68%)</font><br>Calif. Aims to Limit <font color = purple>Farm-Related</font> Smog (AP) AP - Southern California's <font color = purple>smog-fighting</font> agency went after <font color = purple>emissions</font> of the bovine variety Friday, adopting the nation's first <font color = purple>rules</font> to <font color = purple>reduce</font> air <font color = purple>pollution</font> from dairy cow manure.<br>Calif. Aims to Limit <font color = red>belated</font> Smog (AP) AP - Southern California's <font color = red>bullfighting</font> agency went after <font color = red>omissions</font> of the bovine variety Friday, adopting the nation's first <font color = red>mules</font> to <font color = red>seduce</font> air <font color = red>dilution</font> from dairy cow manure."
            ],
            "text/plain": [
              "<IPython.core.display.HTML object>"
            ]
          },
          "metadata": {
            "tags": []
          }
        },
        {
          "output_type": "stream",
          "text": [
            "\n",
            "\n",
            "\n",
            "\n",
            "\n",
            "\n",
            "\n",
            "\n",
            "\n",
            "\n",
            "\n",
            "\n",
            "\n",
            "[Succeeded / Failed / Total] 2 / 2 / 4:  50%|█████     | 5/10 [01:36<01:36, 19.27s/it]\u001b[A\u001b[A\u001b[A\u001b[A\u001b[A\u001b[A\u001b[A\u001b[A\u001b[A\u001b[A\u001b[A\u001b[A\u001b[A\n",
            "\n",
            "\n",
            "\n",
            "\n",
            "\n",
            "\n",
            "\n",
            "\n",
            "\n",
            "\n",
            "\n",
            "\n",
            "[Succeeded / Failed / Total] 3 / 2 / 5:  50%|█████     | 5/10 [01:36<01:36, 19.27s/it]\u001b[A\u001b[A\u001b[A\u001b[A\u001b[A\u001b[A\u001b[A\u001b[A\u001b[A\u001b[A\u001b[A\u001b[A\u001b[A"
          ],
          "name": "stderr"
        },
        {
          "output_type": "display_data",
          "data": {
            "text/html": [
              "<font color = purple>Sci/tech (100%)</font> --> <font color = red>[FAILED]</font><br>Open Letter Against British Copyright Indoctrination in Schools The British Department for Education and Skills (DfES) recently launched a \"Music Manifesto\" campaign, with the ostensible intention of educating the next generation of British musicians. Unfortunately, they also teamed up with the music industry (EMI, and various artists) to make this popular. EMI has apparently negotiated their end well, so that children in our schools will now be indoctrinated about the illegality of downloading music.The ignorance and audacity of this got to me a little, so I wrote an open letter to the DfES about it. Unfortunately, it's pedantic, as I suppose you have to be when writing to goverment representatives. But I hope you find it useful, and perhaps feel inspired to do something similar, if or when the same thing has happened in your area."
            ],
            "text/plain": [
              "<IPython.core.display.HTML object>"
            ]
          },
          "metadata": {
            "tags": []
          }
        },
        {
          "output_type": "stream",
          "text": [
            "\n",
            "\n",
            "\n",
            "\n",
            "\n",
            "\n",
            "\n",
            "\n",
            "\n",
            "\n",
            "\n",
            "\n",
            "\n",
            "[Succeeded / Failed / Total] 3 / 2 / 5:  60%|██████    | 6/10 [03:18<02:12, 33.15s/it]\u001b[A\u001b[A\u001b[A\u001b[A\u001b[A\u001b[A\u001b[A\u001b[A\u001b[A\u001b[A\u001b[A\u001b[A\u001b[A\n",
            "\n",
            "\n",
            "\n",
            "\n",
            "\n",
            "\n",
            "\n",
            "\n",
            "\n",
            "\n",
            "\n",
            "\n",
            "[Succeeded / Failed / Total] 3 / 3 / 6:  60%|██████    | 6/10 [03:18<02:12, 33.15s/it]\u001b[A\u001b[A\u001b[A\u001b[A\u001b[A\u001b[A\u001b[A\u001b[A\u001b[A\u001b[A\u001b[A\u001b[A\u001b[A"
          ],
          "name": "stderr"
        },
        {
          "output_type": "display_data",
          "data": {
            "text/html": [
              "<font color = purple>Sci/tech (100%)</font> --> <font color = red>[FAILED]</font><br>Loosing the War on Terrorism \\\\\"Sven Jaschan, self-confessed author of the Netsky and Sasser viruses, is\\responsible for 70 percent of virus infections in 2004, according to a six-month\\virus roundup published Wednesday by antivirus company Sophos.\"\\\\\"The 18-year-old Jaschan was taken into custody in Germany in May by police who\\said he had admitted programming both the Netsky and Sasser worms, something\\experts at Microsoft confirmed. (A Microsoft antivirus reward program led to the\\teenager's arrest.) During the five months preceding Jaschan's capture, there\\were at least 25 variants of Netsky and one of the port-scanning network worm\\Sasser.\"\\\\\"Graham Cluley, senior technology consultant at Sophos, said it was staggeri ...\\\\"
            ],
            "text/plain": [
              "<IPython.core.display.HTML object>"
            ]
          },
          "metadata": {
            "tags": []
          }
        },
        {
          "output_type": "stream",
          "text": [
            "\n",
            "\n",
            "\n",
            "\n",
            "\n",
            "\n",
            "\n",
            "\n",
            "\n",
            "\n",
            "\n",
            "\n",
            "\n",
            "[Succeeded / Failed / Total] 3 / 3 / 6:  70%|███████   | 7/10 [04:35<01:58, 39.42s/it]\u001b[A\u001b[A\u001b[A\u001b[A\u001b[A\u001b[A\u001b[A\u001b[A\u001b[A\u001b[A\u001b[A\u001b[A\u001b[A\n",
            "\n",
            "\n",
            "\n",
            "\n",
            "\n",
            "\n",
            "\n",
            "\n",
            "\n",
            "\n",
            "\n",
            "\n",
            "[Succeeded / Failed / Total] 3 / 4 / 7:  70%|███████   | 7/10 [04:35<01:58, 39.42s/it]\u001b[A\u001b[A\u001b[A\u001b[A\u001b[A\u001b[A\u001b[A\u001b[A\u001b[A\u001b[A\u001b[A\u001b[A\u001b[A"
          ],
          "name": "stderr"
        },
        {
          "output_type": "display_data",
          "data": {
            "text/html": [
              "<font color = purple>Sci/tech (100%)</font> --> <font color = red>[FAILED]</font><br>FOAFKey: FOAF, PGP, Key Distribution, and Bloom Filters \\\\FOAF/LOAF  and bloom filters have a lot of interesting properties for social\\network and whitelist distribution.\\\\I think we can go one level higher though and include GPG/OpenPGP key\\fingerpring distribution in the FOAF file for simple web-of-trust based key\\distribution.\\\\What if we used FOAF and included the PGP key fingerprint(s) for identities?\\This could mean a lot.  You include the PGP key fingerprints within the FOAF\\file of your direct friends and then include a bloom filter of the PGP key\\fingerprints of your entire whitelist (the source FOAF file would of course need\\to be encrypted ).\\\\Your whitelist would be populated from the social network as your client\\discovered new identit ...\\\\"
            ],
            "text/plain": [
              "<IPython.core.display.HTML object>"
            ]
          },
          "metadata": {
            "tags": []
          }
        },
        {
          "output_type": "stream",
          "text": [
            "\n",
            "\n",
            "\n",
            "\n",
            "\n",
            "\n",
            "\n",
            "\n",
            "\n",
            "\n",
            "\n",
            "\n",
            "\n",
            "[Succeeded / Failed / Total] 3 / 4 / 7:  80%|████████  | 8/10 [06:11<01:32, 46.42s/it]\u001b[A\u001b[A\u001b[A\u001b[A\u001b[A\u001b[A\u001b[A\u001b[A\u001b[A\u001b[A\u001b[A\u001b[A\u001b[A\n",
            "\n",
            "\n",
            "\n",
            "\n",
            "\n",
            "\n",
            "\n",
            "\n",
            "\n",
            "\n",
            "\n",
            "\n",
            "[Succeeded / Failed / Total] 3 / 5 / 8:  80%|████████  | 8/10 [06:11<01:32, 46.42s/it]\u001b[A\u001b[A\u001b[A\u001b[A\u001b[A\u001b[A\u001b[A\u001b[A\u001b[A\u001b[A\u001b[A\u001b[A\u001b[A"
          ],
          "name": "stderr"
        },
        {
          "output_type": "display_data",
          "data": {
            "text/html": [
              "<font color = purple>Sci/tech (98%)</font> --> <font color = red>World (62%)</font><br>E-mail scam targets police chief Wiltshire Police warns about \"<font color = purple>phishing</font>\" after its <font color = purple>fraud</font> <font color = purple>squad</font> chief was targeted.<br>E-mail scam targets police chief Wiltshire Police warns about \"<font color = red>vanishing</font>\" after its <font color = red>frau</font> <font color = red>squadron</font> chief was targeted."
            ],
            "text/plain": [
              "<IPython.core.display.HTML object>"
            ]
          },
          "metadata": {
            "tags": []
          }
        },
        {
          "output_type": "stream",
          "text": [
            "\n",
            "\n",
            "\n",
            "\n",
            "\n",
            "\n",
            "\n",
            "\n",
            "\n",
            "\n",
            "\n",
            "\n",
            "\n",
            "[Succeeded / Failed / Total] 3 / 5 / 8:  90%|█████████ | 9/10 [06:13<00:41, 41.49s/it]\u001b[A\u001b[A\u001b[A\u001b[A\u001b[A\u001b[A\u001b[A\u001b[A\u001b[A\u001b[A\u001b[A\u001b[A\u001b[A\n",
            "\n",
            "\n",
            "\n",
            "\n",
            "\n",
            "\n",
            "\n",
            "\n",
            "\n",
            "\n",
            "\n",
            "\n",
            "[Succeeded / Failed / Total] 4 / 5 / 9:  90%|█████████ | 9/10 [06:13<00:41, 41.49s/it]\u001b[A\u001b[A\u001b[A\u001b[A\u001b[A\u001b[A\u001b[A\u001b[A\u001b[A\u001b[A\u001b[A\u001b[A\u001b[A"
          ],
          "name": "stderr"
        },
        {
          "output_type": "display_data",
          "data": {
            "text/html": [
              "<font color = purple>Sci/tech (98%)</font> --> <font color = green>Sports (92%)</font><br>Card <font color = purple>fraud</font> unit nets 36,000 cards In its first two years, the UK's dedicated card <font color = purple>fraud</font> unit, has recovered 36,000 stolen cards and 171 arrests - and estimates it saved 65m.<br>Card <font color = green>frau</font> unit nets 36,000 cards In its first two years, the UK's dedicated card <font color = green>frau</font> unit, has recovered 36,000 stolen cards and 171 arrests - and estimates it saved 65m."
            ],
            "text/plain": [
              "<IPython.core.display.HTML object>"
            ]
          },
          "metadata": {
            "tags": []
          }
        },
        {
          "output_type": "stream",
          "text": [
            "\n",
            "\n",
            "\n",
            "\n",
            "\n",
            "\n",
            "\n",
            "\n",
            "\n",
            "\n",
            "\n",
            "\n",
            "\n",
            "[Succeeded / Failed / Total] 4 / 5 / 9: 100%|██████████| 10/10 [06:15<00:00, 37.55s/it]\u001b[A\u001b[A\u001b[A\u001b[A\u001b[A\u001b[A\u001b[A\u001b[A\u001b[A\u001b[A\u001b[A\u001b[A\u001b[A\n",
            "\n",
            "\n",
            "\n",
            "\n",
            "\n",
            "\n",
            "\n",
            "\n",
            "\n",
            "\n",
            "\n",
            "\n",
            "[Succeeded / Failed / Total] 5 / 5 / 10: 100%|██████████| 10/10 [06:15<00:00, 37.56s/it]"
          ],
          "name": "stderr"
        },
        {
          "output_type": "stream",
          "text": [
            "+-------------------------------+--------+\n",
            "| Attack Results                |        |\n",
            "+-------------------------------+--------+\n",
            "| Number of successful attacks: | 5      |\n",
            "| Number of failed attacks:     | 5      |\n",
            "| Number of skipped attacks:    | 0      |\n",
            "| Original accuracy:            | 100.0% |\n",
            "| Accuracy under attack:        | 50.0%  |\n",
            "| Attack success rate:          | 50.0%  |\n",
            "| Average perturbed word %:     | 14.58% |\n",
            "| Average num. words per input: | 63.0   |\n",
            "| Avg num queries:              | 1694.1 |\n",
            "+-------------------------------+--------+"
          ],
          "name": "stdout"
        },
        {
          "output_type": "stream",
          "text": [
            "\n",
            "\u001b[34;1mtextattack\u001b[0m: Attack time: 375.5643241405487s\n"
          ],
          "name": "stderr"
        }
      ]
    },
    {
      "cell_type": "code",
      "metadata": {
        "colab": {
          "base_uri": "https://localhost:8080/"
        },
        "id": "f_VpgSrP9yeC",
        "outputId": "0523ac33-05fc-4501-ae20-5465e43c4148"
      },
      "source": [
        "from textattack.search_methods import ParticleSwarmOptimization\n",
        "from textattack.constraints.grammaticality import PartOfSpeech\n",
        "from textattack.shared import Attack\n",
        "from textattack.goal_functions import UntargetedClassification\n",
        "from textattack.datasets import HuggingFaceDataset\n",
        "\n",
        "\n",
        "transformation = Swapper_()\n",
        "\n",
        "constraints = [PartOfSpeech()]\n",
        "\n",
        "search_method = ParticleSwarmOptimization(pop_size=10,max_iters=5,post_turn_check=True,max_turn_retries=5)\n",
        "# Create the goal function using the model\n",
        "\n",
        "goal_function = UntargetedClassification(model_wrapper)\n",
        "\n",
        "# Now, let's make the attack from the 4 components:\n",
        "attack = Attack(goal_function, constraints, transformation, search_method)\n",
        "\n",
        "dataset = HuggingFaceDataset(\"ag_news\", None, \"test\")"
      ],
      "execution_count": null,
      "outputs": [
        {
          "output_type": "stream",
          "text": [
            "\u001b[34;1mtextattack\u001b[0m: Unknown if model of class <class 'transformers.models.bert.modeling_bert.BertForSequenceClassification'> compatible with goal function <class 'textattack.goal_functions.classification.untargeted_classification.UntargetedClassification'>.\n",
            "Using custom data configuration default\n",
            "Reusing dataset ag_news (/root/.cache/huggingface/datasets/ag_news/default/0.0.0/0eeeaaa5fb6dffd81458e293dfea1adba2881ffcbdc3fb56baeb5a892566c29a)\n",
            "\u001b[34;1mtextattack\u001b[0m: Loading \u001b[94mdatasets\u001b[0m dataset \u001b[94mag_news\u001b[0m, split \u001b[94mtest\u001b[0m.\n"
          ],
          "name": "stderr"
        }
      ]
    },
    {
      "cell_type": "code",
      "metadata": {
        "colab": {
          "base_uri": "https://localhost:8080/"
        },
        "id": "6eS13n_j9yu2",
        "outputId": "e7efaf62-c805-47fe-d87a-448d95c93e96"
      },
      "source": [
        "print(attack)"
      ],
      "execution_count": null,
      "outputs": [
        {
          "output_type": "stream",
          "text": [
            "Attack(\n",
            "  (search_method): ParticleSwarmOptimization(\n",
            "    (pop_size):  10\n",
            "    (max_iters):  5\n",
            "    (post_turn_check):  True\n",
            "    (max_turn_retries):  20\n",
            "  )\n",
            "  (goal_function):  UntargetedClassification\n",
            "  (transformation):  Swapper_\n",
            "  (constraints): \n",
            "    (0): PartOfSpeech(\n",
            "        (tagger_type):  nltk\n",
            "        (tagset):  universal\n",
            "        (allow_verb_noun_swap):  True\n",
            "        (compare_against_original):  True\n",
            "      )\n",
            "  (is_black_box):  True\n",
            ")\n"
          ],
          "name": "stdout"
        }
      ]
    },
    {
      "cell_type": "code",
      "metadata": {
        "colab": {
          "base_uri": "https://localhost:8080/",
          "height": 1000
        },
        "id": "G_dY7qkv9y2A",
        "outputId": "935bbf6b-b0c9-4868-8874-cc393281bc13"
      },
      "source": [
        "from collections import deque\n",
        "\n",
        "import textattack\n",
        "import tqdm\n",
        "import time\n",
        "from IPython.display import display, HTML\n",
        "num_examples = 10\n",
        "num_remaining_attacks = num_examples\n",
        "pbar = tqdm.tqdm(total=num_remaining_attacks, smoothing=0)\n",
        "\n",
        "worklist = deque(range(0, num_examples))\n",
        "worklist_tail = worklist[-1]\n",
        "\n",
        "attack_log_manager = textattack.loggers.AttackLogManager()\n",
        "\n",
        "load_time = time.time()\n",
        "        \n",
        "num_results = 0\n",
        "num_failures = 0\n",
        "num_successes = 0\n",
        "for result in attack.attack_dataset(dataset, indices=worklist):\n",
        "    result_html_str = result.__str__(color_method=\"html\").replace(\"\\n\\n\", \"<br>\")\n",
        "    display(HTML(result_html_str))\n",
        "    attack_log_manager.log_result(result)\n",
        "            \n",
        "    if not isinstance(result, textattack.attack_results.SkippedAttackResult):\n",
        "        pbar.update(1)\n",
        "    else:\n",
        "        worklist_tail += 1\n",
        "        pbar.update(1)\n",
        "        worklist.append(worklist_tail)\n",
        "\n",
        "    num_results += 1\n",
        "\n",
        "    if (\n",
        "        type(result) == textattack.attack_results.SuccessfulAttackResult\n",
        "        or type(result) == textattack.attack_results.MaximizedAttackResult\n",
        "    ):\n",
        "        num_successes += 1\n",
        "                \n",
        "    if type(result) == textattack.attack_results.FailedAttackResult:\n",
        "        num_failures += 1\n",
        "    pbar.set_description(\n",
        "        \"[Succeeded / Failed / Total] {} / {} / {}\".format(\n",
        "            num_successes, num_failures, num_results\n",
        "        )\n",
        "    )\n",
        "\n",
        "pbar.close()\n",
        "\n",
        "attack_log_manager.enable_stdout()\n",
        "attack_log_manager.log_summary()\n",
        "attack_log_manager.flush()\n",
        "        \n",
        "textattack.shared.logger.info(f\"Attack time: {time.time() - load_time}s\")"
      ],
      "execution_count": null,
      "outputs": [
        {
          "output_type": "stream",
          "text": [
            "\n",
            "\n",
            "\n",
            "\n",
            "\n",
            "\n",
            "\n",
            "\n",
            "\n",
            "\n",
            "\n",
            "\n",
            "\n",
            "  0%|          | 0/10 [00:00<?, ?it/s]\u001b[A\u001b[A\u001b[A\u001b[A\u001b[A\u001b[A\u001b[A\u001b[A\u001b[A\u001b[A\u001b[A\u001b[A\u001b[A"
          ],
          "name": "stderr"
        },
        {
          "output_type": "display_data",
          "data": {
            "text/html": [
              "<font color = blue>Business (100%)</font> --> <font color = red>[FAILED]</font><br>Fears for T N pension after talks Unions representing workers at Turner   Newall say they are 'disappointed' after talks with stricken parent firm Federal Mogul."
            ],
            "text/plain": [
              "<IPython.core.display.HTML object>"
            ]
          },
          "metadata": {
            "tags": []
          }
        },
        {
          "output_type": "stream",
          "text": [
            "\n",
            "\n",
            "\n",
            "\n",
            "\n",
            "\n",
            "\n",
            "\n",
            "\n",
            "\n",
            "\n",
            "\n",
            "\n",
            " 10%|█         | 1/10 [00:09<01:21,  9.01s/it]\u001b[A\u001b[A\u001b[A\u001b[A\u001b[A\u001b[A\u001b[A\u001b[A\u001b[A\u001b[A\u001b[A\u001b[A\u001b[A\n",
            "\n",
            "\n",
            "\n",
            "\n",
            "\n",
            "\n",
            "\n",
            "\n",
            "\n",
            "\n",
            "\n",
            "\n",
            "[Succeeded / Failed / Total] 0 / 1 / 1:  10%|█         | 1/10 [00:09<01:21,  9.02s/it]\u001b[A\u001b[A\u001b[A\u001b[A\u001b[A\u001b[A\u001b[A\u001b[A\u001b[A\u001b[A\u001b[A\u001b[A\u001b[A"
          ],
          "name": "stderr"
        },
        {
          "output_type": "display_data",
          "data": {
            "text/html": [
              "<font color = purple>Sci/tech (100%)</font> --> <font color = red>[FAILED]</font><br>The Race is On: Second Private Team Sets Launch Date for Human Spaceflight (SPACE.com) SPACE.com - TORONTO, Canada -- A second\\team of rocketeers competing for the  #36;10 million Ansari X Prize, a contest for\\privately funded suborbital space flight, has officially announced the first\\launch date for its manned rocket."
            ],
            "text/plain": [
              "<IPython.core.display.HTML object>"
            ]
          },
          "metadata": {
            "tags": []
          }
        },
        {
          "output_type": "stream",
          "text": [
            "\n",
            "\n",
            "\n",
            "\n",
            "\n",
            "\n",
            "\n",
            "\n",
            "\n",
            "\n",
            "\n",
            "\n",
            "\n",
            "[Succeeded / Failed / Total] 0 / 1 / 1:  20%|██        | 2/10 [00:29<01:57, 14.70s/it]\u001b[A\u001b[A\u001b[A\u001b[A\u001b[A\u001b[A\u001b[A\u001b[A\u001b[A\u001b[A\u001b[A\u001b[A\u001b[A\n",
            "\n",
            "\n",
            "\n",
            "\n",
            "\n",
            "\n",
            "\n",
            "\n",
            "\n",
            "\n",
            "\n",
            "\n",
            "[Succeeded / Failed / Total] 0 / 2 / 2:  20%|██        | 2/10 [00:29<01:57, 14.71s/it]\u001b[A\u001b[A\u001b[A\u001b[A\u001b[A\u001b[A\u001b[A\u001b[A\u001b[A\u001b[A\u001b[A\u001b[A\u001b[A"
          ],
          "name": "stderr"
        },
        {
          "output_type": "display_data",
          "data": {
            "text/html": [
              "<font color = purple>Sci/tech (100%)</font> --> <font color = red>[FAILED]</font><br>Ky. Company Wins Grant to Study Peptides (AP) AP - A company founded by a chemistry researcher at the University of Louisville won a grant to develop a method of producing better peptides, which are short chains of amino acids, the building blocks of proteins."
            ],
            "text/plain": [
              "<IPython.core.display.HTML object>"
            ]
          },
          "metadata": {
            "tags": []
          }
        },
        {
          "output_type": "stream",
          "text": [
            "\n",
            "\n",
            "\n",
            "\n",
            "\n",
            "\n",
            "\n",
            "\n",
            "\n",
            "\n",
            "\n",
            "\n",
            "\n",
            "[Succeeded / Failed / Total] 0 / 2 / 2:  30%|███       | 3/10 [00:51<02:00, 17.22s/it]\u001b[A\u001b[A\u001b[A\u001b[A\u001b[A\u001b[A\u001b[A\u001b[A\u001b[A\u001b[A\u001b[A\u001b[A\u001b[A\n",
            "\n",
            "\n",
            "\n",
            "\n",
            "\n",
            "\n",
            "\n",
            "\n",
            "\n",
            "\n",
            "\n",
            "\n",
            "[Succeeded / Failed / Total] 0 / 3 / 3:  30%|███       | 3/10 [00:51<02:00, 17.22s/it]\u001b[A\u001b[A\u001b[A\u001b[A\u001b[A\u001b[A\u001b[A\u001b[A\u001b[A\u001b[A\u001b[A\u001b[A\u001b[A"
          ],
          "name": "stderr"
        },
        {
          "output_type": "display_data",
          "data": {
            "text/html": [
              "<font color = purple>Sci/tech (100%)</font> --> <font color = red>[FAILED]</font><br>Prediction Unit Helps Forecast Wildfires (AP) AP - It's barely dawn when Mike Fitzpatrick starts his shift with a blur of colorful maps, figures and endless charts, but already he knows what the day will bring. Lightning will strike in places he expects. Winds will pick up, moist places will dry and flames will roar."
            ],
            "text/plain": [
              "<IPython.core.display.HTML object>"
            ]
          },
          "metadata": {
            "tags": []
          }
        },
        {
          "output_type": "stream",
          "text": [
            "\n",
            "\n",
            "\n",
            "\n",
            "\n",
            "\n",
            "\n",
            "\n",
            "\n",
            "\n",
            "\n",
            "\n",
            "\n",
            "[Succeeded / Failed / Total] 0 / 3 / 3:  40%|████      | 4/10 [01:26<02:10, 21.71s/it]\u001b[A\u001b[A\u001b[A\u001b[A\u001b[A\u001b[A\u001b[A\u001b[A\u001b[A\u001b[A\u001b[A\u001b[A\u001b[A\n",
            "\n",
            "\n",
            "\n",
            "\n",
            "\n",
            "\n",
            "\n",
            "\n",
            "\n",
            "\n",
            "\n",
            "\n",
            "[Succeeded / Failed / Total] 0 / 4 / 4:  40%|████      | 4/10 [01:26<02:10, 21.71s/it]\u001b[A\u001b[A\u001b[A\u001b[A\u001b[A\u001b[A\u001b[A\u001b[A\u001b[A\u001b[A\u001b[A\u001b[A\u001b[A"
          ],
          "name": "stderr"
        },
        {
          "output_type": "display_data",
          "data": {
            "text/html": [
              "<font color = purple>Sci/tech (100%)</font> --> <font color = red>[FAILED]</font><br>Calif. Aims to Limit Farm-Related Smog (AP) AP - Southern California's smog-fighting agency went after emissions of the bovine variety Friday, adopting the nation's first rules to reduce air pollution from dairy cow manure."
            ],
            "text/plain": [
              "<IPython.core.display.HTML object>"
            ]
          },
          "metadata": {
            "tags": []
          }
        },
        {
          "output_type": "stream",
          "text": [
            "\n",
            "\n",
            "\n",
            "\n",
            "\n",
            "\n",
            "\n",
            "\n",
            "\n",
            "\n",
            "\n",
            "\n",
            "\n",
            "[Succeeded / Failed / Total] 0 / 4 / 4:  50%|█████     | 5/10 [01:42<01:42, 20.41s/it]\u001b[A\u001b[A\u001b[A\u001b[A\u001b[A\u001b[A\u001b[A\u001b[A\u001b[A\u001b[A\u001b[A\u001b[A\u001b[A\n",
            "\n",
            "\n",
            "\n",
            "\n",
            "\n",
            "\n",
            "\n",
            "\n",
            "\n",
            "\n",
            "\n",
            "\n",
            "[Succeeded / Failed / Total] 0 / 5 / 5:  50%|█████     | 5/10 [01:42<01:42, 20.41s/it]\u001b[A\u001b[A\u001b[A\u001b[A\u001b[A\u001b[A\u001b[A\u001b[A\u001b[A\u001b[A\u001b[A\u001b[A\u001b[A"
          ],
          "name": "stderr"
        },
        {
          "output_type": "display_data",
          "data": {
            "text/html": [
              "<font color = purple>Sci/tech (100%)</font> --> <font color = red>[FAILED]</font><br>Open Letter Against British Copyright Indoctrination in Schools The British Department for Education and Skills (DfES) recently launched a \"Music Manifesto\" campaign, with the ostensible intention of educating the next generation of British musicians. Unfortunately, they also teamed up with the music industry (EMI, and various artists) to make this popular. EMI has apparently negotiated their end well, so that children in our schools will now be indoctrinated about the illegality of downloading music.The ignorance and audacity of this got to me a little, so I wrote an open letter to the DfES about it. Unfortunately, it's pedantic, as I suppose you have to be when writing to goverment representatives. But I hope you find it useful, and perhaps feel inspired to do something similar, if or when the same thing has happened in your area."
            ],
            "text/plain": [
              "<IPython.core.display.HTML object>"
            ]
          },
          "metadata": {
            "tags": []
          }
        },
        {
          "output_type": "stream",
          "text": [
            "\n",
            "\n",
            "\n",
            "\n",
            "\n",
            "\n",
            "\n",
            "\n",
            "\n",
            "\n",
            "\n",
            "\n",
            "\n",
            "[Succeeded / Failed / Total] 0 / 5 / 5:  60%|██████    | 6/10 [03:06<02:04, 31.06s/it]\u001b[A\u001b[A\u001b[A\u001b[A\u001b[A\u001b[A\u001b[A\u001b[A\u001b[A\u001b[A\u001b[A\u001b[A\u001b[A\n",
            "\n",
            "\n",
            "\n",
            "\n",
            "\n",
            "\n",
            "\n",
            "\n",
            "\n",
            "\n",
            "\n",
            "\n",
            "[Succeeded / Failed / Total] 0 / 6 / 6:  60%|██████    | 6/10 [03:06<02:04, 31.06s/it]\u001b[A\u001b[A\u001b[A\u001b[A\u001b[A\u001b[A\u001b[A\u001b[A\u001b[A\u001b[A\u001b[A\u001b[A\u001b[A"
          ],
          "name": "stderr"
        },
        {
          "output_type": "display_data",
          "data": {
            "text/html": [
              "<font color = purple>Sci/tech (100%)</font> --> <font color = red>[FAILED]</font><br>Loosing the War on Terrorism \\\\\"Sven Jaschan, self-confessed author of the Netsky and Sasser viruses, is\\responsible for 70 percent of virus infections in 2004, according to a six-month\\virus roundup published Wednesday by antivirus company Sophos.\"\\\\\"The 18-year-old Jaschan was taken into custody in Germany in May by police who\\said he had admitted programming both the Netsky and Sasser worms, something\\experts at Microsoft confirmed. (A Microsoft antivirus reward program led to the\\teenager's arrest.) During the five months preceding Jaschan's capture, there\\were at least 25 variants of Netsky and one of the port-scanning network worm\\Sasser.\"\\\\\"Graham Cluley, senior technology consultant at Sophos, said it was staggeri ...\\\\"
            ],
            "text/plain": [
              "<IPython.core.display.HTML object>"
            ]
          },
          "metadata": {
            "tags": []
          }
        },
        {
          "output_type": "stream",
          "text": [
            "\n",
            "\n",
            "\n",
            "\n",
            "\n",
            "\n",
            "\n",
            "\n",
            "\n",
            "\n",
            "\n",
            "\n",
            "\n",
            "[Succeeded / Failed / Total] 0 / 6 / 6:  70%|███████   | 7/10 [04:00<01:43, 34.39s/it]\u001b[A\u001b[A\u001b[A\u001b[A\u001b[A\u001b[A\u001b[A\u001b[A\u001b[A\u001b[A\u001b[A\u001b[A\u001b[A\n",
            "\n",
            "\n",
            "\n",
            "\n",
            "\n",
            "\n",
            "\n",
            "\n",
            "\n",
            "\n",
            "\n",
            "\n",
            "[Succeeded / Failed / Total] 0 / 7 / 7:  70%|███████   | 7/10 [04:00<01:43, 34.39s/it]\u001b[A\u001b[A\u001b[A\u001b[A\u001b[A\u001b[A\u001b[A\u001b[A\u001b[A\u001b[A\u001b[A\u001b[A\u001b[A"
          ],
          "name": "stderr"
        },
        {
          "output_type": "display_data",
          "data": {
            "text/html": [
              "<font color = purple>Sci/tech (100%)</font> --> <font color = red>[FAILED]</font><br>FOAFKey: FOAF, PGP, Key Distribution, and Bloom Filters \\\\FOAF/LOAF  and bloom filters have a lot of interesting properties for social\\network and whitelist distribution.\\\\I think we can go one level higher though and include GPG/OpenPGP key\\fingerpring distribution in the FOAF file for simple web-of-trust based key\\distribution.\\\\What if we used FOAF and included the PGP key fingerprint(s) for identities?\\This could mean a lot.  You include the PGP key fingerprints within the FOAF\\file of your direct friends and then include a bloom filter of the PGP key\\fingerprints of your entire whitelist (the source FOAF file would of course need\\to be encrypted ).\\\\Your whitelist would be populated from the social network as your client\\discovered new identit ...\\\\"
            ],
            "text/plain": [
              "<IPython.core.display.HTML object>"
            ]
          },
          "metadata": {
            "tags": []
          }
        },
        {
          "output_type": "stream",
          "text": [
            "\n",
            "\n",
            "\n",
            "\n",
            "\n",
            "\n",
            "\n",
            "\n",
            "\n",
            "\n",
            "\n",
            "\n",
            "\n",
            "[Succeeded / Failed / Total] 0 / 7 / 7:  80%|████████  | 8/10 [05:22<01:20, 40.34s/it]\u001b[A\u001b[A\u001b[A\u001b[A\u001b[A\u001b[A\u001b[A\u001b[A\u001b[A\u001b[A\u001b[A\u001b[A\u001b[A\n",
            "\n",
            "\n",
            "\n",
            "\n",
            "\n",
            "\n",
            "\n",
            "\n",
            "\n",
            "\n",
            "\n",
            "\n",
            "[Succeeded / Failed / Total] 0 / 8 / 8:  80%|████████  | 8/10 [05:22<01:20, 40.34s/it]\u001b[A\u001b[A\u001b[A\u001b[A\u001b[A\u001b[A\u001b[A\u001b[A\u001b[A\u001b[A\u001b[A\u001b[A\u001b[A"
          ],
          "name": "stderr"
        },
        {
          "output_type": "display_data",
          "data": {
            "text/html": [
              "<font color = purple>Sci/tech (98%)</font> --> <font color = red>World (82%)</font><br>E-mail scam targets <font color = purple>police</font> chief Wiltshire Police warns about \"<font color = purple>phishing</font>\" after its fraud squad chief was targeted.<br>E-mail scam targets <font color = red>militia</font> chief Wiltshire Police warns about \"<font color = red>backpacking</font>\" after its fraud squad chief was targeted."
            ],
            "text/plain": [
              "<IPython.core.display.HTML object>"
            ]
          },
          "metadata": {
            "tags": []
          }
        },
        {
          "output_type": "stream",
          "text": [
            "\n",
            "\n",
            "\n",
            "\n",
            "\n",
            "\n",
            "\n",
            "\n",
            "\n",
            "\n",
            "\n",
            "\n",
            "\n",
            "[Succeeded / Failed / Total] 0 / 8 / 8:  90%|█████████ | 9/10 [05:23<00:35, 35.94s/it]\u001b[A\u001b[A\u001b[A\u001b[A\u001b[A\u001b[A\u001b[A\u001b[A\u001b[A\u001b[A\u001b[A\u001b[A\u001b[A\n",
            "\n",
            "\n",
            "\n",
            "\n",
            "\n",
            "\n",
            "\n",
            "\n",
            "\n",
            "\n",
            "\n",
            "\n",
            "[Succeeded / Failed / Total] 1 / 8 / 9:  90%|█████████ | 9/10 [05:23<00:35, 35.94s/it]\u001b[A\u001b[A\u001b[A\u001b[A\u001b[A\u001b[A\u001b[A\u001b[A\u001b[A\u001b[A\u001b[A\u001b[A\u001b[A"
          ],
          "name": "stderr"
        },
        {
          "output_type": "display_data",
          "data": {
            "text/html": [
              "<font color = purple>Sci/tech (98%)</font> --> <font color = blue>Business (82%)</font><br>Card fraud unit nets 36,000 cards In its first two years, the UK's dedicated <font color = purple>card</font> fraud unit, has recovered 36,000 stolen cards and 171 arrests - and estimates it saved 65m.<br>Card fraud unit nets 36,000 cards In its first two years, the UK's dedicated <font color = blue>cards</font> fraud unit, has recovered 36,000 stolen cards and 171 arrests - and estimates it saved 65m."
            ],
            "text/plain": [
              "<IPython.core.display.HTML object>"
            ]
          },
          "metadata": {
            "tags": []
          }
        },
        {
          "output_type": "stream",
          "text": [
            "\n",
            "\n",
            "\n",
            "\n",
            "\n",
            "\n",
            "\n",
            "\n",
            "\n",
            "\n",
            "\n",
            "\n",
            "\n",
            "[Succeeded / Failed / Total] 1 / 8 / 9: 100%|██████████| 10/10 [05:23<00:00, 32.40s/it]\u001b[A\u001b[A\u001b[A\u001b[A\u001b[A\u001b[A\u001b[A\u001b[A\u001b[A\u001b[A\u001b[A\u001b[A\u001b[A\n",
            "\n",
            "\n",
            "\n",
            "\n",
            "\n",
            "\n",
            "\n",
            "\n",
            "\n",
            "\n",
            "\n",
            "\n",
            "[Succeeded / Failed / Total] 2 / 8 / 10: 100%|██████████| 10/10 [05:24<00:00, 32.40s/it]"
          ],
          "name": "stderr"
        },
        {
          "output_type": "stream",
          "text": [
            "+-------------------------------+--------+\n",
            "| Attack Results                |        |\n",
            "+-------------------------------+--------+\n",
            "| Number of successful attacks: | 2      |\n",
            "| Number of failed attacks:     | 8      |\n",
            "| Number of skipped attacks:    | 0      |\n",
            "| Original accuracy:            | 100.0% |\n",
            "| Accuracy under attack:        | 80.0%  |\n",
            "| Attack success rate:          | 20.0%  |\n",
            "| Average perturbed word %:     | 7.44%  |\n",
            "| Average num. words per input: | 63.0   |\n",
            "| Avg num queries:              | 1570.9 |\n",
            "+-------------------------------+--------+"
          ],
          "name": "stdout"
        },
        {
          "output_type": "stream",
          "text": [
            "\n",
            "\u001b[34;1mtextattack\u001b[0m: Attack time: 324.02669882774353s\n"
          ],
          "name": "stderr"
        }
      ]
    },
    {
      "cell_type": "code",
      "metadata": {
        "colab": {
          "base_uri": "https://localhost:8080/"
        },
        "id": "uDa1ZyXhZtfE",
        "outputId": "0193beed-7166-4d6a-fea6-8cd04dd21dce"
      },
      "source": [
        "from textattack.search_methods import BeamSearch\n",
        "from textattack.constraints.semantics import WordEmbeddingDistance\n",
        "from textattack.shared import Attack\n",
        "from textattack.goal_functions import UntargetedClassification\n",
        "from textattack.datasets import HuggingFaceDataset\n",
        "\n",
        "\n",
        "transformation = Swapper()\n",
        "\n",
        "constraints = [WordEmbeddingDistance(min_cos_sim=0.8)]\n",
        "\n",
        "search_method = BeamSearch(beam_width=2)\n",
        "# Create the goal function using the model\n",
        "\n",
        "goal_function = UntargetedClassification(model_wrapper)\n",
        "\n",
        "# Now, let's make the attack from the 4 components:\n",
        "attack = Attack(goal_function, constraints, transformation, search_method)\n",
        "\n",
        "dataset = HuggingFaceDataset(\"ag_news\", None, \"test\")"
      ],
      "execution_count": null,
      "outputs": [
        {
          "output_type": "stream",
          "text": [
            "\u001b[34;1mtextattack\u001b[0m: Unknown if model of class <class 'transformers.models.bert.modeling_bert.BertForSequenceClassification'> compatible with goal function <class 'textattack.goal_functions.classification.untargeted_classification.UntargetedClassification'>.\n",
            "Using custom data configuration default\n",
            "Reusing dataset ag_news (/root/.cache/huggingface/datasets/ag_news/default/0.0.0/0eeeaaa5fb6dffd81458e293dfea1adba2881ffcbdc3fb56baeb5a892566c29a)\n",
            "\u001b[34;1mtextattack\u001b[0m: Loading \u001b[94mdatasets\u001b[0m dataset \u001b[94mag_news\u001b[0m, split \u001b[94mtest\u001b[0m.\n"
          ],
          "name": "stderr"
        }
      ]
    },
    {
      "cell_type": "code",
      "metadata": {
        "colab": {
          "base_uri": "https://localhost:8080/"
        },
        "id": "OnI3wk-EaitQ",
        "outputId": "8c498e23-230c-494e-e771-40800a62c062"
      },
      "source": [
        "print(attack)"
      ],
      "execution_count": null,
      "outputs": [
        {
          "output_type": "stream",
          "text": [
            "Attack(\n",
            "  (search_method): BeamSearch(\n",
            "    (beam_width):  2\n",
            "  )\n",
            "  (goal_function):  UntargetedClassification\n",
            "  (transformation):  Swapper\n",
            "  (constraints): \n",
            "    (0): WordEmbeddingDistance(\n",
            "        (embedding):  WordEmbedding\n",
            "        (min_cos_sim):  0.8\n",
            "        (cased):  False\n",
            "        (include_unknown_words):  True\n",
            "        (compare_against_original):  True\n",
            "      )\n",
            "  (is_black_box):  True\n",
            ")\n"
          ],
          "name": "stdout"
        }
      ]
    },
    {
      "cell_type": "code",
      "metadata": {
        "colab": {
          "base_uri": "https://localhost:8080/",
          "height": 1000
        },
        "id": "_vrd1DZEamBo",
        "outputId": "41fda1de-a9a9-4f9a-e6c3-7525c664f5fd"
      },
      "source": [
        "from collections import deque\n",
        "\n",
        "import textattack\n",
        "import tqdm\n",
        "import time\n",
        "from IPython.display import display, HTML\n",
        "num_examples = 10\n",
        "num_remaining_attacks = num_examples\n",
        "pbar = tqdm.tqdm(total=num_remaining_attacks, smoothing=0)\n",
        "\n",
        "worklist = deque(range(0, num_examples))\n",
        "worklist_tail = worklist[-1]\n",
        "\n",
        "attack_log_manager = textattack.loggers.AttackLogManager()\n",
        "\n",
        "load_time = time.time()\n",
        "        \n",
        "num_results = 0\n",
        "num_failures = 0\n",
        "num_successes = 0\n",
        "for result in attack.attack_dataset(dataset, indices=worklist):\n",
        "    result_html_str = result.__str__(color_method=\"html\").replace(\"\\n\\n\", \"<br>\")\n",
        "    display(HTML(result_html_str))\n",
        "    attack_log_manager.log_result(result)\n",
        "            \n",
        "    if not isinstance(result, textattack.attack_results.SkippedAttackResult):\n",
        "        pbar.update(1)\n",
        "    else:\n",
        "        worklist_tail += 1\n",
        "        pbar.update(1)\n",
        "        worklist.append(worklist_tail)\n",
        "\n",
        "    num_results += 1\n",
        "\n",
        "    if (\n",
        "        type(result) == textattack.attack_results.SuccessfulAttackResult\n",
        "        or type(result) == textattack.attack_results.MaximizedAttackResult\n",
        "    ):\n",
        "        num_successes += 1\n",
        "                \n",
        "    if type(result) == textattack.attack_results.FailedAttackResult:\n",
        "        num_failures += 1\n",
        "    pbar.set_description(\n",
        "        \"[Succeeded / Failed / Total] {} / {} / {}\".format(\n",
        "            num_successes, num_failures, num_results\n",
        "        )\n",
        "    )\n",
        "\n",
        "pbar.close()\n",
        "\n",
        "attack_log_manager.enable_stdout()\n",
        "attack_log_manager.log_summary()\n",
        "attack_log_manager.flush()\n",
        "        \n",
        "textattack.shared.logger.info(f\"Attack time: {time.time() - load_time}s\")"
      ],
      "execution_count": null,
      "outputs": [
        {
          "output_type": "stream",
          "text": [
            "\n",
            "\n",
            "\n",
            "\n",
            "\n",
            "\n",
            "\n",
            "\n",
            "\n",
            "\n",
            "\n",
            "\n",
            "\n",
            "  0%|          | 0/10 [00:00<?, ?it/s]\u001b[A\u001b[A\u001b[A\u001b[A\u001b[A\u001b[A\u001b[A\u001b[A\u001b[A\u001b[A\u001b[A\u001b[A\u001b[A"
          ],
          "name": "stderr"
        },
        {
          "output_type": "display_data",
          "data": {
            "text/html": [
              "<font color = blue>Business (100%)</font> --> <font color = purple>Sci/tech (60%)</font><br>Fears for T <font color = blue>N</font> pension after talks Unions representing workers <font color = blue>at</font> <font color = blue>Turner</font>   <font color = blue>Newall</font> say they are 'disappointed' after talks with stricken parent firm Federal Mogul.<br>Fears for T <font color = purple>outgrabe</font> pension after talks Unions representing workers <font color = purple>atb</font> <font color = purple>bner</font>   <font color = purple>sewall</font> say they are 'disappointed' after talks with stricken parent firm Federal Mogul."
            ],
            "text/plain": [
              "<IPython.core.display.HTML object>"
            ]
          },
          "metadata": {
            "tags": []
          }
        },
        {
          "output_type": "stream",
          "text": [
            "\n",
            "\n",
            "\n",
            "\n",
            "\n",
            "\n",
            "\n",
            "\n",
            "\n",
            "\n",
            "\n",
            "\n",
            "\n",
            " 10%|█         | 1/10 [00:02<00:19,  2.15s/it]\u001b[A\u001b[A\u001b[A\u001b[A\u001b[A\u001b[A\u001b[A\u001b[A\u001b[A\u001b[A\u001b[A\u001b[A\u001b[A\n",
            "\n",
            "\n",
            "\n",
            "\n",
            "\n",
            "\n",
            "\n",
            "\n",
            "\n",
            "\n",
            "\n",
            "\n",
            "[Succeeded / Failed / Total] 1 / 0 / 1:  10%|█         | 1/10 [00:02<00:19,  2.16s/it]\u001b[A\u001b[A\u001b[A\u001b[A\u001b[A\u001b[A\u001b[A\u001b[A\u001b[A\u001b[A\u001b[A\u001b[A\u001b[A"
          ],
          "name": "stderr"
        },
        {
          "output_type": "error",
          "ename": "KeyboardInterrupt",
          "evalue": "ignored",
          "traceback": [
            "\u001b[0;31m---------------------------------------------------------------------------\u001b[0m",
            "\u001b[0;31mKeyboardInterrupt\u001b[0m                         Traceback (most recent call last)",
            "\u001b[0;32m<ipython-input-126-e43a4934da69>\u001b[0m in \u001b[0;36m<module>\u001b[0;34m()\u001b[0m\n\u001b[1;32m     19\u001b[0m \u001b[0mnum_failures\u001b[0m \u001b[0;34m=\u001b[0m \u001b[0;36m0\u001b[0m\u001b[0;34m\u001b[0m\u001b[0;34m\u001b[0m\u001b[0m\n\u001b[1;32m     20\u001b[0m \u001b[0mnum_successes\u001b[0m \u001b[0;34m=\u001b[0m \u001b[0;36m0\u001b[0m\u001b[0;34m\u001b[0m\u001b[0;34m\u001b[0m\u001b[0m\n\u001b[0;32m---> 21\u001b[0;31m \u001b[0;32mfor\u001b[0m \u001b[0mresult\u001b[0m \u001b[0;32min\u001b[0m \u001b[0mattack\u001b[0m\u001b[0;34m.\u001b[0m\u001b[0mattack_dataset\u001b[0m\u001b[0;34m(\u001b[0m\u001b[0mdataset\u001b[0m\u001b[0;34m,\u001b[0m \u001b[0mindices\u001b[0m\u001b[0;34m=\u001b[0m\u001b[0mworklist\u001b[0m\u001b[0;34m)\u001b[0m\u001b[0;34m:\u001b[0m\u001b[0;34m\u001b[0m\u001b[0;34m\u001b[0m\u001b[0m\n\u001b[0m\u001b[1;32m     22\u001b[0m     \u001b[0mresult_html_str\u001b[0m \u001b[0;34m=\u001b[0m \u001b[0mresult\u001b[0m\u001b[0;34m.\u001b[0m\u001b[0m__str__\u001b[0m\u001b[0;34m(\u001b[0m\u001b[0mcolor_method\u001b[0m\u001b[0;34m=\u001b[0m\u001b[0;34m\"html\"\u001b[0m\u001b[0;34m)\u001b[0m\u001b[0;34m.\u001b[0m\u001b[0mreplace\u001b[0m\u001b[0;34m(\u001b[0m\u001b[0;34m\"\\n\\n\"\u001b[0m\u001b[0;34m,\u001b[0m \u001b[0;34m\"<br>\"\u001b[0m\u001b[0;34m)\u001b[0m\u001b[0;34m\u001b[0m\u001b[0;34m\u001b[0m\u001b[0m\n\u001b[1;32m     23\u001b[0m     \u001b[0mdisplay\u001b[0m\u001b[0;34m(\u001b[0m\u001b[0mHTML\u001b[0m\u001b[0;34m(\u001b[0m\u001b[0mresult_html_str\u001b[0m\u001b[0;34m)\u001b[0m\u001b[0;34m)\u001b[0m\u001b[0;34m\u001b[0m\u001b[0;34m\u001b[0m\u001b[0m\n",
            "\u001b[0;32m/usr/local/lib/python3.7/dist-packages/textattack/shared/attack.py\u001b[0m in \u001b[0;36mattack_dataset\u001b[0;34m(self, dataset, indices)\u001b[0m\n\u001b[1;32m    345\u001b[0m                 \u001b[0;32myield\u001b[0m \u001b[0mSkippedAttackResult\u001b[0m\u001b[0;34m(\u001b[0m\u001b[0mgoal_function_result\u001b[0m\u001b[0;34m)\u001b[0m\u001b[0;34m\u001b[0m\u001b[0;34m\u001b[0m\u001b[0m\n\u001b[1;32m    346\u001b[0m             \u001b[0;32melse\u001b[0m\u001b[0;34m:\u001b[0m\u001b[0;34m\u001b[0m\u001b[0;34m\u001b[0m\u001b[0m\n\u001b[0;32m--> 347\u001b[0;31m                 \u001b[0mresult\u001b[0m \u001b[0;34m=\u001b[0m \u001b[0mself\u001b[0m\u001b[0;34m.\u001b[0m\u001b[0mattack_one\u001b[0m\u001b[0;34m(\u001b[0m\u001b[0mgoal_function_result\u001b[0m\u001b[0;34m)\u001b[0m\u001b[0;34m\u001b[0m\u001b[0;34m\u001b[0m\u001b[0m\n\u001b[0m\u001b[1;32m    348\u001b[0m                 \u001b[0;32myield\u001b[0m \u001b[0mresult\u001b[0m\u001b[0;34m\u001b[0m\u001b[0;34m\u001b[0m\u001b[0m\n\u001b[1;32m    349\u001b[0m \u001b[0;34m\u001b[0m\u001b[0m\n",
            "\u001b[0;32m/usr/local/lib/python3.7/dist-packages/textattack/shared/attack.py\u001b[0m in \u001b[0;36mattack_one\u001b[0;34m(self, initial_result)\u001b[0m\n\u001b[1;32m    267\u001b[0m                 \u001b[0;32mor\u001b[0m\u001b[0;31m \u001b[0m\u001b[0;31m`\u001b[0m\u001b[0;31m`\u001b[0m\u001b[0mMaximizedAttackResult\u001b[0m\u001b[0;31m`\u001b[0m\u001b[0;31m`\u001b[0m\u001b[0;34m.\u001b[0m\u001b[0;34m\u001b[0m\u001b[0;34m\u001b[0m\u001b[0m\n\u001b[1;32m    268\u001b[0m         \"\"\"\n\u001b[0;32m--> 269\u001b[0;31m         \u001b[0mfinal_result\u001b[0m \u001b[0;34m=\u001b[0m \u001b[0mself\u001b[0m\u001b[0;34m.\u001b[0m\u001b[0msearch_method\u001b[0m\u001b[0;34m(\u001b[0m\u001b[0minitial_result\u001b[0m\u001b[0;34m)\u001b[0m\u001b[0;34m\u001b[0m\u001b[0;34m\u001b[0m\u001b[0m\n\u001b[0m\u001b[1;32m    270\u001b[0m         \u001b[0mself\u001b[0m\u001b[0;34m.\u001b[0m\u001b[0mclear_cache\u001b[0m\u001b[0;34m(\u001b[0m\u001b[0;34m)\u001b[0m\u001b[0;34m\u001b[0m\u001b[0;34m\u001b[0m\u001b[0m\n\u001b[1;32m    271\u001b[0m         \u001b[0;32mif\u001b[0m \u001b[0mfinal_result\u001b[0m\u001b[0;34m.\u001b[0m\u001b[0mgoal_status\u001b[0m \u001b[0;34m==\u001b[0m \u001b[0mGoalFunctionResultStatus\u001b[0m\u001b[0;34m.\u001b[0m\u001b[0mSUCCEEDED\u001b[0m\u001b[0;34m:\u001b[0m\u001b[0;34m\u001b[0m\u001b[0;34m\u001b[0m\u001b[0m\n",
            "\u001b[0;32m/usr/local/lib/python3.7/dist-packages/textattack/search_methods/search_method.py\u001b[0m in \u001b[0;36m__call__\u001b[0;34m(self, initial_result)\u001b[0m\n\u001b[1;32m     38\u001b[0m                 \u001b[0;34m\"Search Method must have access to get_model method if it is a white-box method\"\u001b[0m\u001b[0;34m\u001b[0m\u001b[0;34m\u001b[0m\u001b[0m\n\u001b[1;32m     39\u001b[0m             )\n\u001b[0;32m---> 40\u001b[0;31m         \u001b[0mresult\u001b[0m \u001b[0;34m=\u001b[0m \u001b[0mself\u001b[0m\u001b[0;34m.\u001b[0m\u001b[0m_perform_search\u001b[0m\u001b[0;34m(\u001b[0m\u001b[0minitial_result\u001b[0m\u001b[0;34m)\u001b[0m\u001b[0;34m\u001b[0m\u001b[0;34m\u001b[0m\u001b[0m\n\u001b[0m\u001b[1;32m     41\u001b[0m         \u001b[0;31m# ensure that the number of queries for this GoalFunctionResult is up-to-date\u001b[0m\u001b[0;34m\u001b[0m\u001b[0;34m\u001b[0m\u001b[0;34m\u001b[0m\u001b[0m\n\u001b[1;32m     42\u001b[0m         \u001b[0mresult\u001b[0m\u001b[0;34m.\u001b[0m\u001b[0mnum_queries\u001b[0m \u001b[0;34m=\u001b[0m \u001b[0mself\u001b[0m\u001b[0;34m.\u001b[0m\u001b[0mgoal_function\u001b[0m\u001b[0;34m.\u001b[0m\u001b[0mnum_queries\u001b[0m\u001b[0;34m\u001b[0m\u001b[0;34m\u001b[0m\u001b[0m\n",
            "\u001b[0;32m/usr/local/lib/python3.7/dist-packages/textattack/search_methods/beam_search.py\u001b[0m in \u001b[0;36m_perform_search\u001b[0;34m(self, initial_result)\u001b[0m\n\u001b[1;32m     38\u001b[0m                 \u001b[0;31m# If we did not find any possible perturbations, give up.\u001b[0m\u001b[0;34m\u001b[0m\u001b[0;34m\u001b[0m\u001b[0;34m\u001b[0m\u001b[0m\n\u001b[1;32m     39\u001b[0m                 \u001b[0;32mreturn\u001b[0m \u001b[0mbest_result\u001b[0m\u001b[0;34m\u001b[0m\u001b[0;34m\u001b[0m\u001b[0m\n\u001b[0;32m---> 40\u001b[0;31m             \u001b[0mresults\u001b[0m\u001b[0;34m,\u001b[0m \u001b[0msearch_over\u001b[0m \u001b[0;34m=\u001b[0m \u001b[0mself\u001b[0m\u001b[0;34m.\u001b[0m\u001b[0mget_goal_results\u001b[0m\u001b[0;34m(\u001b[0m\u001b[0mpotential_next_beam\u001b[0m\u001b[0;34m)\u001b[0m\u001b[0;34m\u001b[0m\u001b[0;34m\u001b[0m\u001b[0m\n\u001b[0m\u001b[1;32m     41\u001b[0m             \u001b[0mscores\u001b[0m \u001b[0;34m=\u001b[0m \u001b[0mnp\u001b[0m\u001b[0;34m.\u001b[0m\u001b[0marray\u001b[0m\u001b[0;34m(\u001b[0m\u001b[0;34m[\u001b[0m\u001b[0mr\u001b[0m\u001b[0;34m.\u001b[0m\u001b[0mscore\u001b[0m \u001b[0;32mfor\u001b[0m \u001b[0mr\u001b[0m \u001b[0;32min\u001b[0m \u001b[0mresults\u001b[0m\u001b[0;34m]\u001b[0m\u001b[0;34m)\u001b[0m\u001b[0;34m\u001b[0m\u001b[0;34m\u001b[0m\u001b[0m\n\u001b[1;32m     42\u001b[0m             \u001b[0mbest_result\u001b[0m \u001b[0;34m=\u001b[0m \u001b[0mresults\u001b[0m\u001b[0;34m[\u001b[0m\u001b[0mscores\u001b[0m\u001b[0;34m.\u001b[0m\u001b[0margmax\u001b[0m\u001b[0;34m(\u001b[0m\u001b[0;34m)\u001b[0m\u001b[0;34m]\u001b[0m\u001b[0;34m\u001b[0m\u001b[0;34m\u001b[0m\u001b[0m\n",
            "\u001b[0;32m/usr/local/lib/python3.7/dist-packages/textattack/shared/attack.py\u001b[0m in \u001b[0;36m<lambda>\u001b[0;34m(attacked_text_list)\u001b[0m\n\u001b[1;32m    115\u001b[0m         self.search_method.get_goal_results = (\n\u001b[1;32m    116\u001b[0m             lambda attacked_text_list: self.goal_function.get_results(\n\u001b[0;32m--> 117\u001b[0;31m                 \u001b[0mattacked_text_list\u001b[0m\u001b[0;34m\u001b[0m\u001b[0;34m\u001b[0m\u001b[0m\n\u001b[0m\u001b[1;32m    118\u001b[0m             )\n\u001b[1;32m    119\u001b[0m         )\n",
            "\u001b[0;32m/usr/local/lib/python3.7/dist-packages/textattack/goal_functions/goal_function.py\u001b[0m in \u001b[0;36mget_results\u001b[0;34m(self, attacked_text_list, check_skip)\u001b[0m\n\u001b[1;32m     86\u001b[0m             \u001b[0mattacked_text_list\u001b[0m \u001b[0;34m=\u001b[0m \u001b[0mattacked_text_list\u001b[0m\u001b[0;34m[\u001b[0m\u001b[0;34m:\u001b[0m\u001b[0mqueries_left\u001b[0m\u001b[0;34m]\u001b[0m\u001b[0;34m\u001b[0m\u001b[0;34m\u001b[0m\u001b[0m\n\u001b[1;32m     87\u001b[0m         \u001b[0mself\u001b[0m\u001b[0;34m.\u001b[0m\u001b[0mnum_queries\u001b[0m \u001b[0;34m+=\u001b[0m \u001b[0mlen\u001b[0m\u001b[0;34m(\u001b[0m\u001b[0mattacked_text_list\u001b[0m\u001b[0;34m)\u001b[0m\u001b[0;34m\u001b[0m\u001b[0;34m\u001b[0m\u001b[0m\n\u001b[0;32m---> 88\u001b[0;31m         \u001b[0mmodel_outputs\u001b[0m \u001b[0;34m=\u001b[0m \u001b[0mself\u001b[0m\u001b[0;34m.\u001b[0m\u001b[0m_call_model\u001b[0m\u001b[0;34m(\u001b[0m\u001b[0mattacked_text_list\u001b[0m\u001b[0;34m)\u001b[0m\u001b[0;34m\u001b[0m\u001b[0;34m\u001b[0m\u001b[0m\n\u001b[0m\u001b[1;32m     89\u001b[0m         \u001b[0;32mfor\u001b[0m \u001b[0mattacked_text\u001b[0m\u001b[0;34m,\u001b[0m \u001b[0mraw_output\u001b[0m \u001b[0;32min\u001b[0m \u001b[0mzip\u001b[0m\u001b[0;34m(\u001b[0m\u001b[0mattacked_text_list\u001b[0m\u001b[0;34m,\u001b[0m \u001b[0mmodel_outputs\u001b[0m\u001b[0;34m)\u001b[0m\u001b[0;34m:\u001b[0m\u001b[0;34m\u001b[0m\u001b[0;34m\u001b[0m\u001b[0m\n\u001b[1;32m     90\u001b[0m             \u001b[0mdisplayed_output\u001b[0m \u001b[0;34m=\u001b[0m \u001b[0mself\u001b[0m\u001b[0;34m.\u001b[0m\u001b[0m_get_displayed_output\u001b[0m\u001b[0;34m(\u001b[0m\u001b[0mraw_output\u001b[0m\u001b[0;34m)\u001b[0m\u001b[0;34m\u001b[0m\u001b[0;34m\u001b[0m\u001b[0m\n",
            "\u001b[0;32m/usr/local/lib/python3.7/dist-packages/textattack/goal_functions/goal_function.py\u001b[0m in \u001b[0;36m_call_model\u001b[0;34m(self, attacked_text_list)\u001b[0m\n\u001b[1;32m    186\u001b[0m             \u001b[0;32mfor\u001b[0m \u001b[0mtext\u001b[0m\u001b[0;34m,\u001b[0m \u001b[0moutput\u001b[0m \u001b[0;32min\u001b[0m \u001b[0mzip\u001b[0m\u001b[0;34m(\u001b[0m\u001b[0muncached_list\u001b[0m\u001b[0;34m,\u001b[0m \u001b[0moutputs\u001b[0m\u001b[0;34m)\u001b[0m\u001b[0;34m:\u001b[0m\u001b[0;34m\u001b[0m\u001b[0;34m\u001b[0m\u001b[0m\n\u001b[1;32m    187\u001b[0m                 \u001b[0mself\u001b[0m\u001b[0;34m.\u001b[0m\u001b[0m_call_model_cache\u001b[0m\u001b[0;34m[\u001b[0m\u001b[0mtext\u001b[0m\u001b[0;34m]\u001b[0m \u001b[0;34m=\u001b[0m \u001b[0moutput\u001b[0m\u001b[0;34m\u001b[0m\u001b[0;34m\u001b[0m\u001b[0m\n\u001b[0;32m--> 188\u001b[0;31m             \u001b[0mall_outputs\u001b[0m \u001b[0;34m=\u001b[0m \u001b[0;34m[\u001b[0m\u001b[0mself\u001b[0m\u001b[0;34m.\u001b[0m\u001b[0m_call_model_cache\u001b[0m\u001b[0;34m[\u001b[0m\u001b[0mtext\u001b[0m\u001b[0;34m]\u001b[0m \u001b[0;32mfor\u001b[0m \u001b[0mtext\u001b[0m \u001b[0;32min\u001b[0m \u001b[0mattacked_text_list\u001b[0m\u001b[0;34m]\u001b[0m\u001b[0;34m\u001b[0m\u001b[0;34m\u001b[0m\u001b[0m\n\u001b[0m\u001b[1;32m    189\u001b[0m             \u001b[0;32mreturn\u001b[0m \u001b[0mall_outputs\u001b[0m\u001b[0;34m\u001b[0m\u001b[0;34m\u001b[0m\u001b[0m\n\u001b[1;32m    190\u001b[0m \u001b[0;34m\u001b[0m\u001b[0m\n",
            "\u001b[0;32m/usr/local/lib/python3.7/dist-packages/textattack/goal_functions/goal_function.py\u001b[0m in \u001b[0;36m<listcomp>\u001b[0;34m(.0)\u001b[0m\n\u001b[1;32m    186\u001b[0m             \u001b[0;32mfor\u001b[0m \u001b[0mtext\u001b[0m\u001b[0;34m,\u001b[0m \u001b[0moutput\u001b[0m \u001b[0;32min\u001b[0m \u001b[0mzip\u001b[0m\u001b[0;34m(\u001b[0m\u001b[0muncached_list\u001b[0m\u001b[0;34m,\u001b[0m \u001b[0moutputs\u001b[0m\u001b[0;34m)\u001b[0m\u001b[0;34m:\u001b[0m\u001b[0;34m\u001b[0m\u001b[0;34m\u001b[0m\u001b[0m\n\u001b[1;32m    187\u001b[0m                 \u001b[0mself\u001b[0m\u001b[0;34m.\u001b[0m\u001b[0m_call_model_cache\u001b[0m\u001b[0;34m[\u001b[0m\u001b[0mtext\u001b[0m\u001b[0;34m]\u001b[0m \u001b[0;34m=\u001b[0m \u001b[0moutput\u001b[0m\u001b[0;34m\u001b[0m\u001b[0;34m\u001b[0m\u001b[0m\n\u001b[0;32m--> 188\u001b[0;31m             \u001b[0mall_outputs\u001b[0m \u001b[0;34m=\u001b[0m \u001b[0;34m[\u001b[0m\u001b[0mself\u001b[0m\u001b[0;34m.\u001b[0m\u001b[0m_call_model_cache\u001b[0m\u001b[0;34m[\u001b[0m\u001b[0mtext\u001b[0m\u001b[0;34m]\u001b[0m \u001b[0;32mfor\u001b[0m \u001b[0mtext\u001b[0m \u001b[0;32min\u001b[0m \u001b[0mattacked_text_list\u001b[0m\u001b[0;34m]\u001b[0m\u001b[0;34m\u001b[0m\u001b[0;34m\u001b[0m\u001b[0m\n\u001b[0m\u001b[1;32m    189\u001b[0m             \u001b[0;32mreturn\u001b[0m \u001b[0mall_outputs\u001b[0m\u001b[0;34m\u001b[0m\u001b[0;34m\u001b[0m\u001b[0m\n\u001b[1;32m    190\u001b[0m \u001b[0;34m\u001b[0m\u001b[0m\n",
            "\u001b[0;32m/usr/local/lib/python3.7/dist-packages/textattack/shared/attacked_text.py\u001b[0m in \u001b[0;36m__eq__\u001b[0;34m(self, other)\u001b[0m\n\u001b[1;32m     90\u001b[0m                     \u001b[0;32mreturn\u001b[0m \u001b[0;32mFalse\u001b[0m\u001b[0;34m\u001b[0m\u001b[0;34m\u001b[0m\u001b[0m\n\u001b[1;32m     91\u001b[0m             \u001b[0;32melse\u001b[0m\u001b[0;34m:\u001b[0m\u001b[0;34m\u001b[0m\u001b[0;34m\u001b[0m\u001b[0m\n\u001b[0;32m---> 92\u001b[0;31m                 \u001b[0;32mif\u001b[0m \u001b[0;32mnot\u001b[0m \u001b[0mself\u001b[0m\u001b[0;34m.\u001b[0m\u001b[0mattack_attrs\u001b[0m\u001b[0;34m[\u001b[0m\u001b[0mkey\u001b[0m\u001b[0;34m]\u001b[0m \u001b[0;34m==\u001b[0m \u001b[0mother\u001b[0m\u001b[0;34m.\u001b[0m\u001b[0mattack_attrs\u001b[0m\u001b[0;34m[\u001b[0m\u001b[0mkey\u001b[0m\u001b[0;34m]\u001b[0m\u001b[0;34m:\u001b[0m\u001b[0;34m\u001b[0m\u001b[0;34m\u001b[0m\u001b[0m\n\u001b[0m\u001b[1;32m     93\u001b[0m                     \u001b[0;32mreturn\u001b[0m \u001b[0;32mFalse\u001b[0m\u001b[0;34m\u001b[0m\u001b[0;34m\u001b[0m\u001b[0m\n\u001b[1;32m     94\u001b[0m         \u001b[0;32mreturn\u001b[0m \u001b[0;32mTrue\u001b[0m\u001b[0;34m\u001b[0m\u001b[0;34m\u001b[0m\u001b[0m\n",
            "\u001b[0;32m/usr/local/lib/python3.7/dist-packages/textattack/shared/attacked_text.py\u001b[0m in \u001b[0;36m__eq__\u001b[0;34m(self, other)\u001b[0m\n\u001b[1;32m     90\u001b[0m                     \u001b[0;32mreturn\u001b[0m \u001b[0;32mFalse\u001b[0m\u001b[0;34m\u001b[0m\u001b[0;34m\u001b[0m\u001b[0m\n\u001b[1;32m     91\u001b[0m             \u001b[0;32melse\u001b[0m\u001b[0;34m:\u001b[0m\u001b[0;34m\u001b[0m\u001b[0;34m\u001b[0m\u001b[0m\n\u001b[0;32m---> 92\u001b[0;31m                 \u001b[0;32mif\u001b[0m \u001b[0;32mnot\u001b[0m \u001b[0mself\u001b[0m\u001b[0;34m.\u001b[0m\u001b[0mattack_attrs\u001b[0m\u001b[0;34m[\u001b[0m\u001b[0mkey\u001b[0m\u001b[0;34m]\u001b[0m \u001b[0;34m==\u001b[0m \u001b[0mother\u001b[0m\u001b[0;34m.\u001b[0m\u001b[0mattack_attrs\u001b[0m\u001b[0;34m[\u001b[0m\u001b[0mkey\u001b[0m\u001b[0;34m]\u001b[0m\u001b[0;34m:\u001b[0m\u001b[0;34m\u001b[0m\u001b[0;34m\u001b[0m\u001b[0m\n\u001b[0m\u001b[1;32m     93\u001b[0m                     \u001b[0;32mreturn\u001b[0m \u001b[0;32mFalse\u001b[0m\u001b[0;34m\u001b[0m\u001b[0;34m\u001b[0m\u001b[0m\n\u001b[1;32m     94\u001b[0m         \u001b[0;32mreturn\u001b[0m \u001b[0;32mTrue\u001b[0m\u001b[0;34m\u001b[0m\u001b[0;34m\u001b[0m\u001b[0m\n",
            "\u001b[0;32m/usr/local/lib/python3.7/dist-packages/textattack/shared/attacked_text.py\u001b[0m in \u001b[0;36m__eq__\u001b[0;34m(self, other)\u001b[0m\n\u001b[1;32m     90\u001b[0m                     \u001b[0;32mreturn\u001b[0m \u001b[0;32mFalse\u001b[0m\u001b[0;34m\u001b[0m\u001b[0;34m\u001b[0m\u001b[0m\n\u001b[1;32m     91\u001b[0m             \u001b[0;32melse\u001b[0m\u001b[0;34m:\u001b[0m\u001b[0;34m\u001b[0m\u001b[0;34m\u001b[0m\u001b[0m\n\u001b[0;32m---> 92\u001b[0;31m                 \u001b[0;32mif\u001b[0m \u001b[0;32mnot\u001b[0m \u001b[0mself\u001b[0m\u001b[0;34m.\u001b[0m\u001b[0mattack_attrs\u001b[0m\u001b[0;34m[\u001b[0m\u001b[0mkey\u001b[0m\u001b[0;34m]\u001b[0m \u001b[0;34m==\u001b[0m \u001b[0mother\u001b[0m\u001b[0;34m.\u001b[0m\u001b[0mattack_attrs\u001b[0m\u001b[0;34m[\u001b[0m\u001b[0mkey\u001b[0m\u001b[0;34m]\u001b[0m\u001b[0;34m:\u001b[0m\u001b[0;34m\u001b[0m\u001b[0;34m\u001b[0m\u001b[0m\n\u001b[0m\u001b[1;32m     93\u001b[0m                     \u001b[0;32mreturn\u001b[0m \u001b[0;32mFalse\u001b[0m\u001b[0;34m\u001b[0m\u001b[0;34m\u001b[0m\u001b[0m\n\u001b[1;32m     94\u001b[0m         \u001b[0;32mreturn\u001b[0m \u001b[0;32mTrue\u001b[0m\u001b[0;34m\u001b[0m\u001b[0;34m\u001b[0m\u001b[0m\n",
            "\u001b[0;32m/usr/local/lib/python3.7/dist-packages/textattack/shared/attacked_text.py\u001b[0m in \u001b[0;36m__eq__\u001b[0;34m(self, other)\u001b[0m\n\u001b[1;32m     90\u001b[0m                     \u001b[0;32mreturn\u001b[0m \u001b[0;32mFalse\u001b[0m\u001b[0;34m\u001b[0m\u001b[0;34m\u001b[0m\u001b[0m\n\u001b[1;32m     91\u001b[0m             \u001b[0;32melse\u001b[0m\u001b[0;34m:\u001b[0m\u001b[0;34m\u001b[0m\u001b[0;34m\u001b[0m\u001b[0m\n\u001b[0;32m---> 92\u001b[0;31m                 \u001b[0;32mif\u001b[0m \u001b[0;32mnot\u001b[0m \u001b[0mself\u001b[0m\u001b[0;34m.\u001b[0m\u001b[0mattack_attrs\u001b[0m\u001b[0;34m[\u001b[0m\u001b[0mkey\u001b[0m\u001b[0;34m]\u001b[0m \u001b[0;34m==\u001b[0m \u001b[0mother\u001b[0m\u001b[0;34m.\u001b[0m\u001b[0mattack_attrs\u001b[0m\u001b[0;34m[\u001b[0m\u001b[0mkey\u001b[0m\u001b[0;34m]\u001b[0m\u001b[0;34m:\u001b[0m\u001b[0;34m\u001b[0m\u001b[0;34m\u001b[0m\u001b[0m\n\u001b[0m\u001b[1;32m     93\u001b[0m                     \u001b[0;32mreturn\u001b[0m \u001b[0;32mFalse\u001b[0m\u001b[0;34m\u001b[0m\u001b[0;34m\u001b[0m\u001b[0m\n\u001b[1;32m     94\u001b[0m         \u001b[0;32mreturn\u001b[0m \u001b[0;32mTrue\u001b[0m\u001b[0;34m\u001b[0m\u001b[0;34m\u001b[0m\u001b[0m\n",
            "\u001b[0;32m/usr/local/lib/python3.7/dist-packages/textattack/shared/attacked_text.py\u001b[0m in \u001b[0;36m__eq__\u001b[0;34m(self, other)\u001b[0m\n\u001b[1;32m     90\u001b[0m                     \u001b[0;32mreturn\u001b[0m \u001b[0;32mFalse\u001b[0m\u001b[0;34m\u001b[0m\u001b[0;34m\u001b[0m\u001b[0m\n\u001b[1;32m     91\u001b[0m             \u001b[0;32melse\u001b[0m\u001b[0;34m:\u001b[0m\u001b[0;34m\u001b[0m\u001b[0;34m\u001b[0m\u001b[0m\n\u001b[0;32m---> 92\u001b[0;31m                 \u001b[0;32mif\u001b[0m \u001b[0;32mnot\u001b[0m \u001b[0mself\u001b[0m\u001b[0;34m.\u001b[0m\u001b[0mattack_attrs\u001b[0m\u001b[0;34m[\u001b[0m\u001b[0mkey\u001b[0m\u001b[0;34m]\u001b[0m \u001b[0;34m==\u001b[0m \u001b[0mother\u001b[0m\u001b[0;34m.\u001b[0m\u001b[0mattack_attrs\u001b[0m\u001b[0;34m[\u001b[0m\u001b[0mkey\u001b[0m\u001b[0;34m]\u001b[0m\u001b[0;34m:\u001b[0m\u001b[0;34m\u001b[0m\u001b[0;34m\u001b[0m\u001b[0m\n\u001b[0m\u001b[1;32m     93\u001b[0m                     \u001b[0;32mreturn\u001b[0m \u001b[0;32mFalse\u001b[0m\u001b[0;34m\u001b[0m\u001b[0;34m\u001b[0m\u001b[0m\n\u001b[1;32m     94\u001b[0m         \u001b[0;32mreturn\u001b[0m \u001b[0;32mTrue\u001b[0m\u001b[0;34m\u001b[0m\u001b[0;34m\u001b[0m\u001b[0m\n",
            "\u001b[0;32m/usr/local/lib/python3.7/dist-packages/textattack/shared/attacked_text.py\u001b[0m in \u001b[0;36m__eq__\u001b[0;34m(self, other)\u001b[0m\n\u001b[1;32m     90\u001b[0m                     \u001b[0;32mreturn\u001b[0m \u001b[0;32mFalse\u001b[0m\u001b[0;34m\u001b[0m\u001b[0;34m\u001b[0m\u001b[0m\n\u001b[1;32m     91\u001b[0m             \u001b[0;32melse\u001b[0m\u001b[0;34m:\u001b[0m\u001b[0;34m\u001b[0m\u001b[0;34m\u001b[0m\u001b[0m\n\u001b[0;32m---> 92\u001b[0;31m                 \u001b[0;32mif\u001b[0m \u001b[0;32mnot\u001b[0m \u001b[0mself\u001b[0m\u001b[0;34m.\u001b[0m\u001b[0mattack_attrs\u001b[0m\u001b[0;34m[\u001b[0m\u001b[0mkey\u001b[0m\u001b[0;34m]\u001b[0m \u001b[0;34m==\u001b[0m \u001b[0mother\u001b[0m\u001b[0;34m.\u001b[0m\u001b[0mattack_attrs\u001b[0m\u001b[0;34m[\u001b[0m\u001b[0mkey\u001b[0m\u001b[0;34m]\u001b[0m\u001b[0;34m:\u001b[0m\u001b[0;34m\u001b[0m\u001b[0;34m\u001b[0m\u001b[0m\n\u001b[0m\u001b[1;32m     93\u001b[0m                     \u001b[0;32mreturn\u001b[0m \u001b[0;32mFalse\u001b[0m\u001b[0;34m\u001b[0m\u001b[0;34m\u001b[0m\u001b[0m\n\u001b[1;32m     94\u001b[0m         \u001b[0;32mreturn\u001b[0m \u001b[0;32mTrue\u001b[0m\u001b[0;34m\u001b[0m\u001b[0;34m\u001b[0m\u001b[0m\n",
            "\u001b[0;32m/usr/local/lib/python3.7/dist-packages/textattack/shared/attacked_text.py\u001b[0m in \u001b[0;36m__eq__\u001b[0;34m(self, other)\u001b[0m\n\u001b[1;32m     90\u001b[0m                     \u001b[0;32mreturn\u001b[0m \u001b[0;32mFalse\u001b[0m\u001b[0;34m\u001b[0m\u001b[0;34m\u001b[0m\u001b[0m\n\u001b[1;32m     91\u001b[0m             \u001b[0;32melse\u001b[0m\u001b[0;34m:\u001b[0m\u001b[0;34m\u001b[0m\u001b[0;34m\u001b[0m\u001b[0m\n\u001b[0;32m---> 92\u001b[0;31m                 \u001b[0;32mif\u001b[0m \u001b[0;32mnot\u001b[0m \u001b[0mself\u001b[0m\u001b[0;34m.\u001b[0m\u001b[0mattack_attrs\u001b[0m\u001b[0;34m[\u001b[0m\u001b[0mkey\u001b[0m\u001b[0;34m]\u001b[0m \u001b[0;34m==\u001b[0m \u001b[0mother\u001b[0m\u001b[0;34m.\u001b[0m\u001b[0mattack_attrs\u001b[0m\u001b[0;34m[\u001b[0m\u001b[0mkey\u001b[0m\u001b[0;34m]\u001b[0m\u001b[0;34m:\u001b[0m\u001b[0;34m\u001b[0m\u001b[0;34m\u001b[0m\u001b[0m\n\u001b[0m\u001b[1;32m     93\u001b[0m                     \u001b[0;32mreturn\u001b[0m \u001b[0;32mFalse\u001b[0m\u001b[0;34m\u001b[0m\u001b[0;34m\u001b[0m\u001b[0m\n\u001b[1;32m     94\u001b[0m         \u001b[0;32mreturn\u001b[0m \u001b[0;32mTrue\u001b[0m\u001b[0;34m\u001b[0m\u001b[0;34m\u001b[0m\u001b[0m\n",
            "\u001b[0;32m/usr/local/lib/python3.7/dist-packages/textattack/shared/attacked_text.py\u001b[0m in \u001b[0;36m__eq__\u001b[0;34m(self, other)\u001b[0m\n\u001b[1;32m     90\u001b[0m                     \u001b[0;32mreturn\u001b[0m \u001b[0;32mFalse\u001b[0m\u001b[0;34m\u001b[0m\u001b[0;34m\u001b[0m\u001b[0m\n\u001b[1;32m     91\u001b[0m             \u001b[0;32melse\u001b[0m\u001b[0;34m:\u001b[0m\u001b[0;34m\u001b[0m\u001b[0;34m\u001b[0m\u001b[0m\n\u001b[0;32m---> 92\u001b[0;31m                 \u001b[0;32mif\u001b[0m \u001b[0;32mnot\u001b[0m \u001b[0mself\u001b[0m\u001b[0;34m.\u001b[0m\u001b[0mattack_attrs\u001b[0m\u001b[0;34m[\u001b[0m\u001b[0mkey\u001b[0m\u001b[0;34m]\u001b[0m \u001b[0;34m==\u001b[0m \u001b[0mother\u001b[0m\u001b[0;34m.\u001b[0m\u001b[0mattack_attrs\u001b[0m\u001b[0;34m[\u001b[0m\u001b[0mkey\u001b[0m\u001b[0;34m]\u001b[0m\u001b[0;34m:\u001b[0m\u001b[0;34m\u001b[0m\u001b[0;34m\u001b[0m\u001b[0m\n\u001b[0m\u001b[1;32m     93\u001b[0m                     \u001b[0;32mreturn\u001b[0m \u001b[0;32mFalse\u001b[0m\u001b[0;34m\u001b[0m\u001b[0;34m\u001b[0m\u001b[0m\n\u001b[1;32m     94\u001b[0m         \u001b[0;32mreturn\u001b[0m \u001b[0;32mTrue\u001b[0m\u001b[0;34m\u001b[0m\u001b[0;34m\u001b[0m\u001b[0m\n",
            "\u001b[0;32m/usr/local/lib/python3.7/dist-packages/textattack/shared/attacked_text.py\u001b[0m in \u001b[0;36m__eq__\u001b[0;34m(self, other)\u001b[0m\n\u001b[1;32m     90\u001b[0m                     \u001b[0;32mreturn\u001b[0m \u001b[0;32mFalse\u001b[0m\u001b[0;34m\u001b[0m\u001b[0;34m\u001b[0m\u001b[0m\n\u001b[1;32m     91\u001b[0m             \u001b[0;32melse\u001b[0m\u001b[0;34m:\u001b[0m\u001b[0;34m\u001b[0m\u001b[0;34m\u001b[0m\u001b[0m\n\u001b[0;32m---> 92\u001b[0;31m                 \u001b[0;32mif\u001b[0m \u001b[0;32mnot\u001b[0m \u001b[0mself\u001b[0m\u001b[0;34m.\u001b[0m\u001b[0mattack_attrs\u001b[0m\u001b[0;34m[\u001b[0m\u001b[0mkey\u001b[0m\u001b[0;34m]\u001b[0m \u001b[0;34m==\u001b[0m \u001b[0mother\u001b[0m\u001b[0;34m.\u001b[0m\u001b[0mattack_attrs\u001b[0m\u001b[0;34m[\u001b[0m\u001b[0mkey\u001b[0m\u001b[0;34m]\u001b[0m\u001b[0;34m:\u001b[0m\u001b[0;34m\u001b[0m\u001b[0;34m\u001b[0m\u001b[0m\n\u001b[0m\u001b[1;32m     93\u001b[0m                     \u001b[0;32mreturn\u001b[0m \u001b[0;32mFalse\u001b[0m\u001b[0;34m\u001b[0m\u001b[0;34m\u001b[0m\u001b[0m\n\u001b[1;32m     94\u001b[0m         \u001b[0;32mreturn\u001b[0m \u001b[0;32mTrue\u001b[0m\u001b[0;34m\u001b[0m\u001b[0;34m\u001b[0m\u001b[0m\n",
            "\u001b[0;32m/usr/local/lib/python3.7/dist-packages/textattack/shared/attacked_text.py\u001b[0m in \u001b[0;36m__eq__\u001b[0;34m(self, other)\u001b[0m\n\u001b[1;32m     90\u001b[0m                     \u001b[0;32mreturn\u001b[0m \u001b[0;32mFalse\u001b[0m\u001b[0;34m\u001b[0m\u001b[0;34m\u001b[0m\u001b[0m\n\u001b[1;32m     91\u001b[0m             \u001b[0;32melse\u001b[0m\u001b[0;34m:\u001b[0m\u001b[0;34m\u001b[0m\u001b[0;34m\u001b[0m\u001b[0m\n\u001b[0;32m---> 92\u001b[0;31m                 \u001b[0;32mif\u001b[0m \u001b[0;32mnot\u001b[0m \u001b[0mself\u001b[0m\u001b[0;34m.\u001b[0m\u001b[0mattack_attrs\u001b[0m\u001b[0;34m[\u001b[0m\u001b[0mkey\u001b[0m\u001b[0;34m]\u001b[0m \u001b[0;34m==\u001b[0m \u001b[0mother\u001b[0m\u001b[0;34m.\u001b[0m\u001b[0mattack_attrs\u001b[0m\u001b[0;34m[\u001b[0m\u001b[0mkey\u001b[0m\u001b[0;34m]\u001b[0m\u001b[0;34m:\u001b[0m\u001b[0;34m\u001b[0m\u001b[0;34m\u001b[0m\u001b[0m\n\u001b[0m\u001b[1;32m     93\u001b[0m                     \u001b[0;32mreturn\u001b[0m \u001b[0;32mFalse\u001b[0m\u001b[0;34m\u001b[0m\u001b[0;34m\u001b[0m\u001b[0m\n\u001b[1;32m     94\u001b[0m         \u001b[0;32mreturn\u001b[0m \u001b[0;32mTrue\u001b[0m\u001b[0;34m\u001b[0m\u001b[0;34m\u001b[0m\u001b[0m\n",
            "\u001b[0;32m/usr/local/lib/python3.7/dist-packages/textattack/shared/attacked_text.py\u001b[0m in \u001b[0;36m__eq__\u001b[0;34m(self, other)\u001b[0m\n\u001b[1;32m     90\u001b[0m                     \u001b[0;32mreturn\u001b[0m \u001b[0;32mFalse\u001b[0m\u001b[0;34m\u001b[0m\u001b[0;34m\u001b[0m\u001b[0m\n\u001b[1;32m     91\u001b[0m             \u001b[0;32melse\u001b[0m\u001b[0;34m:\u001b[0m\u001b[0;34m\u001b[0m\u001b[0;34m\u001b[0m\u001b[0m\n\u001b[0;32m---> 92\u001b[0;31m                 \u001b[0;32mif\u001b[0m \u001b[0;32mnot\u001b[0m \u001b[0mself\u001b[0m\u001b[0;34m.\u001b[0m\u001b[0mattack_attrs\u001b[0m\u001b[0;34m[\u001b[0m\u001b[0mkey\u001b[0m\u001b[0;34m]\u001b[0m \u001b[0;34m==\u001b[0m \u001b[0mother\u001b[0m\u001b[0;34m.\u001b[0m\u001b[0mattack_attrs\u001b[0m\u001b[0;34m[\u001b[0m\u001b[0mkey\u001b[0m\u001b[0;34m]\u001b[0m\u001b[0;34m:\u001b[0m\u001b[0;34m\u001b[0m\u001b[0;34m\u001b[0m\u001b[0m\n\u001b[0m\u001b[1;32m     93\u001b[0m                     \u001b[0;32mreturn\u001b[0m \u001b[0;32mFalse\u001b[0m\u001b[0;34m\u001b[0m\u001b[0;34m\u001b[0m\u001b[0m\n\u001b[1;32m     94\u001b[0m         \u001b[0;32mreturn\u001b[0m \u001b[0;32mTrue\u001b[0m\u001b[0;34m\u001b[0m\u001b[0;34m\u001b[0m\u001b[0m\n",
            "\u001b[0;32m/usr/local/lib/python3.7/dist-packages/textattack/shared/attacked_text.py\u001b[0m in \u001b[0;36m__eq__\u001b[0;34m(self, other)\u001b[0m\n\u001b[1;32m     90\u001b[0m                     \u001b[0;32mreturn\u001b[0m \u001b[0;32mFalse\u001b[0m\u001b[0;34m\u001b[0m\u001b[0;34m\u001b[0m\u001b[0m\n\u001b[1;32m     91\u001b[0m             \u001b[0;32melse\u001b[0m\u001b[0;34m:\u001b[0m\u001b[0;34m\u001b[0m\u001b[0;34m\u001b[0m\u001b[0m\n\u001b[0;32m---> 92\u001b[0;31m                 \u001b[0;32mif\u001b[0m \u001b[0;32mnot\u001b[0m \u001b[0mself\u001b[0m\u001b[0;34m.\u001b[0m\u001b[0mattack_attrs\u001b[0m\u001b[0;34m[\u001b[0m\u001b[0mkey\u001b[0m\u001b[0;34m]\u001b[0m \u001b[0;34m==\u001b[0m \u001b[0mother\u001b[0m\u001b[0;34m.\u001b[0m\u001b[0mattack_attrs\u001b[0m\u001b[0;34m[\u001b[0m\u001b[0mkey\u001b[0m\u001b[0;34m]\u001b[0m\u001b[0;34m:\u001b[0m\u001b[0;34m\u001b[0m\u001b[0;34m\u001b[0m\u001b[0m\n\u001b[0m\u001b[1;32m     93\u001b[0m                     \u001b[0;32mreturn\u001b[0m \u001b[0;32mFalse\u001b[0m\u001b[0;34m\u001b[0m\u001b[0;34m\u001b[0m\u001b[0m\n\u001b[1;32m     94\u001b[0m         \u001b[0;32mreturn\u001b[0m \u001b[0;32mTrue\u001b[0m\u001b[0;34m\u001b[0m\u001b[0;34m\u001b[0m\u001b[0m\n",
            "\u001b[0;31mKeyboardInterrupt\u001b[0m: "
          ]
        }
      ]
    },
    {
      "cell_type": "code",
      "metadata": {
        "id": "0BMCO0TYa0jP"
      },
      "source": [
        "from textattack.search_methods import BeamSearch\n",
        "from textattack.constraints.semantics import WordEmbeddingDistance\n",
        "from textattack.shared import Attack\n",
        "from textattack.goal_functions import UntargetedClassification\n",
        "from textattack.datasets import HuggingFaceDataset\n",
        "\n",
        "\n",
        "transformation = Swapper_()\n",
        "\n",
        "constraints = [WordEmbeddingDistance(min_cos_sim=0.8)]\n",
        "\n",
        "search_method = BeamSearch(beam_width=2)\n",
        "# Create the goal function using the model\n",
        "\n",
        "goal_function = UntargetedClassification(model_wrapper)\n",
        "\n",
        "# Now, let's make the attack from the 4 components:\n",
        "attack = Attack(goal_function, constraints, transformation, search_method)\n",
        "\n",
        "dataset = HuggingFaceDataset(\"ag_news\", None, \"test\")"
      ],
      "execution_count": null,
      "outputs": []
    },
    {
      "cell_type": "code",
      "metadata": {
        "id": "2XV4FBQUa1EV"
      },
      "source": [
        "print(attack)"
      ],
      "execution_count": null,
      "outputs": []
    },
    {
      "cell_type": "code",
      "metadata": {
        "id": "fjxbcGLTa1MP"
      },
      "source": [
        "from collections import deque\n",
        "\n",
        "import textattack\n",
        "import tqdm\n",
        "import time\n",
        "from IPython.display import display, HTML\n",
        "num_examples = 10\n",
        "num_remaining_attacks = num_examples\n",
        "pbar = tqdm.tqdm(total=num_remaining_attacks, smoothing=0)\n",
        "\n",
        "worklist = deque(range(0, num_examples))\n",
        "worklist_tail = worklist[-1]\n",
        "\n",
        "attack_log_manager = textattack.loggers.AttackLogManager()\n",
        "\n",
        "load_time = time.time()\n",
        "        \n",
        "num_results = 0\n",
        "num_failures = 0\n",
        "num_successes = 0\n",
        "for result in attack.attack_dataset(dataset, indices=worklist):\n",
        "    result_html_str = result.__str__(color_method=\"html\").replace(\"\\n\\n\", \"<br>\")\n",
        "    display(HTML(result_html_str))\n",
        "    attack_log_manager.log_result(result)\n",
        "            \n",
        "    if not isinstance(result, textattack.attack_results.SkippedAttackResult):\n",
        "        pbar.update(1)\n",
        "    else:\n",
        "        worklist_tail += 1\n",
        "        pbar.update(1)\n",
        "        worklist.append(worklist_tail)\n",
        "\n",
        "    num_results += 1\n",
        "\n",
        "    if (\n",
        "        type(result) == textattack.attack_results.SuccessfulAttackResult\n",
        "        or type(result) == textattack.attack_results.MaximizedAttackResult\n",
        "    ):\n",
        "        num_successes += 1\n",
        "                \n",
        "    if type(result) == textattack.attack_results.FailedAttackResult:\n",
        "        num_failures += 1\n",
        "    pbar.set_description(\n",
        "        \"[Succeeded / Failed / Total] {} / {} / {}\".format(\n",
        "            num_successes, num_failures, num_results\n",
        "        )\n",
        "    )\n",
        "\n",
        "pbar.close()\n",
        "\n",
        "attack_log_manager.enable_stdout()\n",
        "attack_log_manager.log_summary()\n",
        "attack_log_manager.flush()\n",
        "        \n",
        "textattack.shared.logger.info(f\"Attack time: {time.time() - load_time}s\")"
      ],
      "execution_count": null,
      "outputs": []
    },
    {
      "cell_type": "code",
      "metadata": {
        "colab": {
          "base_uri": "https://localhost:8080/"
        },
        "id": "O08eTCPlA5pB",
        "outputId": "e8c31e8d-7c38-4b9d-f0cb-4d349649ee79"
      },
      "source": [
        "from tqdm import tqdm # tqdm provides us a nice progress bar.\n",
        "from textattack.loggers import CSVLogger # tracks a dataframe for us.\n",
        "from textattack.attack_results import SuccessfulAttackResult\n",
        "\n",
        "results_iterable = attack.attack_dataset(dataset)\n",
        "\n",
        "logger = CSVLogger(color_method='html')\n",
        "\n",
        "num_successes = 0\n",
        "while num_successes < 10:\n",
        "    result = next(results_iterable)\n",
        "    if isinstance(result, SuccessfulAttackResult):\n",
        "        logger.log_attack_result(result)\n",
        "        num_successes += 1\n",
        "        print(f'{num_successes} of 10 successes complete.')"
      ],
      "execution_count": null,
      "outputs": [
        {
          "output_type": "stream",
          "text": [
            "\u001b[34;1mtextattack\u001b[0m: CSVLogger exiting without calling flush().\n"
          ],
          "name": "stderr"
        },
        {
          "output_type": "stream",
          "text": [
            "'1 of 10 successes complete.'\n",
            "'2 of 10 successes complete.'\n",
            "'3 of 10 successes complete.'\n",
            "'4 of 10 successes complete.'\n",
            "'5 of 10 successes complete.'\n",
            "'6 of 10 successes complete.'\n",
            "'7 of 10 successes complete.'\n",
            "'8 of 10 successes complete.'\n",
            "'9 of 10 successes complete.'\n",
            "'10 of 10 successes complete.'\n"
          ],
          "name": "stdout"
        }
      ]
    },
    {
      "cell_type": "code",
      "metadata": {
        "id": "ug-Ejv4YXLqJ"
      },
      "source": [
        "res = results_iterable"
      ],
      "execution_count": null,
      "outputs": []
    },
    {
      "cell_type": "code",
      "metadata": {
        "colab": {
          "base_uri": "https://localhost:8080/",
          "height": 1000
        },
        "id": "lrRee5wddvte",
        "outputId": "e0a20035-43bf-4972-e61b-0313c8cf520c"
      },
      "source": [
        " from IPython.display import display, HTML\n",
        " for id,result in enumerate(results_iterable):\n",
        "    result_html_str = result.__str__(color_method=\"html\").replace(\"\\n\\n\", \"<br>\")\n",
        "    display(HTML(result_html_str))"
      ],
      "execution_count": null,
      "outputs": [
        {
          "output_type": "display_data",
          "data": {
            "text/html": [
              "<font color = purple>Sci/tech (97%)</font> --> <font color = red>World (93%)</font><br><font color = purple>Socialites</font> <font color = purple>unite</font> <font color = purple>dolphin</font> <font color = purple>groups</font> Dolphin <font color = purple>groups</font>, or \"<font color = purple>pods</font>\", <font color = purple>rely</font> on <font color = purple>socialites</font> to <font color = purple>keep</font> them from collapsing, <font color = purple>scientists</font> claim.<br><font color = red>greatest</font> <font color = red>voted</font> <font color = red>behind</font> <font color = red>group</font> Dolphin <font color = red>group</font>, or \"<font color = red>Queensland</font>\", <font color = red>eventually</font> on <font color = red>state's</font> to <font color = red>fall</font> them from collapsing, <font color = red>entitlements</font> claim."
            ],
            "text/plain": [
              "<IPython.core.display.HTML object>"
            ]
          },
          "metadata": {
            "tags": []
          }
        },
        {
          "output_type": "display_data",
          "data": {
            "text/html": [
              "<font color = purple>Sci/tech (100%)</font> --> <font color = blue>Business (100%)</font><br>Teenage T. rex's monster growth <font color = purple>Tyrannosaurus</font> rex achieved its massive size due to an enormous growth <font color = purple>spurt</font> during its adolescent years.<br>Teenage T. rex's monster growth <font color = blue>announced</font> rex achieved its massive size due to an enormous growth <font color = blue>airport</font> during its adolescent years."
            ],
            "text/plain": [
              "<IPython.core.display.HTML object>"
            ]
          },
          "metadata": {
            "tags": []
          }
        },
        {
          "output_type": "display_data",
          "data": {
            "text/html": [
              "<font color = purple>Sci/tech (100%)</font> --> <font color = green>Sports (52%)</font><br>Scientists <font color = purple>Discover</font> Ganymede has a <font color = purple>Lumpy</font> <font color = purple>Interior</font> Jet <font color = purple>Propulsion</font> <font color = purple>Lab</font> -- <font color = purple>Scientists</font> have discovered <font color = purple>irregular</font> lumps beneath the icy <font color = purple>surface</font> of Jupiter's <font color = purple>largest</font> moon, Ganymede. <font color = purple>These</font> irregular masses <font color = purple>may</font> be rock formations, <font color = purple>supported</font> by Ganymede's icy shell for <font color = purple>billions</font> of years...<br>Scientists <font color = green>traditional</font> Ganymede has a... <font color = green>greater</font> Jet <font color = green>organisation</font> <font color = green>Hayden</font> -- <font color = green>incident</font> have discovered <font color = green>group</font> lumps beneath the icy <font color = green>face</font> of Jupiter's <font color = green>biggest</font> moon, Ganymede. <font color = green>certainly</font> irregular masses <font color = green>anyone</font> be rock formations, <font color = green>closed</font> by Ganymede's icy shell for <font color = green>allegations</font> of years..."
            ],
            "text/plain": [
              "<IPython.core.display.HTML object>"
            ]
          },
          "metadata": {
            "tags": []
          }
        },
        {
          "output_type": "display_data",
          "data": {
            "text/html": [
              "<font color = purple>Sci/tech (100%)</font> --> <font color = red>[FAILED]</font><br>Mars Rovers Relay Images Through Mars Express European Space Agency -- ESAs Mars Express has relayed pictures from one of NASA's Mars rovers for the first time, as part of a set of interplanetary networking demonstrations.     The demonstrations pave the way for future Mars missions to draw on joint interplanetary networking capabilities..."
            ],
            "text/plain": [
              "<IPython.core.display.HTML object>"
            ]
          },
          "metadata": {
            "tags": []
          }
        },
        {
          "output_type": "display_data",
          "data": {
            "text/html": [
              "<font color = purple>Sci/tech (100%)</font> --> <font color = red>World (99%)</font><br><font color = purple>Rocking</font> the <font color = purple>Cradle</font> of <font color = purple>Life</font> <font color = purple>When</font> did <font color = purple>life</font> <font color = purple>begin</font>? One evidential clue stems from the <font color = purple>fossil</font> <font color = purple>records</font> in Western Australia, <font color = purple>although</font> whether these <font color = purple>layered</font> <font color = purple>sediments</font> are <font color = purple>biological</font> or chemical has <font color = purple>spawned</font> a <font color = purple>spirited</font> debate. <font color = purple>Oxford</font> <font color = purple>researcher</font>, <font color = purple>Nicola</font> <font color = purple>McLoughlin</font>, <font color = purple>describes</font> some of the <font color = purple>issues</font> in <font color = purple>contention</font>.<br><font color = red>seeking</font> the <font color = red>taking</font> of <font color = red>life</font> <font color = red>Kieren</font> did <font color = red>eventually</font> <font color = red>find</font>? One evidential clue stems from the <font color = red>tourists</font> <font color = red>record</font> in Western Australia,, <font color = red>really</font> whether these <font color = red>appeared</font> <font color = red>entitlements</font> are <font color = red>British</font> or chemical has <font color = red>used</font> a <font color = red>blasted</font> debate. <font color = red>effort</font> <font color = red>research</font>, <font color = red>City</font>, <font color = red>circumstances</font>, <font color = red>races</font> some of the <font color = red>gives</font> in <font color = red>connection</font>."
            ],
            "text/plain": [
              "<IPython.core.display.HTML object>"
            ]
          },
          "metadata": {
            "tags": []
          }
        },
        {
          "output_type": "display_data",
          "data": {
            "text/html": [
              "<font color = purple>Sci/tech (100%)</font> --> <font color = blue>Business (93%)</font><br><font color = purple>Storage</font>, servers bruise <font color = purple>HP</font> earnings update Earnings per share rise compared with a year ago, but company misses analysts' expectations by a long shot.<br><font color = blue>separate</font>, servers bruise... earnings update Earnings per share rise compared with a year ago, but company misses analysts' expectations by a long shot."
            ],
            "text/plain": [
              "<IPython.core.display.HTML object>"
            ]
          },
          "metadata": {
            "tags": []
          }
        },
        {
          "output_type": "display_data",
          "data": {
            "text/html": [
              "<font color = purple>Sci/tech (88%)</font> --> <font color = blue>Business (87%)</font><br>IBM to hire even more new workers By the end of the year, the <font color = purple>computing</font> giant plans to have its biggest headcount since 1991.<br>IBM to hire even more new workers By the end of the year, the <font color = blue>heading</font> giant plans to have its biggest headcount since 1991."
            ],
            "text/plain": [
              "<IPython.core.display.HTML object>"
            ]
          },
          "metadata": {
            "tags": []
          }
        },
        {
          "output_type": "display_data",
          "data": {
            "text/html": [
              "<font color = purple>Sci/tech (100%)</font> --> <font color = blue>Business (98%)</font><br><font color = purple>Sun's</font> <font color = purple>Looking</font> <font color = purple>Glass</font> <font color = purple>Provides</font> <font color = purple>3D</font> <font color = purple>View</font> Developers <font color = purple>get</font> <font color = purple>early</font> <font color = purple>code</font> for <font color = purple>new</font> <font color = purple>operating</font> <font color = purple>system</font> '<font color = purple>skin'</font> <font color = purple>still</font> being crafted.<br><font color = blue>resistance</font> <font color = blue>working</font> <font color = blue>facility</font> <font color = blue>series</font> <font color = blue>40</font> <font color = blue>Afroz</font> Developers <font color = blue>something</font> <font color = blue>clearly</font> <font color = blue>companies</font> for <font color = blue>final</font> <font color = blue>escalating</font> <font color = blue>pace</font> '<font color = blue>There</font> <font color = blue>bill</font> being crafted."
            ],
            "text/plain": [
              "<IPython.core.display.HTML object>"
            ]
          },
          "metadata": {
            "tags": []
          }
        },
        {
          "output_type": "display_data",
          "data": {
            "text/html": [
              "<font color = purple>Sci/tech (100%)</font> --> <font color = blue>Business (98%)</font><br><font color = purple>IBM</font> <font color = purple>Chips</font> May Someday Heal Themselves New technology applies electrical fuses to help identify and repair <font color = purple>faults</font>.<br><font color = blue>they</font> <font color = blue>served</font> May Someday Heal Themselves New technology applies electrical fuses to help identify and repair <font color = blue>economic</font>."
            ],
            "text/plain": [
              "<IPython.core.display.HTML object>"
            ]
          },
          "metadata": {
            "tags": []
          }
        },
        {
          "output_type": "display_data",
          "data": {
            "text/html": [
              "<font color = blue>Business (97%)</font> --> <font color = gray>[SKIPPED]</font><br>Some People Not Eligible to Get in on Google IPO Google has billed its IPO as a way for everyday people to get in on the process, denying Wall Street the usual stranglehold it's had on IPOs. Public bidding, a minimum of just five shares, an open process with 28 underwriters - all this pointed to a new level of public participation. But this isn't the case."
            ],
            "text/plain": [
              "<IPython.core.display.HTML object>"
            ]
          },
          "metadata": {
            "tags": []
          }
        },
        {
          "output_type": "display_data",
          "data": {
            "text/html": [
              "<font color = purple>Sci/tech (100%)</font> --> <font color = blue>Business (92%)</font><br>Rivals Try to Turn Tables on Charles Schwab <font color = purple>By</font> MICHAEL LIEDTKE     SAN FRANCISCO (AP) -- With its low prices and iconoclastic attitude, discount stock broker Charles Schwab Corp. (SCH) represented an annoying stone in Wall Street's wing-tipped shoes for decades...<br>Rivals Try to Turn Tables on Charles Schwab <font color = blue>Australia</font> MICHAEL LIEDTKE     SAN FRANCISCO (AP) -- With its low prices and iconoclastic attitude, discount stock broker Charles Schwab Corp. (SCH) represented an annoying stone in Wall Street's wing-tipped shoes for decades..."
            ],
            "text/plain": [
              "<IPython.core.display.HTML object>"
            ]
          },
          "metadata": {
            "tags": []
          }
        },
        {
          "output_type": "display_data",
          "data": {
            "text/html": [
              "<font color = purple>Sci/tech (100%)</font> --> <font color = red>[FAILED]</font><br>News: Sluggish movement on power grid cyber security Industry cyber security standards fail to reach some of the most vulnerable components of the power grid.\\"
            ],
            "text/plain": [
              "<IPython.core.display.HTML object>"
            ]
          },
          "metadata": {
            "tags": []
          }
        },
        {
          "output_type": "display_data",
          "data": {
            "text/html": [
              "<font color = green>Sports (74%)</font> --> <font color = red>World (65%)</font><br><font color = green>Giddy</font> Phelps Touches Gold for First Time Michael Phelps won the gold medal in the 400 individual medley and set a world record in a time of 4 minutes 8.26 seconds.<br><font color = red>actor</font> Phelps Touches Gold for First Time Michael Phelps won the gold medal in the 400 individual medley and set a world record in a time of 4 minutes 8.26 seconds."
            ],
            "text/plain": [
              "<IPython.core.display.HTML object>"
            ]
          },
          "metadata": {
            "tags": []
          }
        },
        {
          "output_type": "display_data",
          "data": {
            "text/html": [
              "<font color = green>Sports (100%)</font> --> <font color = red>World (53%)</font><br>Tougher rules won't soften Law's <font color = green>game</font> <font color = green>FOXBOROUGH</font> -- Looking at his ridiculously developed upper body, with huge <font color = green>biceps</font> and hardly an ounce of fat, it's easy to see why <font color = green>Ty</font> Law, arguably the best <font color = green>cornerback</font> in <font color = green>football</font>, chooses physical play over finesse. <font color = green>That's</font> not to imply that he's lacking a finesse component, because he can shut down his side of the field much as Deion Sanders ...<br>Tougher rules won't soften Law's <font color = red>possible</font> <font color = red>South</font> -- Looking at his ridiculously developed upper body, with huge <font color = red>anti-Taliban</font> and hardly an ounce of fat, it's easy to see why <font color = red>Palestinian</font> Law, arguably the best <font color = red>provide</font> in <font color = red>property</font>, chooses physical play over finesse. \"<font color = red>It's</font> not to imply that he's lacking a finesse component, because he can shut down his side of the field much as Deion Sanders ..."
            ],
            "text/plain": [
              "<IPython.core.display.HTML object>"
            ]
          },
          "metadata": {
            "tags": []
          }
        },
        {
          "output_type": "display_data",
          "data": {
            "text/html": [
              "<font color = green>Sports (94%)</font> --> <font color = red>World (50%)</font><br>Shoppach doesn't appear ready to hit the <font color = green>next</font> level With the weeks dwindling until <font color = green>Jason</font> Varitek <font color = green>enters</font> free agency, the Red Sox continue to carefully monitor Kelly Shoppach , their catcher of the <font color = green>future</font>, in his climb toward the majors. The Sox like most of what they have <font color = green>seen</font> at Triple <font color = green>A</font> Pawtucket from Shoppach, though it remains <font color = green>highly</font> uncertain whether he can make the adjustments at the plate ...<br>Shoppach doesn't appear ready to hit the <font color = red>economic</font> level With the weeks dwindling until <font color = red>capital</font> Varitek <font color = red>manslaughter</font> free agency, the Red Sox continue to carefully monitor Kelly Shoppach , their catcher of the <font color = red>sure</font>, in his climb toward the majors. The Sox like most of what they have <font color = red>given</font> at Triple <font color = red>list</font> Pawtucket from Shoppach, though it remains <font color = red>high</font> uncertain whether he can make the adjustments at the plate ..."
            ],
            "text/plain": [
              "<IPython.core.display.HTML object>"
            ]
          },
          "metadata": {
            "tags": []
          }
        },
        {
          "output_type": "display_data",
          "data": {
            "text/html": [
              "<font color = green>Sports (100%)</font> --> <font color = blue>Business (54%)</font><br><font color = green>Mighty</font> <font color = green>Ortiz</font> makes sure <font color = green>Sox</font> can rest easy Just imagine what David <font color = green>Ortiz</font> could do on a <font color = green>good</font> night's <font color = green>rest</font>. Ortiz spent the night before last with his baby <font color = green>boy</font>, <font color = green>D'Angelo</font>, who is barely 1 month old. He had planned on attending the Red <font color = green>Sox'</font> Family Day at <font color = green>Fenway</font> Park yesterday morning, but he had to sleep in. After all, <font color = green>Ortiz</font> had a son at <font color = green>home</font>, and he ...<br><font color = blue>manslaughter</font> <font color = blue>Fire</font> makes sure <font color = blue>South</font> can rest easy Just imagine what David <font color = blue>Fire</font> could do on a \"<font color = blue>Every</font> night's <font color = blue>request</font>. Ortiz spent the night before last with his baby <font color = blue>launched</font>, <font color = blue>company's</font>, who is barely 1 month old. He had planned on attending the Red <font color = blue>South</font> Family Day at <font color = blue>without</font> Park yesterday morning, but he had to sleep in. After all, <font color = blue>Fire</font> had a son at <font color = blue>threatening</font>, and he ..."
            ],
            "text/plain": [
              "<IPython.core.display.HTML object>"
            ]
          },
          "metadata": {
            "tags": []
          }
        },
        {
          "output_type": "display_data",
          "data": {
            "text/html": [
              "<font color = green>Sports (100%)</font> --> <font color = blue>Business (70%)</font><br>They've caught his eye In  quot;helping themselves, quot; <font color = green>Ricky</font> <font color = green>Bryant</font>, Chas Gessner, Michael Jennings, and David Patten did nothing Friday night to make Bill <font color = green>Belichick's</font> decision on what to do with his <font color = green>receivers</font> any easier.<br>They've caught his eye In  quot;helping themselves, quot; <font color = blue>towards</font> <font color = blue>grant</font>, Chas Gessner, Michael Jennings, and David Patten did nothing Friday night to make Bill <font color = blue>aircraft</font> decision on what to do with his <font color = blue>receiving</font> any easier."
            ],
            "text/plain": [
              "<IPython.core.display.HTML object>"
            ]
          },
          "metadata": {
            "tags": []
          }
        },
        {
          "output_type": "display_data",
          "data": {
            "text/html": [
              "<font color = green>Sports (100%)</font> --> <font color = red>World (56%)</font><br><font color = green>Indians</font> <font color = green>Mount</font> <font color = green>Charge</font> <font color = green>The</font> <font color = green>Cleveland</font> <font color = green>Indians</font> pulled <font color = green>within</font> <font color = green>one</font> <font color = green>game</font> of the AL <font color = green>Central</font> <font color = green>lead</font> by beating the Minnesota <font color = green>Twins</font>, 7-1, <font color = green>Saturday</font> night with <font color = green>home</font> runs by Travis <font color = green>Hafner</font> and Victor <font color = green>Martinez</font>.<br><font color = red>India</font> <font color = red>France</font> <font color = red>charge</font> <font color = red>Governor-General</font> <font color = red>Switzerland</font> <font color = red>India</font> pulled <font color = red>behind</font> <font color = red>winning</font> <font color = red>possible</font> of the AL <font color = red>central</font> <font color = red>City</font> by beating the Minnesota <font color = red>sides</font>, 7-1, <font color = red>Monday</font> night with <font color = red>threatening</font> runs by Travis <font color = red>order</font> and Victor <font color = red>Martin</font>."
            ],
            "text/plain": [
              "<IPython.core.display.HTML object>"
            ]
          },
          "metadata": {
            "tags": []
          }
        },
        {
          "output_type": "display_data",
          "data": {
            "text/html": [
              "<font color = red>World (100%)</font> --> <font color = red>[FAILED]</font><br>Sister of man who died in Vancouver police custody slams chief (Canadian Press) Canadian Press - VANCOUVER (CP) - The sister of a man who died after a violent confrontation with police has demanded the city's chief constable resign for defending the officer involved."
            ],
            "text/plain": [
              "<IPython.core.display.HTML object>"
            ]
          },
          "metadata": {
            "tags": []
          }
        },
        {
          "output_type": "display_data",
          "data": {
            "text/html": [
              "<font color = red>World (100%)</font> --> <font color = blue>Business (85%)</font><br>Man Sought  #36;50M From McGreevey, Aides Say (<font color = red>AP</font>) <font color = red>AP</font> - The man who claims Gov. James E. McGreevey sexually harassed him was pushing for a cash settlement of up to  #<font color = red>36</font>;50 million before the governor decided to announce that he was gay and had an extramarital affair, sources told The Associated Press.<br>Man Sought  #36;50M From McGreevey, Aides Say (<font color = blue>5</font>) <font color = blue>5</font> - The man who claims Gov. James E. McGreevey sexually harassed him was pushing for a cash settlement of up to  #<font color = blue>States</font>.;50 million before the governor decided to announce that he was gay and had an extramarital affair, sources told The Associated Press."
            ],
            "text/plain": [
              "<IPython.core.display.HTML object>"
            ]
          },
          "metadata": {
            "tags": []
          }
        },
        {
          "output_type": "display_data",
          "data": {
            "text/html": [
              "<font color = red>World (100%)</font> --> <font color = green>Sports (85%)</font><br><font color = red>Explosions</font> <font color = red>Echo</font> Throughout <font color = red>Najaf</font> <font color = red>NAJAF</font>, <font color = red>Iraq</font> - <font color = red>Explosions</font> and <font color = red>gunfire</font> rattled through the city of <font color = red>Najaf</font> as U.S. troops in <font color = red>armored</font> vehicles and tanks <font color = red>rolled</font> back into the <font color = red>streets</font> here <font color = red>Sunday</font>, a day after the <font color = red>collapse</font> of talks - and with them a temporary <font color = red>cease-fire</font> - intended to <font color = red>end</font> the <font color = red>fighting</font> in this <font color = red>holy</font> city...<br><font color = green>tensions</font> <font color = green>Energy</font> Throughout <font color = green>data</font> <font color = green>40</font>, <font color = green>that</font> - <font color = green>tensions</font> and <font color = green>five</font> rattled through the city of <font color = green>data</font> as U.S. troops in <font color = green>hundred</font> vehicles and tanks <font color = green>called</font> back into the <font color = green>final</font> here <font color = green>Monday</font>, a day after the <font color = green>eventually</font> of talks - and with them a temporary <font color = green>five</font> - intended to <font color = green>include</font> the <font color = green>manslaughter</font> in this <font color = green>eventually</font> city..."
            ],
            "text/plain": [
              "<IPython.core.display.HTML object>"
            ]
          },
          "metadata": {
            "tags": []
          }
        },
        {
          "output_type": "display_data",
          "data": {
            "text/html": [
              "<font color = red>World (100%)</font> --> <font color = blue>Business (40%)</font><br><font color = red>Frail</font> <font color = red>Pope</font> <font color = red>Celebrates</font> Mass at Lourdes LOURDES, <font color = red>France</font> - <font color = red>A</font> <font color = red>frail</font> <font color = red>Pope</font> John Paul II, <font color = red>breathing</font> heavily and gasping at times, celebrated an open-air Mass on Sunday for several hundred thousand pilgrims, many in wheelchairs, at a shrine to the Virgin Mary that is associated with miraculous cures.    At one point he said \"help me\" in Polish while struggling through his homily in French...<br><font color = blue>provide</font> <font color = blue>Meanwhile</font>, <font color = blue>rates</font> Mass at Lourdes LOURDES, <font color = blue>insurance</font> - <font color = blue>list</font> <font color = blue>Harrison's</font> <font color = blue>Meanwhile</font>, John Paul II, <font color = blue>looking</font> heavily and gasping at times, celebrated an open-air Mass on Sunday for several hundred thousand pilgrims, many in wheelchairs, at a shrine to the Virgin Mary that is associated with miraculous cures.    At one point he said \"help me\" in Polish while struggling through his homily in French..."
            ],
            "text/plain": [
              "<IPython.core.display.HTML object>"
            ]
          },
          "metadata": {
            "tags": []
          }
        },
        {
          "output_type": "display_data",
          "data": {
            "text/html": [
              "<font color = red>World (82%)</font> --> <font color = blue>Business (76%)</font><br>Venezuela Prepares for Chavez Recall Vote Supporters and rivals warn of possible fraud; government says Chavez's defeat could produce turmoil in world <font color = red>oil</font> market.<br>Venezuela Prepares for Chavez Recall Vote Supporters and rivals warn of possible fraud; government says Chavez's defeat could produce turmoil in world <font color = blue>choosing</font> market."
            ],
            "text/plain": [
              "<IPython.core.display.HTML object>"
            ]
          },
          "metadata": {
            "tags": []
          }
        },
        {
          "output_type": "display_data",
          "data": {
            "text/html": [
              "<font color = red>World (100%)</font> --> <font color = blue>Business (97%)</font><br>1994 Law Designed to Preserve <font color = red>Guard</font> Jobs (<font color = red>AP</font>) <font color = red>AP</font> - A 1994 law strengthened job protections for National Guard and Reserve troops called to active duty. Here are major provisions of the Uniformed Services Employment and Reemployment Rights Act (USERRA).<br>1994 Law Designed to Preserve <font color = blue>Howard</font> Jobs (<font color = blue>5</font>) <font color = blue>5</font> - A 1994 law strengthened job protections for National Guard and Reserve troops called to active duty. Here are major provisions of the Uniformed Services Employment and Reemployment Rights Act (USERRA)."
            ],
            "text/plain": [
              "<IPython.core.display.HTML object>"
            ]
          },
          "metadata": {
            "tags": []
          }
        },
        {
          "output_type": "display_data",
          "data": {
            "text/html": [
              "<font color = red>World (100%)</font> --> <font color = green>Sports (57%)</font><br><font color = red>Iran</font> <font color = red>Warns</font> <font color = red>Its</font> <font color = red>Missiles</font> <font color = red>Can</font> <font color = red>Hit</font> Anywhere in Israel  <font color = red>TEHRAN</font> (Reuters) - A senior Iranian military official said  Sunday Israel and the United States would not <font color = red>dare</font> <font color = red>attack</font> Iran  since it could strike back anywhere in <font color = red>Israel</font> with its latest  <font color = red>missiles</font>, news <font color = red>agencies</font> reported.<br><font color = green>an</font> <font color = green>cricket</font> <font color = green>violence</font> <font color = green>Seles</font> <font color = green>Ian</font> <font color = green>always</font> Anywhere in Israel  <font color = green>half</font> (Reuters) - A senior Iranian military official said  Sunday Israel and the United States would not <font color = green>Hare</font> <font color = green>attacks</font>. Iran  since it could strike back anywhere in <font color = green>Israelis</font>. with its latest  <font color = green>Seles</font>, news <font color = green>races</font> reported."
            ],
            "text/plain": [
              "<IPython.core.display.HTML object>"
            ]
          },
          "metadata": {
            "tags": []
          }
        },
        {
          "output_type": "display_data",
          "data": {
            "text/html": [
              "<font color = red>World (100%)</font> --> <font color = red>[FAILED]</font><br>Afghan Army Dispatched to Calm Violence KABUL, Afghanistan - Government troops intervened in Afghanistan's latest outbreak of deadly fighting between warlords, flying from the capital to the far west on U.S. and NATO airplanes to retake an air base contested in the violence, officials said Sunday..."
            ],
            "text/plain": [
              "<IPython.core.display.HTML object>"
            ]
          },
          "metadata": {
            "tags": []
          }
        },
        {
          "output_type": "display_data",
          "data": {
            "text/html": [
              "<font color = green>Sports (100%)</font> --> <font color = blue>Business (100%)</font><br>Johnson Helps <font color = green>D-Backs</font> <font color = green>End</font> <font color = green>Nine-Game</font> <font color = green>Slide</font> (<font color = green>AP</font>) <font color = green>AP</font> - <font color = green>Randy</font> Johnson took a <font color = green>four-hitter</font> into the <font color = green>ninth</font> <font color = green>inning</font> to <font color = green>help</font> the Arizona <font color = green>Diamondbacks</font> <font color = green>end</font> a <font color = green>nine-game</font> losing streak <font color = green>Sunday</font>, <font color = green>beating</font> Steve <font color = green>Trachsel</font> and the New York <font color = green>Mets</font> <font color = green>2-0</font>.<br>Johnson Helps <font color = blue>attacks</font>. <font color = blue>land</font> <font color = blue>manager</font> <font color = blue>inside</font> (<font color = blue>5</font>) <font color = blue>5</font> - <font color = blue>significant</font> Johnson took a <font color = blue>enter</font> into the <font color = blue>coast</font> <font color = blue>opening</font> to <font color = blue>executive</font> the Arizona <font color = blue>attacking</font> <font color = blue>include</font> a <font color = blue>Melbourne</font> losing streak <font color = blue>Monday</font>, <font color = blue>hearing</font> Steve <font color = blue>telephone</font> and the New York <font color = blue>starting</font> <font color = blue>South</font>."
            ],
            "text/plain": [
              "<IPython.core.display.HTML object>"
            ]
          },
          "metadata": {
            "tags": []
          }
        },
        {
          "output_type": "display_data",
          "data": {
            "text/html": [
              "<font color = blue>Business (100%)</font> --> <font color = red>World (98%)</font><br><font color = blue>Retailers</font> Vie for Back-To-School Buyers (Reuters) <font color = blue>Reuters</font> - <font color = blue>Apparel</font> <font color = blue>retailers</font> are hoping their\\back-to-school fashions will make the grade among\\style-conscious teens and young adults this fall, but it could\\be a tough sell, with students and parents keeping a tighter\\hold on their wallets.<br><font color = red>tailenders</font> Vie for Back-To-School Buyers (Reuters) <font color = red>fighting</font> - <font color = red>apparently</font> <font color = red>tailenders</font> are hoping their\\back-to-school fashions will make the grade among\\style-conscious teens and young adults this fall, but it could\\be a tough sell, with students and parents keeping a tighter\\hold on their wallets."
            ],
            "text/plain": [
              "<IPython.core.display.HTML object>"
            ]
          },
          "metadata": {
            "tags": []
          }
        },
        {
          "output_type": "display_data",
          "data": {
            "text/html": [
              "<font color = red>World (100%)</font> --> <font color = green>Sports (100%)</font><br><font color = red>Politics</font> an Afterthought Amid <font color = red>Hurricane</font> (AP) AP - If Hurricane Charley had struck three years ago, President Bush's tour through the wreckage of this coastal city would have been just the sort of post-disaster visit that other presidents have made to the scenes of storms, earthquakes, floods and fires.<br><font color = green>sentence</font> an Afterthought Amid <font color = green>cricket</font> (AP) AP - If Hurricane Charley had struck three years ago, President Bush's tour through the wreckage of this coastal city would have been just the sort of post-disaster visit that other presidents have made to the scenes of storms, earthquakes, floods and fires."
            ],
            "text/plain": [
              "<IPython.core.display.HTML object>"
            ]
          },
          "metadata": {
            "tags": []
          }
        },
        {
          "output_type": "display_data",
          "data": {
            "text/html": [
              "<font color = purple>Sci/tech (99%)</font> --> <font color = red>World (51%)</font><br><font color = purple>Spam</font> suspension hits <font color = purple>Sohu</font>.com <font color = purple>shares</font> (<font color = purple>FT</font>.com) FT.com - Shares in Sohu.com, a leading <font color = purple>US-listed</font> Chinese internet <font color = purple>portal</font>, fell more than 10 per cent on Friday after China's biggest <font color = purple>mobile</font> <font color = purple>phone</font> <font color = purple>network</font> <font color = purple>operator</font> <font color = purple>imposed</font> a <font color = purple>one-year</font> <font color = purple>suspension</font> on its <font color = purple>multimedia</font> <font color = purple>messaging</font> services because of <font color = purple>customers</font> being <font color = purple>sent</font> <font color = purple>spam</font>.<br><font color = red>bring</font> suspension hits <font color = red>South</font>.com <font color = red>witnesses</font> (<font color = red>that</font>.com) FT.com - Shares in Sohu.com, a leading <font color = red>blasted</font> Chinese internet <font color = red>representing</font>, fell more than 10 per cent. on Friday after China's biggest <font color = red>receiving</font> <font color = red>telephone</font> <font color = red>between</font> <font color = red>violence</font> <font color = red>caused</font> a <font color = red>year</font> <font color = red>television</font> on its <font color = red>Meanwhile</font>, <font color = red>losing</font> services because of <font color = red>tailenders</font> being <font color = red>movement</font> <font color = red>heading</font>."
            ],
            "text/plain": [
              "<IPython.core.display.HTML object>"
            ]
          },
          "metadata": {
            "tags": []
          }
        },
        {
          "output_type": "display_data",
          "data": {
            "text/html": [
              "<font color = green>Sports (100%)</font> --> <font color = red>World (99%)</font><br>Erstad's <font color = green>Double</font> <font color = green>Lifts</font> <font color = green>Angels</font> to Win (AP) <font color = green>AP</font> - <font color = green>Darin</font> <font color = green>Erstad</font> doubled in the go-ahead run in the <font color = green>eighth</font> <font color = green>inning</font>, lifting the <font color = green>Anaheim</font> Angels to a <font color = green>3-2</font> <font color = green>victory</font> over the <font color = green>Detroit</font> <font color = green>Tigers</font> on <font color = green>Sunday</font>. The <font color = green>win</font> <font color = green>pulled</font> <font color = green>Anaheim</font> <font color = green>within</font> a <font color = green>percentage</font> <font color = green>point</font> of <font color = green>Boston</font> and Texas in the <font color = green>AL</font> <font color = green>wild-card</font> <font color = green>race</font>.<br>Erstad's <font color = red>eventually</font> <font color = red>destroyed</font> <font color = red>immediately</font> to Win (AP) <font color = red>5</font> - <font color = red>rain</font> <font color = red>stand</font> doubled in the go-ahead run in the <font color = red>both</font> <font color = red>opening</font>, lifting the <font color = red>increase</font> Angels to a <font color = red>5</font> <font color = red>Queensland</font> over the <font color = red>executive</font> <font color = red>peacekeepers</font> on <font color = red>Monday</font>. The <font color = red>main</font> <font color = red>led</font> <font color = red>increase</font> <font color = red>behind</font> a <font color = red>reduce</font> <font color = red>prevent</font> of <font color = red>students</font> and Texas in the <font color = red>there</font> <font color = red>process</font> <font color = red>pace</font>."
            ],
            "text/plain": [
              "<IPython.core.display.HTML object>"
            ]
          },
          "metadata": {
            "tags": []
          }
        },
        {
          "output_type": "display_data",
          "data": {
            "text/html": [
              "<font color = green>Sports (100%)</font> --> <font color = red>World (100%)</font><br><font color = green>Drew</font> <font color = green>Out</font> of <font color = green>Braves'</font> <font color = green>Lineup</font> <font color = green>After</font> <font color = green>Injury</font> (AP) <font color = green>AP</font> - <font color = green>Outfielder</font> <font color = green>J</font>.<font color = green>D</font>. <font color = green>Drew</font> missed the <font color = green>Atlanta</font> <font color = green>Braves'</font> <font color = green>game</font> against the St. <font color = green>Louis</font> <font color = green>Cardinals</font> on <font color = green>Sunday</font> <font color = green>night</font> with a <font color = green>sore</font> <font color = green>right</font> <font color = green>quadriceps</font>.<br><font color = red>Perth</font> \"<font color = red>If</font> of <font color = red>areas</font> <font color = red>series</font> <font color = red>Rafter</font> <font color = red>measures</font> (AP) <font color = red>5</font> - <font color = red>murder</font> <font color = red>Australia</font>.<font color = red>that</font>. <font color = red>Perth</font> missed the <font color = red>individuals</font> <font color = red>areas</font> <font color = red>possible</font> against the St. <font color = red>cannot</font> <font color = red>calling</font> on <font color = red>Monday</font> <font color = red>eight</font> with a <font color = red>Hare</font> <font color = red>light</font> <font color = red>American</font>."
            ],
            "text/plain": [
              "<IPython.core.display.HTML object>"
            ]
          },
          "metadata": {
            "tags": []
          }
        },
        {
          "output_type": "display_data",
          "data": {
            "text/html": [
              "<font color = red>World (100%)</font> --> <font color = blue>Business (62%)</font><br>Venezuelans Flood <font color = red>Polls</font>, Voting Extended  <font color = red>CARACAS</font>, <font color = red>Venezuela</font> (Reuters) - <font color = red>Venezuelans</font> voted in huge  numbers on Sunday in a <font color = red>historic</font> referendum on whether to recall  left-wing President Hugo Chavez and <font color = red>electoral</font> authorities  prolonged voting well into the <font color = red>night</font>.<br>Venezuelans Flood <font color = blue>Pollock</font>, Voting Extended  <font color = blue>1</font>, <font color = blue>Adelaide</font> (Reuters) - <font color = blue>starting</font> voted in huge  numbers on Sunday in a <font color = blue>secretary</font> referendum on whether to recall  left-wing President Hugo Chavez and <font color = blue>Several</font> authorities  prolonged voting well into the <font color = blue>eight</font>."
            ],
            "text/plain": [
              "<IPython.core.display.HTML object>"
            ]
          },
          "metadata": {
            "tags": []
          }
        },
        {
          "output_type": "display_data",
          "data": {
            "text/html": [
              "<font color = purple>Sci/tech (72%)</font> --> <font color = blue>Business (84%)</font><br>Dell Exits <font color = purple>Low-End</font> China Consumer PC Market  HONG KONG (Reuters) - Dell Inc. &lt;DELL.O&gt;, the world's  largest PC maker, said on Monday it has left the low-end  consumer PC market in China and cut its overall growth target  for the country this year due to stiff competition in the  segment.<br>Dell Exits <font color = blue>determine</font> China Consumer PC Market  HONG KONG (Reuters) - Dell Inc. &lt;DELL.O&gt;, the world's  largest PC maker, said on Monday it has left the low-end  consumer PC market in China and cut its overall growth target  for the country this year due to stiff competition in the  segment."
            ],
            "text/plain": [
              "<IPython.core.display.HTML object>"
            ]
          },
          "metadata": {
            "tags": []
          }
        },
        {
          "output_type": "display_data",
          "data": {
            "text/html": [
              "<font color = red>World (100%)</font> --> <font color = purple>Sci/tech (75%)</font><br><font color = red>China</font> <font color = red>Says</font> <font color = red>Taiwan</font> <font color = red>Spy</font> Also Operated in U.S. - Media  <font color = red>BEIJING</font> (<font color = red>Reuters</font>) - <font color = red>Beijing</font> on Monday accused a  <font color = red>Chinese-American</font> arrested for <font color = red>spying</font> for <font color = red>Taiwan</font> of building an  <font color = red>espionage</font> network in the <font color = red>United</font> States, and said he could go on  trial very soon.<br><font color = purple>absolutely</font> <font color = purple>always</font> <font color = purple>ban</font> <font color = purple>At</font> Also Operated in U.S. - Media  <font color = purple>there</font> (<font color = purple>fighting</font>) - <font color = purple>flying</font> on Monday, accused a  <font color = purple>Americans</font> arrested for <font color = purple>flying</font> for <font color = purple>ban</font> of building an  <font color = purple>provisional</font> network in the <font color = purple>attacks</font>, States, and said he could go on  trial very soon."
            ],
            "text/plain": [
              "<IPython.core.display.HTML object>"
            ]
          },
          "metadata": {
            "tags": []
          }
        },
        {
          "output_type": "display_data",
          "data": {
            "text/html": [
              "<font color = green>Sports (100%)</font> --> <font color = purple>Sci/tech (100%)</font><br><font color = green>Another</font> <font color = green>Major</font> <font color = green>Non-Factor</font> <font color = green>Another</font> <font color = green>major</font>, <font color = green>another</font> <font color = green>disappointment</font> for <font color = green>Tiger</font> <font color = green>Woods</font>, the No. 1 <font color = green>ranked</font> <font color = green>player</font> in the world who has not won a <font color = green>major</font> <font color = green>championship</font> since his <font color = green>triumph</font> at the <font color = green>2002</font> U.S. <font color = green>Open</font>.<br><font color = purple>weather</font> <font color = purple>major</font> <font color = purple>actor</font> <font color = purple>weather</font> <font color = purple>control</font>, <font color = purple>other</font> <font color = purple>event</font> for <font color = purple>matter</font> <font color = purple>increase</font>, the No. 1 <font color = purple>hijacked</font> <font color = purple>cancer</font> in the world who has not won a <font color = purple>control</font> <font color = purple>champion</font> since his <font color = purple>helped</font> at the <font color = purple>200</font> U.S. <font color = purple>seen</font>."
            ],
            "text/plain": [
              "<IPython.core.display.HTML object>"
            ]
          },
          "metadata": {
            "tags": []
          }
        },
        {
          "output_type": "display_data",
          "data": {
            "text/html": [
              "<font color = red>World (100%)</font> --> <font color = green>Sports (60%)</font><br>US fighter squadron to be deployed in South Korea next month (<font color = red>AFP</font>) AFP - <font color = red>A</font> squadron of US Air Force F-15E fighters based in Alaska will fly to South Korea next month for temporary <font color = red>deployment</font> aimed at enhancing US firepower on the Korean <font color = red>peninsula</font>, US authorities said.<br>US fighter squadron to be deployed in South Korea next month (<font color = green>bid</font>) AFP - <font color = green>list</font> squadron of US Air Force F-15E fighters based in Alaska will fly to South Korea next month for temporary <font color = green>unemployment</font> aimed at enhancing US firepower on the Korean <font color = green>innings</font>, US authorities said."
            ],
            "text/plain": [
              "<IPython.core.display.HTML object>"
            ]
          },
          "metadata": {
            "tags": []
          }
        },
        {
          "output_type": "display_data",
          "data": {
            "text/html": [
              "<font color = green>Sports (100%)</font> --> <font color = red>World (99%)</font><br><font color = green>Johnson</font> Back to His <font color = green>Best</font> as <font color = green>D-Backs</font> End Streak  NEW <font color = green>YORK</font> (Reuters) - Randy Johnson struck out 14 <font color = green>batters</font> in  8 1/3 <font color = green>innings</font> to help the <font color = green>Arizona</font> <font color = green>Diamondbacks</font> end a nine-game  losing <font color = green>streak</font> with a 2-0 win over the host <font color = green>New</font> <font color = green>York</font> Mets in the  National <font color = green>League</font> Sunday.<br><font color = red>intelligence</font> Back to His <font color = red>West</font> as <font color = red>attacks</font>. End Streak  NEW <font color = red>Palestinian</font> (Reuters) - Randy Johnson struck out 14 <font color = red>manslaughter</font> in  8 1/3 <font color = red>request</font> to help the <font color = red>Ariel</font> <font color = red>attacking</font> end a nine-game  losing <font color = red>north</font>. with a 2-0 win over the host <font color = red>Wales</font> <font color = red>Zealand</font> Mets in the  National <font color = red>burning</font> Sunday."
            ],
            "text/plain": [
              "<IPython.core.display.HTML object>"
            ]
          },
          "metadata": {
            "tags": []
          }
        },
        {
          "output_type": "display_data",
          "data": {
            "text/html": [
              "<font color = red>World (100%)</font> --> <font color = red>[FAILED]</font><br>Restive Maldives eases curfew after rounding up dissidents (AFP) AFP - A curfew in the capital of the Maldives was eased but parliament sessions were put off indefinitely and emergency rule continued following last week's riots, officials and residents said."
            ],
            "text/plain": [
              "<IPython.core.display.HTML object>"
            ]
          },
          "metadata": {
            "tags": []
          }
        },
        {
          "output_type": "display_data",
          "data": {
            "text/html": [
              "<font color = purple>Sci/tech (100%)</font> --> <font color = blue>Business (97%)</font><br>Vodafone hires Citi for Cesky bid (TheDeal.<font color = purple>com</font>) TheDeal.<font color = purple>com</font> - The U.K. <font color = purple>mobile</font> giant wants to find a way to disentagle the Czech <font color = purple>wireless</font> and fixed-line businesses.<br>Vodafone hires Citi for Cesky bid (TheDeal.<font color = blue>company's</font>) TheDeal.<font color = blue>company's</font> - The U.K. <font color = blue>receiving</font> giant wants to find a way to disentagle the Czech <font color = blue>remains</font> and fixed-line businesses."
            ],
            "text/plain": [
              "<IPython.core.display.HTML object>"
            ]
          },
          "metadata": {
            "tags": []
          }
        },
        {
          "output_type": "display_data",
          "data": {
            "text/html": [
              "<font color = blue>Business (100%)</font> --> <font color = red>World (57%)</font><br>Dollar Briefly Hits 4-Wk Low Vs Euro  <font color = blue>LONDON</font> (<font color = blue>Reuters</font>) - The dollar <font color = blue>dipped</font> to a four-week low  against the <font color = blue>euro</font> on Monday before rising slightly on  <font color = blue>profit-taking</font>, but steep oil prices and weak U.S. <font color = blue>data</font>  continued to fan worries about the health of the world's  largest economy.<br>Dollar Briefly Hits 4-Wk Low Vs Euro  <font color = red>5</font> (<font color = red>fighting</font>) - The dollar <font color = red>stopped</font> to a four-week low  against the <font color = red>Yasser</font> on Monday before rising slightly on  <font color = red>making</font>, but steep oil prices and weak U.S. <font color = red>Indonesia</font>  continued to fan worries about the health of the world's  largest economy."
            ],
            "text/plain": [
              "<IPython.core.display.HTML object>"
            ]
          },
          "metadata": {
            "tags": []
          }
        },
        {
          "output_type": "display_data",
          "data": {
            "text/html": [
              "<font color = green>Sports (72%)</font> --> <font color = gray>[SKIPPED]</font><br>Promoting a Shared Vision As Michael Kaleko kept running into people who were getting older and having more vision problems, he realized he could do something about it."
            ],
            "text/plain": [
              "<IPython.core.display.HTML object>"
            ]
          },
          "metadata": {
            "tags": []
          }
        },
        {
          "output_type": "display_data",
          "data": {
            "text/html": [
              "<font color = red>World (100%)</font> --> <font color = blue>Business (76%)</font><br>India's Tata expands regional footprint via NatSteel buyout (<font color = red>AFP</font>) <font color = red>AFP</font> - India's Tata Iron and Steel Company Ltd. took a strategic step to expand its Asian footprint with the announcement it will buy the Asia-Pacific steel operations of Singapore's NatSteel Ltd.<br>India's Tata expands regional footprint via NatSteel buyout (<font color = blue>bid</font>) <font color = blue>bid</font> - India's Tata Iron and Steel Company Ltd. took a strategic step to expand its Asian footprint with the announcement it will buy the Asia-Pacific steel operations of Singapore's NatSteel Ltd."
            ],
            "text/plain": [
              "<IPython.core.display.HTML object>"
            ]
          },
          "metadata": {
            "tags": []
          }
        },
        {
          "output_type": "display_data",
          "data": {
            "text/html": [
              "<font color = red>World (100%)</font> --> <font color = blue>Business (52%)</font><br><font color = red>Delegates</font> Urge <font color = red>Cleric</font> to Pull Out of <font color = red>Najaf</font> <font color = red>BAGHDAD</font>, <font color = red>Iraq</font> - <font color = red>Delegates</font> at Iraq's National Conference called on <font color = red>radical</font> Shiite <font color = red>cleric</font> <font color = red>Muqtada</font> <font color = red>al-Sadr</font> to abandon his uprising against <font color = red>U</font>.S. and <font color = red>Iraqi</font> troops and pull his fighters out of a holy <font color = red>shrine</font> in Najaf...<br><font color = blue>rates</font> Urge <font color = blue>doubles</font> to Pull Out of <font color = blue>data</font> <font color = blue>She</font>, <font color = blue>that</font> - <font color = blue>rates</font> at Iraq's National Conference called on <font color = blue>Argentina's</font> Shiite <font color = blue>captain</font> <font color = blue>area</font> <font color = blue>knowledge</font> to abandon his uprising against <font color = blue>5</font>.S. and <font color = blue>said</font>. troops and pull his fighters out of a holy <font color = blue>detainees</font> in Najaf..."
            ],
            "text/plain": [
              "<IPython.core.display.HTML object>"
            ]
          },
          "metadata": {
            "tags": []
          }
        },
        {
          "output_type": "display_data",
          "data": {
            "text/html": [
              "<font color = blue>Business (100%)</font> --> <font color = red>World (59%)</font><br>Treasuries <font color = blue>Slip</font> as <font color = blue>Stocks</font> Rally  NEW <font color = blue>YORK</font> (Reuters) - <font color = blue>U</font>.<font color = blue>S</font>. Treasury debt <font color = blue>prices</font> slipped on  Monday, though traders characterized the move as profit-taking  rather than any fundamental change in sentiment.<br>Treasuries <font color = red>Michael</font> as <font color = red>attacked</font> Rally  NEW <font color = red>Palestinian</font> (Reuters) - <font color = red>5</font>.<font color = red>5</font>. Treasury debt <font color = red>services</font> slipped on  Monday, though traders characterized the move as profit-taking  rather than any fundamental change in sentiment."
            ],
            "text/plain": [
              "<IPython.core.display.HTML object>"
            ]
          },
          "metadata": {
            "tags": []
          }
        },
        {
          "output_type": "display_data",
          "data": {
            "text/html": [
              "<font color = blue>Business (100%)</font> --> <font color = red>World (69%)</font><br>Dollar Rises <font color = blue>Vs</font> <font color = blue>Euro</font> on Asset Flows Data  NEW <font color = blue>YORK</font> (<font color = blue>Reuters</font>) - The dollar extended gains against the  <font color = blue>euro</font> on Monday after a report on <font color = blue>flows</font> into U.<font color = blue>S</font>. assets showed  enough of a rise in foreign <font color = blue>investments</font> to offset the current  account gap for the month.<br>Dollar Rises <font color = red>that</font> <font color = red>Europe</font> on Asset Flows Data  NEW <font color = red>Palestinian</font> (<font color = red>fighting</font>) - The dollar extended gains against the  <font color = red>Yasser</font> on Monday after a report on <font color = red>extremists</font> into U.<font color = red>5</font>. assets showed  enough of a rise in foreign <font color = red>investigating</font> to offset the current  account gap for the month."
            ],
            "text/plain": [
              "<IPython.core.display.HTML object>"
            ]
          },
          "metadata": {
            "tags": []
          }
        },
        {
          "output_type": "display_data",
          "data": {
            "text/html": [
              "<font color = green>Sports (100%)</font> --> <font color = red>World (97%)</font><br><font color = green>Sutton</font> <font color = green>Adds</font> <font color = green>Haas</font>, <font color = green>Cink</font> to <font color = green>Ryder</font> <font color = green>Cup</font> <font color = green>Team</font>  <font color = green>MILWAUKEE</font> (<font color = green>Sports</font> Network) - U.<font color = green>S</font>. Ryder <font color = green>Cup</font> captain <font color = green>Hal</font>  <font color = green>Sutton</font> <font color = green>finalized</font> his <font color = green>team</font> on Monday when he <font color = green>announced</font> the  <font color = green>selections</font> of <font color = green>Jay</font> <font color = green>Haas</font> and <font color = green>Stewart</font> <font color = green>Cink</font> as his <font color = green>captain's</font> <font color = green>picks</font>.<br><font color = red>race</font> <font color = red>figures</font> <font color = red>warned</font>, <font color = red>that's</font> to <font color = red>murder</font> <font color = red>each</font> <font color = red>finally</font>  <font color = red>that</font> (<font color = red>chance</font> Network) - U.<font color = red>5</font>. Ryder <font color = red>each</font> captain <font color = red>regional</font>  <font color = red>race</font> <font color = red>streets</font> his <font color = red>figures</font> on Monday, when he <font color = red>promised</font> the  <font color = red>factions</font> of <font color = red>Ray</font> <font color = red>warned</font> and <font color = red>Stuart</font> <font color = red>that's</font> as his <font color = red>gives</font> <font color = red>terrorist</font>."
            ],
            "text/plain": [
              "<IPython.core.display.HTML object>"
            ]
          },
          "metadata": {
            "tags": []
          }
        },
        {
          "output_type": "display_data",
          "data": {
            "text/html": [
              "<font color = green>Sports (100%)</font> --> <font color = red>World (100%)</font><br><font color = green>Haas</font> and Cink Selected for <font color = green>Ryder</font> <font color = green>Cup</font> <font color = green>Team</font> <font color = green>Jay</font> <font color = green>Haas</font> <font color = green>joined</font> <font color = green>Stewart</font> Cink as the <font color = green>two</font> <font color = green>captain's</font> <font color = green>picks</font> for a U.S. <font color = green>team</font> that will <font color = green>try</font> to regain the <font color = green>cup</font> from <font color = green>Europe</font> next month.<br><font color = red>warned</font> and Cink Selected for <font color = red>murder</font> <font color = red>each</font> <font color = red>finally</font> <font color = red>Ray</font> <font color = red>warned</font> <font color = red>signed</font> <font color = red>Stuart</font> Cink as the <font color = red>Three</font> <font color = red>gives</font> <font color = red>terrorist</font> for a U.S. <font color = red>figures</font> that will <font color = red>proposals</font> to regain the <font color = red>continued</font> from <font color = red>convicted</font> next month."
            ],
            "text/plain": [
              "<IPython.core.display.HTML object>"
            ]
          },
          "metadata": {
            "tags": []
          }
        },
        {
          "output_type": "display_data",
          "data": {
            "text/html": [
              "<font color = green>Sports (100%)</font> --> <font color = blue>Business (51%)</font><br><font color = green>Natalie</font> Coughlin <font color = green>Wins</font> <font color = green>100M</font> Backstroke (<font color = green>AP</font>) <font color = green>AP</font> - <font color = green>American</font> <font color = green>Natalie</font> <font color = green>Coughlin</font> won <font color = green>Olympic</font> <font color = green>gold</font> in the 100-meter backstroke Monday <font color = green>night</font>. Coughlin, the only woman <font color = green>ever</font> to swim under <font color = green>1</font> <font color = green>minute</font> in the <font color = green>event</font>, <font color = green>finished</font> <font color = green>first</font> in <font color = green>1</font> <font color = green>minute</font>, <font color = green>0</font>.<font color = green>37</font> <font color = green>seconds</font>. <font color = green>Kirsty</font> <font color = green>Coventry</font> of <font color = green>Zimbabwe</font>, who <font color = green>swims</font> at <font color = green>Auburn</font> <font color = green>University</font> in Alabama, <font color = green>earned</font> the <font color = green>silver</font> in <font color = green>1</font>:<font color = green>00</font>.<font color = green>50</font>. <font color = green>Laure</font> <font color = green>Manaudou</font> of <font color = green>France</font> <font color = green>took</font> <font color = green>bronze</font> in <font color = green>1</font>:<font color = green>00</font>.<font color = green>88</font>.<br><font color = blue>strategic</font> Coughlin <font color = blue>sides</font> <font color = blue>100</font> Backstroke (<font color = blue>5</font>) <font color = blue>5</font> - <font color = blue>Americans</font> <font color = blue>strategic</font> <font color = blue>gives</font> won <font color = blue>since</font> <font color = blue>old</font> in the 100-meter backstroke Monday, <font color = blue>eight</font>. Coughlin, the only woman <font color = blue>never</font> to swim under <font color = blue>law</font> <font color = blue>defence</font> in the <font color = blue>prevent</font>, <font color = blue>decided</font> <font color = blue>Test</font> in <font color = blue>law</font> <font color = blue>defence</font>, <font color = blue>Mt</font>.<font color = blue>that</font> <font color = blue>second</font>. <font color = blue>second</font> <font color = blue>connection</font> of <font color = blue>proposals</font>, who <font color = blue>claims</font> at <font color = blue>Rural</font> <font color = blue>related</font> in Alabama, <font color = blue>stopped</font> the <font color = blue>lower</font> in <font color = blue>law</font>:<font color = blue>5</font>,<font color = blue>000</font>.<font color = blue>each</font>. <font color = blue>sure</font> <font color = blue>much</font> of <font color = blue>insurance</font> <font color = blue>eventually</font> <font color = blue>surrender</font> in <font color = blue>law</font>:<font color = blue>5</font>,<font color = blue>000</font>.<font color = blue>40</font>."
            ],
            "text/plain": [
              "<IPython.core.display.HTML object>"
            ]
          },
          "metadata": {
            "tags": []
          }
        },
        {
          "output_type": "display_data",
          "data": {
            "text/html": [
              "<font color = purple>Sci/tech (100%)</font> --> <font color = green>Sports (100%)</font><br><font color = purple>Oracle</font> Overhauls Sales-Side <font color = purple>Apps</font> for CRM <font color = purple>Suite</font> (NewsFactor) <font color = purple>NewsFactor</font> - Oracle (<font color = purple>Nasdaq</font>: ORCL) has revamped its sales-side CRM <font color = purple>applications</font> in version 11i.<font color = purple>10</font> of its sales, marketing, <font color = purple>partner</font> relationship management and <font color = purple>e-commerce</font> <font color = purple>application</font>.<br><font color = green>such</font> Overhauls Sales-Side <font color = green>tourists</font> for CRM <font color = green>White</font> (NewsFactor) <font color = green>cricket</font> - Oracle (<font color = green>state</font>.: ORCL) has revamped its sales-side CRM <font color = green>negotiations</font> in version 11i.<font color = green>innings</font> of its sales, marketing, <font color = green>violence</font> relationship management and <font color = green>region</font> <font color = green>traditional</font>."
            ],
            "text/plain": [
              "<IPython.core.display.HTML object>"
            ]
          },
          "metadata": {
            "tags": []
          }
        },
        {
          "output_type": "display_data",
          "data": {
            "text/html": [
              "<font color = red>World (100%)</font> --> <font color = red>[FAILED]</font><br>UN launches 210-million-dollar appeal for flood-hit Bangladesh (AFP) AFP - The United Nations launched an appeal here for 210 million dollars to help flood victims facing \"grave\" food shortages after two-thirds of Bangladesh was submerged, destroying crops and killing more than 700 people."
            ],
            "text/plain": [
              "<IPython.core.display.HTML object>"
            ]
          },
          "metadata": {
            "tags": []
          }
        },
        {
          "output_type": "display_data",
          "data": {
            "text/html": [
              "<font color = purple>Sci/tech (98%)</font> --> <font color = red>World (57%)</font><br>Indian state rolls out <font color = purple>wireless</font> <font color = purple>broadband</font> Government in South Indian state of Kerala sets up <font color = purple>wireless</font> kiosks as part of initiative to bridge <font color = purple>digital</font> divide.<br>Indian state rolls out <font color = red>remains</font> <font color = red>stand</font> Government in South Indian state of Kerala sets up <font color = red>remains</font> kiosks as part of initiative to bridge <font color = red>hospital</font> divide."
            ],
            "text/plain": [
              "<IPython.core.display.HTML object>"
            ]
          },
          "metadata": {
            "tags": []
          }
        },
        {
          "output_type": "display_data",
          "data": {
            "text/html": [
              "<font color = red>World (100%)</font> --> <font color = blue>Business (98%)</font><br>Hurricane Survivors Wait for Water, Gas PUNTA <font color = red>GORDA</font>, <font color = red>Fla</font>. - <font color = red>Urban</font> rescue teams, insurance adjusters and National Guard troops scattered across Florida Monday to help victims of Hurricane Charley and deliver water and other supplies to thousands of people <font color = red>left</font> <font color = red>homeless</font>...<br>Hurricane Survivors Wait for Water, Gas PUNTA <font color = blue>New</font>, <font color = blue>40</font>. - <font color = blue>ban</font> rescue teams, insurance adjusters and National Guard troops scattered across Florida Monday to help victims of Hurricane Charley and deliver water and other supplies to thousands of people <font color = blue>weekend</font>. <font color = blue>Anglican</font>..."
            ],
            "text/plain": [
              "<IPython.core.display.HTML object>"
            ]
          },
          "metadata": {
            "tags": []
          }
        },
        {
          "output_type": "display_data",
          "data": {
            "text/html": [
              "<font color = red>World (100%)</font> --> <font color = blue>Business (97%)</font><br>Jackson Squares Off With Prosecutor SANTA <font color = red>MARIA</font>, <font color = red>Calif</font>. - <font color = red>Fans</font> of <font color = red>Michael</font> Jackson erupted in cheers Monday as the pop <font color = red>star</font> emerged from a double-decker tour bus and went into court for a showdown with the prosecutor who has pursued him for years on child <font color = red>molestation</font> charges...<br>Jackson Squares Off With Prosecutor SANTA <font color = blue>26</font>, <font color = blue>industry</font>. - <font color = blue>Manufacturing</font> of <font color = blue>initial</font> Jackson erupted in cheers Monday as the pop <font color = blue>starting</font> emerged from a double-decker tour bus and went into court for a showdown with the prosecutor who has pursued him for years on child <font color = blue>statement</font>. charges..."
            ],
            "text/plain": [
              "<IPython.core.display.HTML object>"
            ]
          },
          "metadata": {
            "tags": []
          }
        },
        {
          "output_type": "display_data",
          "data": {
            "text/html": [
              "<font color = green>Sports (100%)</font> --> <font color = red>World (100%)</font><br><font color = green>Bobcats</font> <font color = green>Trade</font> <font color = green>Drobnjak</font> to Hawks for Pick (AP) <font color = green>AP</font> - <font color = green>The</font> Charlotte <font color = green>Bobcats</font> <font color = green>traded</font> center Predrag Drobnjak to the Atlanta <font color = green>Hawks</font> on Monday for a <font color = green>second</font> <font color = green>round</font> <font color = green>pick</font> in the 2005 <font color = green>NBA</font> draft.<br><font color = red>land</font> <font color = red>trade</font> <font color = red>much</font> to Hawks for Pick (AP) <font color = red>5</font> - <font color = red>Governor-General</font> Charlotte <font color = red>land</font> <font color = red>landed</font> center Predrag Drobnjak to the Atlanta <font color = red>militants</font>. on Monday for a <font color = red>coast</font> <font color = red>around</font> <font color = red>Monday</font> in the 2005 <font color = red>Palestinian</font> draft."
            ],
            "text/plain": [
              "<IPython.core.display.HTML object>"
            ]
          },
          "metadata": {
            "tags": []
          }
        },
        {
          "output_type": "display_data",
          "data": {
            "text/html": [
              "<font color = red>World (100%)</font> --> <font color = red>[FAILED]</font><br>Suspect charged in abduction, sexual assault of 11-year-old girl (Canadian Press) Canadian Press - LANGLEY, B.C. (CP) - Police have arrested a man in the kidnapping and sexual assault of an 11-year-old girl that frightened this suburban Vancouver community last week."
            ],
            "text/plain": [
              "<IPython.core.display.HTML object>"
            ]
          },
          "metadata": {
            "tags": []
          }
        },
        {
          "output_type": "display_data",
          "data": {
            "text/html": [
              "<font color = purple>Sci/tech (100%)</font> --> <font color = red>World (39%)</font><br>China's Red Flag <font color = purple>Linux</font> to focus on <font color = purple>enterprise</font> Red Flag Software <font color = purple>Co</font>., the company behind China's leading <font color = purple>Linux</font> client distribution, <font color = purple>plans</font> to <font color = purple>focus</font> more on its <font color = purple>server</font> <font color = purple>operating</font> <font color = purple>system</font> and enterprise <font color = purple>customers</font>, the <font color = purple>company's</font> <font color = purple>acting</font> <font color = purple>president</font> said.<br>China's Red Flag <font color = red>drug</font> to focus on <font color = red>intelligence</font> Red Flag Software <font color = red>Council</font>., the company behind China's leading <font color = red>drug</font> client distribution, <font color = red>plane</font> to <font color = red>groups</font> more on its <font color = red>lower</font> <font color = red>escalating</font> <font color = red>pace</font> and enterprise <font color = red>tailenders</font>, the <font color = red>company</font> <font color = red>Whiting</font> <font color = red>accident</font> said."
            ],
            "text/plain": [
              "<IPython.core.display.HTML object>"
            ]
          },
          "metadata": {
            "tags": []
          }
        },
        {
          "output_type": "display_data",
          "data": {
            "text/html": [
              "<font color = purple>Sci/tech (100%)</font> --> <font color = red>World (77%)</font><br>AOL <font color = purple>Properties</font> Sign Girafa For <font color = purple>Thumbnail</font> Search Images AOL <font color = purple>Properties</font> <font color = purple>Sign</font> <font color = purple>Girafa</font> For <font color = purple>Thumbnail</font> Search <font color = purple>Images</font>\\\\<font color = purple>Girafa</font>.com <font color = purple>Inc</font>. announced today that the <font color = purple>CompuServe</font>, <font color = purple>Netscape</font>, <font color = purple>AIM</font> and <font color = purple>ICQ</font> properties of America <font color = purple>Online</font>, Inc., have <font color = purple>signed</font> an agreement with <font color = purple>Girafa</font> to use Girafa's thumbnail <font color = purple>search</font> <font color = purple>images</font> as an <font color = purple>integrated</font> part of their <font color = purple>search</font> results.\\\\Using Girafa's <font color = purple>thumbnail</font> search service, <font color = purple>search</font> <font color = purple>users</font> can ...<br>AOL <font color = red>Jacques</font> Sign Girafa For <font color = red>parts</font> Search Images AOL <font color = red>Jacques</font> <font color = red>campaign</font> <font color = red>Arafat's</font> For <font color = red>parts</font> Search <font color = red>figures</font>\\\\<font color = red>Arafat's</font>.com <font color = red>India</font>.. announced today, that the <font color = red>conflict</font>, <font color = red>Perth</font>, <font color = red>the</font> and <font color = red>Palestinian</font> properties of America <font color = red>line</font>, Inc., have <font color = red>closed</font> an agreement with <font color = red>Arafat's</font> to use Girafa's thumbnail <font color = red>Senior</font> <font color = red>trees</font> as an <font color = red>contested</font> part of their <font color = red>Senior</font> results.\\\\Using Girafa's <font color = red>their</font> search service, <font color = red>Senior</font> <font color = red>powers</font> can ..."
            ],
            "text/plain": [
              "<IPython.core.display.HTML object>"
            ]
          },
          "metadata": {
            "tags": []
          }
        },
        {
          "output_type": "display_data",
          "data": {
            "text/html": [
              "<font color = purple>Sci/tech (100%)</font> --> <font color = red>World (61%)</font><br><font color = purple>Cassini</font> Spies <font color = purple>Two</font> Little <font color = purple>Saturn</font> <font color = purple>Moons</font> (AP) AP - <font color = purple>NASA's</font> <font color = purple>Cassini</font> spacecraft has spied two new little moons around satellite-rich Saturn, the <font color = purple>space</font> agency said Monday.<br><font color = red>security</font> Spies <font color = red>injured</font> Little <font color = red>detain</font> <font color = red>allegations</font> (AP) AP - <font color = red>respond</font> <font color = red>security</font> spacecraft has spied two new little moons around satellite-rich Saturn, the <font color = red>pace</font> agency said Monday."
            ],
            "text/plain": [
              "<IPython.core.display.HTML object>"
            ]
          },
          "metadata": {
            "tags": []
          }
        },
        {
          "output_type": "display_data",
          "data": {
            "text/html": [
              "<font color = red>World (100%)</font> --> <font color = blue>Business (91%)</font><br><font color = red>On</font> <font color = red>front</font> line of <font color = red>AIDS</font> in Russia An industrial city northwest of Moscow struggles as <font color = red>AIDS</font> hits a broader population.<br><font color = blue>stop</font> <font color = blue>chance</font> line of <font color = blue>5</font> in Russia An industrial city northwest of Moscow struggles as <font color = blue>5</font> hits a broader population."
            ],
            "text/plain": [
              "<IPython.core.display.HTML object>"
            ]
          },
          "metadata": {
            "tags": []
          }
        },
        {
          "output_type": "display_data",
          "data": {
            "text/html": [
              "<font color = purple>Sci/tech (100%)</font> --> <font color = red>World (78%)</font><br>Nobel Laureate Decries <font color = purple>Stem</font> <font color = purple>Cell</font> Limits (AP) AP - A Nobel laureate in medicine said Monday the Bush administration's limits on funding for embryonic <font color = purple>stem</font> <font color = purple>cell</font> research effectively have stopped the clock on American <font color = purple>scientists'</font> efforts to develop <font color = purple>treatments</font> for a host of chronic, debilitating <font color = purple>diseases</font>.<br>Nobel Laureate Decries <font color = red>state</font> <font color = red>fell</font> Limits (AP) AP - A Nobel laureate in medicine said, Monday the Bush administration's limits on funding for embryonic <font color = red>temporary</font> <font color = red>fell</font> research effectively have stopped the clock on American <font color = red>incident</font> efforts to develop <font color = red>sentence</font> for a host of chronic, debilitating <font color = red>services</font>."
            ],
            "text/plain": [
              "<IPython.core.display.HTML object>"
            ]
          },
          "metadata": {
            "tags": []
          }
        },
        {
          "output_type": "display_data",
          "data": {
            "text/html": [
              "<font color = green>Sports (100%)</font> --> <font color = red>World (100%)</font><br>Jury Can Hear of <font color = green>Kobe</font> Accuser's Sex Life (AP) AP - Prosecutors suffered another setback Monday in the <font color = green>Kobe</font> <font color = green>Bryant</font> sexual assault case, losing a last-ditch attempt to keep the <font color = green>NBA</font> star's lawyers from telling jurors about the alleged victim's sex life.<br>Jury Can Hear of <font color = red>be</font> Accuser's Sex Life (AP) AP - Prosecutors suffered another setback Monday in the <font color = red>be</font> <font color = red>grant</font> sexual assault case, losing a last-ditch attempt to keep the <font color = red>Palestinian</font> star's lawyers from telling jurors about the alleged victim's sex life."
            ],
            "text/plain": [
              "<IPython.core.display.HTML object>"
            ]
          },
          "metadata": {
            "tags": []
          }
        },
        {
          "output_type": "display_data",
          "data": {
            "text/html": [
              "<font color = red>World (100%)</font> --> <font color = purple>Sci/tech (57%)</font><br><font color = red>North</font> <font color = red>Korea</font> Talks Still On, <font color = red>China</font> <font color = red>Tells</font> Downer (Reuters) Reuters - <font color = red>China</font> has said no date has been set for\\<font color = red>working-level</font> talks on the <font color = red>North</font> <font color = red>Korean</font> <font color = red>nuclear</font> crisis and <font color = red>gave</font>\\no indication that the meeting has been <font color = red>canceled</font>, Australian\\Foreign Minister Alexander Downer said on Tuesday.<br><font color = purple>death</font> <font color = purple>5</font>,<font color = purple>000</font> Talks Still On, <font color = purple>absolutely</font> <font color = purple>Hollingworth</font> Downer (Reuters) Reuters - <font color = purple>absolutely</font> has said, no date has been set for\\<font color = purple>working</font> talks on the <font color = purple>death</font> <font color = purple>chairman</font> <font color = purple>possibility</font> crisis and <font color = purple>wave</font>\\no indication that the meeting has been <font color = purple>appeared</font>, Australian\\Foreign Minister, Alexander Downer said on Tuesday."
            ],
            "text/plain": [
              "<IPython.core.display.HTML object>"
            ]
          },
          "metadata": {
            "tags": []
          }
        },
        {
          "output_type": "display_data",
          "data": {
            "text/html": [
              "<font color = green>Sports (100%)</font> --> <font color = red>World (56%)</font><br><font color = green>Griffin</font> to Anchor <font color = green>D-Line</font> The <font color = green>Redskins</font> <font color = green>expect</font> huge <font color = green>things</font> from <font color = green>300-pound</font> Cornelius Griffin, who was <font color = green>signed</font> to aid the team's <font color = green>weakest</font> unit - the <font color = green>defensive</font> line.<br><font color = red>trade</font> to Anchor <font color = red>line</font> The <font color = red>Mountains</font> <font color = red>likely</font> huge <font color = red>nothing</font> from <font color = red>ground</font> Cornelius Griffin, who was <font color = red>closed</font> to aid the team's <font color = red>request</font> unit - the <font color = red>approached</font> line."
            ],
            "text/plain": [
              "<IPython.core.display.HTML object>"
            ]
          },
          "metadata": {
            "tags": []
          }
        },
        {
          "output_type": "display_data",
          "data": {
            "text/html": [
              "<font color = red>World (100%)</font> --> <font color = red>[FAILED]</font><br>Last American defector in North Korea agrees to tell story (AFP) AFP - The last surviving American defector to communist North Korea wants to tell his story to put a human face on the Stalinist state which he believes is unfairly vilified abroad, British film-makers said."
            ],
            "text/plain": [
              "<IPython.core.display.HTML object>"
            ]
          },
          "metadata": {
            "tags": []
          }
        },
        {
          "output_type": "display_data",
          "data": {
            "text/html": [
              "<font color = red>World (60%)</font> --> <font color = green>Sports (98%)</font><br><font color = red>Live</font>: Olympics day four Richard Faulds and Stephen Parry are going for gold for Great Britain on day four in Athens.<br><font color = green>give</font>: Olympics day four Richard Faulds and Stephen Parry are going for gold for Great Britain on day four in Athens."
            ],
            "text/plain": [
              "<IPython.core.display.HTML object>"
            ]
          },
          "metadata": {
            "tags": []
          }
        },
        {
          "output_type": "display_data",
          "data": {
            "text/html": [
              "<font color = red>World (100%)</font> --> <font color = blue>Business (71%)</font><br><font color = red>Kerry</font> Widens Lead in California, Poll <font color = red>Finds</font> (Reuters) Reuters - Democratic <font color = red>challenger</font> <font color = red>John</font> <font color = red>Kerry</font>\\has a commanding lead over President Bush in <font color = red>California</font> of 54\\percent to 38 percent among likely <font color = red>voters</font>, a <font color = red>poll</font> <font color = red>released</font> on\\Tuesday found.<br><font color = blue>carry</font> Widens Lead in California, Poll <font color = blue>winds</font> (Reuters) Reuters - Democratic <font color = blue>lower</font> <font color = blue>significant</font> <font color = blue>carry</font>\\has a commanding lead over President Bush in <font color = blue>largest</font> of 54\\percent to 38 percent among likely <font color = blue>manslaughter</font>, a <font color = blue>property</font> <font color = blue>entered</font> on\\Tuesday found."
            ],
            "text/plain": [
              "<IPython.core.display.HTML object>"
            ]
          },
          "metadata": {
            "tags": []
          }
        },
        {
          "output_type": "display_data",
          "data": {
            "text/html": [
              "<font color = green>Sports (100%)</font> --> <font color = blue>Business (84%)</font><br>Capacity <font color = green>Crowds</font> at Beach <font color = green>Volleyball</font> Rock the Joint  ATHENS (Reuters) - At the beach <font color = green>volleyball</font>, the 2004  <font color = green>Olympics</font> is a sell-out, foot-stomping success.<br>Capacity <font color = blue>stand</font> at Beach <font color = blue>case</font> Rock the Joint  ATHENS (Reuters) - At the beach <font color = blue>prior</font>, the 2004  <font color = blue>1</font> is a sell-out, foot-stomping success."
            ],
            "text/plain": [
              "<IPython.core.display.HTML object>"
            ]
          },
          "metadata": {
            "tags": []
          }
        },
        {
          "output_type": "display_data",
          "data": {
            "text/html": [
              "<font color = blue>Business (100%)</font> --> <font color = red>World (67%)</font><br>Dollar Near Recent Lows, <font color = blue>Awaits</font> ZEW/CPI  LONDON (Reuters) - The <font color = blue>dollar</font> held <font color = blue>steady</font> <font color = blue>near</font> this week's  four-week low against the euro on Tuesday with investors  awaiting a German investor confidence <font color = blue>survey</font> and U.S. consumer  inflation numbers to shed light on the direction.<br>Dollar Near Recent Lows, <font color = red>Indonesian</font> ZEW/CPI  LONDON (Reuters) - The <font color = red>dollars</font> held <font color = red>continued</font> <font color = red>manslaughter</font> this week's  four-week low against the euro on Tuesday with investors  awaiting a German investor confidence <font color = red>country</font> and U.S. consumer  inflation numbers to shed light on the direction."
            ],
            "text/plain": [
              "<IPython.core.display.HTML object>"
            ]
          },
          "metadata": {
            "tags": []
          }
        },
        {
          "output_type": "display_data",
          "data": {
            "text/html": [
              "<font color = purple>Sci/tech (100%)</font> --> <font color = gray>[SKIPPED]</font><br>Intel to delay product aimed for high-definition TVs SAN FRANCISCO -- In the latest of a series of product delays, Intel Corp. has postponed the launch of a video display chip it had previously planned to introduce by year end, putting off a showdown with Texas Instruments Inc. in the fast-growing market for high-definition television displays."
            ],
            "text/plain": [
              "<IPython.core.display.HTML object>"
            ]
          },
          "metadata": {
            "tags": []
          }
        },
        {
          "output_type": "display_data",
          "data": {
            "text/html": [
              "<font color = red>World (100%)</font> --> <font color = blue>Business (48%)</font><br>Venezuela vote keeps Chavez as president CARACAS -- Venezuelans voted resoundingly to keep firebrand <font color = red>populist</font> Hugo <font color = red>Chavez</font> as their president in a victory that drew noisy reactions yesterday from both sides in the <font color = red>streets</font>. International observers certified the results as clean and accurate.<br>Venezuela vote keeps Chavez as president CARACAS -- Venezuelans voted resoundingly to keep firebrand <font color = blue>list</font> Hugo <font color = blue>have</font> as their president in a victory that drew noisy reactions yesterday from both sides in the <font color = blue>final</font>. International observers certified the results as clean and accurate."
            ],
            "text/plain": [
              "<IPython.core.display.HTML object>"
            ]
          },
          "metadata": {
            "tags": []
          }
        },
        {
          "output_type": "display_data",
          "data": {
            "text/html": [
              "<font color = red>World (100%)</font> --> <font color = green>Sports (85%)</font><br>Jailing of <font color = red>HK</font> <font color = red>democrat</font> in China '<font color = red>politically</font> <font color = red>motivated'</font> (<font color = red>AFP</font>) <font color = red>AFP</font> - <font color = red>Hong</font> <font color = red>Kong</font> <font color = red>democrats</font> <font color = red>accused</font> China of <font color = red>jailing</font> <font color = red>one</font> of their <font color = red>members</font> on <font color = red>trumped-up</font> <font color = red>prostitution</font> charges in a <font color = red>bid</font> to disgrace a <font color = red>political</font> movement <font color = red>Beijing</font> has been feuding with for seven years.<br>Jailing of <font color = green>2</font> <font color = green>response</font> in China '<font color = green>calling</font> <font color = green>related</font> (<font color = green>bid</font>) <font color = green>bid</font> - <font color = green>receiving</font> <font color = green>losing</font> <font color = green>violence</font> <font color = green>decided</font> China of <font color = green>getting</font> <font color = green>winning</font> of their <font color = green>bombers</font> on <font color = green>issued</font> <font color = green>connection</font> charges in a <font color = green>When</font> to disgrace a <font color = green>capital</font> movement <font color = green>flying</font> has been feuding with for seven years."
            ],
            "text/plain": [
              "<IPython.core.display.HTML object>"
            ]
          },
          "metadata": {
            "tags": []
          }
        },
        {
          "output_type": "display_data",
          "data": {
            "text/html": [
              "<font color = blue>Business (100%)</font> --> <font color = red>World (99%)</font><br><font color = blue>Kmart</font> <font color = blue>Swings</font> to Profit in 2Q; <font color = blue>Stock</font> <font color = blue>Surges</font> (AP) AP - Shares of <font color = blue>Kmart</font> Holding <font color = blue>Corp</font>. <font color = blue>surged</font> 17 percent Monday after the discount <font color = blue>retailer</font> reported a profit for the second <font color = blue>quarter</font> and said chairman and majority owner <font color = blue>Edward</font> Lampert is now free to invest the company's  #36;2.6 billion in <font color = blue>surplus</font> cash.<br><font color = red>part</font> <font color = red>hearings</font> to Profit in 2Q; <font color = red>state's</font> <font color = red>sides</font> (AP) AP - Shares of <font color = red>part</font> Holding <font color = red>violent</font>. <font color = red>charged</font> 17 percent Monday after the discount <font color = red>River</font> reported a profit for the second <font color = red>disaster</font> and said chairman and majority owner <font color = red>Howard</font> Lampert is now free to invest the company's  #36;2.6 billion in <font color = red>responsibility</font> cash."
            ],
            "text/plain": [
              "<IPython.core.display.HTML object>"
            ]
          },
          "metadata": {
            "tags": []
          }
        },
        {
          "output_type": "display_data",
          "data": {
            "text/html": [
              "<font color = red>World (100%)</font> --> <font color = green>Sports (73%)</font><br><font color = red>Fischer's</font> Fiancee: Marriage Plans Genuine (AP) AP - Former <font color = red>chess</font> champion Bobby <font color = red>Fischer's</font> announcement thathe is engaged to a Japanese woman could win him sympathy among Japanese officials and help him avoid deportation to the United States, his fiancee and one of his supporters said Tuesday.<br><font color = green>actually</font> Fiancee: Marriage Plans Genuine (AP) AP - Former <font color = green>access</font> champion Bobby <font color = green>actually</font> announcement thathe is engaged to a Japanese woman could win him sympathy among Japanese officials and help him avoid deportation to the United States, his fiancee and one of his supporters said Tuesday."
            ],
            "text/plain": [
              "<IPython.core.display.HTML object>"
            ]
          },
          "metadata": {
            "tags": []
          }
        },
        {
          "output_type": "display_data",
          "data": {
            "text/html": [
              "<font color = red>World (100%)</font> --> <font color = green>Sports (100%)</font><br>U.S. Misses Cut in Olympic 100 Free ATHENS, <font color = red>Greece</font> - Top American sprinters Jason Lezak and Ian Crocker missed the cut in the Olympic 100-meter freestyle preliminaries Tuesday, a stunning blow for a country that had always done well in the event.    Pieter van den Hoogenband of the Netherlands and Australian Ian Thorpe advanced to the evening semifinal a day after dueling teenager Michael Phelps in the 200 freestyle, won by Thorpe...<br>U.S. Misses Cut in Olympic 100 Free ATHENS, <font color = green>entitlements</font> - Top American sprinters Jason Lezak and Ian Crocker missed the cut in the Olympic 100-meter freestyle preliminaries Tuesday, a stunning blow for a country that had always done well in the event.    Pieter van den Hoogenband of the Netherlands and Australian Ian Thorpe advanced to the evening semifinal a day after dueling teenager Michael Phelps in the 200 freestyle, won by Thorpe..."
            ],
            "text/plain": [
              "<IPython.core.display.HTML object>"
            ]
          },
          "metadata": {
            "tags": []
          }
        },
        {
          "output_type": "display_data",
          "data": {
            "text/html": [
              "<font color = purple>Sci/tech (100%)</font> --> <font color = blue>Business (93%)</font><br>Consumers Would Pay <font color = purple>In</font> <font color = purple>Phone</font> Proposal A proposal backed by a coalition of <font color = purple>telephone</font> carriers would cut billions of dollars in <font color = purple>fees</font> owed by <font color = purple>long-distance</font> companies to regional phone <font color = purple>giants</font> but would allow the regional companies to make up some of the difference by raising monthly phone bills for millions of <font color = purple>consumers</font>. &lt;<font color = purple>FONT</font> face=\"verdana,<font color = purple>MS</font> <font color = purple>Sans</font> Serif,arial,helvetica\" <font color = purple>size</font>=\"-2\"\\ color=\"#666666\"&gt;&lt;B&gt;-The Washington <font color = purple>Post</font>&lt;/B&gt;&lt;/<font color = purple>FONT</font>&gt;<br>Consumers Would Pay <font color = blue>tourists</font> <font color = blue>line</font> Proposal A proposal backed by a coalition of <font color = blue>Washington</font> carriers would cut billions of dollars in <font color = blue>Jacques</font> owed by <font color = blue>resistance</font> companies to regional phone <font color = blue>destroyed</font> but would allow the regional companies to make up some of the difference by raising monthly phone bills for millions of <font color = blue>rights</font>. &lt;... face=\"verdana,<font color = blue>2</font> <font color = blue>Manufacturing</font> Serif,arial,helvetica\" <font color = blue>captain</font>=\"-2\"\\ color=\"#666666\"&gt;&lt;B&gt;-The Washington <font color = blue>best</font>&lt;/B&gt;&lt;/...&gt;"
            ],
            "text/plain": [
              "<IPython.core.display.HTML object>"
            ]
          },
          "metadata": {
            "tags": []
          }
        },
        {
          "output_type": "display_data",
          "data": {
            "text/html": [
              "<font color = red>World (100%)</font> --> <font color = red>[FAILED]</font><br>U.S. Brokers Cease-fire in Western Afghanistan  KABUL (Reuters) - The United States has brokered a  cease-fire between a renegade Afghan militia leader and the  embattled governor of the western province of Herat,  Washington's envoy to Kabul said Tuesday."
            ],
            "text/plain": [
              "<IPython.core.display.HTML object>"
            ]
          },
          "metadata": {
            "tags": []
          }
        },
        {
          "output_type": "display_data",
          "data": {
            "text/html": [
              "<font color = blue>Business (91%)</font> --> <font color = purple>Sci/tech (76%)</font><br>Sneaky Credit Card <font color = blue>Tactics</font> Keep an eye on your credit card <font color = blue>issuers</font> -- they may be about to raise your rates.<br>Sneaky Credit Card <font color = purple>present</font> Keep an eye on your credit card <font color = purple>commanders</font> -- they may be about to raise your rates."
            ],
            "text/plain": [
              "<IPython.core.display.HTML object>"
            ]
          },
          "metadata": {
            "tags": []
          }
        },
        {
          "output_type": "display_data",
          "data": {
            "text/html": [
              "<font color = purple>Sci/tech (100%)</font> --> <font color = red>World (56%)</font><br><font color = purple>Intel</font> Delays Launch of <font color = purple>Projection</font> <font color = purple>TV</font> <font color = purple>Chip</font> In another product postponement, <font color = purple>semiconductor</font> giant <font color = purple>Intel</font> Corp. said it won't be <font color = purple>offering</font> a <font color = purple>chip</font> for <font color = purple>projection</font> TVs by the end of <font color = purple>2004</font> as it had <font color = purple>announced</font> <font color = purple>earlier</font> this <font color = purple>year</font>.<br><font color = red>intelligence</font> Delays Launch of <font color = red>explanation</font> <font color = red>Mt</font> <font color = red>Hospital</font> In another product postponement, <font color = red>Sector</font> giant <font color = red>intelligence</font> Corp. said it won't be <font color = red>waiting</font> a <font color = red>sentence</font> for <font color = red>connection</font> TVs by the end of <font color = red>200</font> as it had <font color = red>promised</font> <font color = red>Earlier</font> this <font color = red>years</font>,."
            ],
            "text/plain": [
              "<IPython.core.display.HTML object>"
            ]
          },
          "metadata": {
            "tags": []
          }
        },
        {
          "output_type": "display_data",
          "data": {
            "text/html": [
              "<font color = blue>Business (100%)</font> --> <font color = red>World (84%)</font><br>Fund pessimism grows NEW <font color = blue>YORK</font> (CNN/Money) - Money <font color = blue>managers</font> are growing more pessimistic about the economy, corporate profits and US stock market returns, according to a monthly survey by Merrill Lynch released Tuesday. <br>Fund pessimism grows NEW <font color = red>Palestinian</font> (CNN/Money) - Money <font color = red>commanders</font> are growing more pessimistic about the economy, corporate profits and US stock market returns, according to a monthly survey by Merrill Lynch released Tuesday. "
            ],
            "text/plain": [
              "<IPython.core.display.HTML object>"
            ]
          },
          "metadata": {
            "tags": []
          }
        },
        {
          "output_type": "display_data",
          "data": {
            "text/html": [
              "<font color = green>Sports (100%)</font> --> <font color = red>World (100%)</font><br>Kederis proclaims innocence <font color = green>Olympic</font> <font color = green>champion</font> Kostas Kederis today left hospital ahead of his date with <font color = green>IOC</font> <font color = green>inquisitors</font> claiming his <font color = green>innocence</font> and vowing:  quot;After the crucifixion comes the resurrection. quot; ...<br>Kederis proclaims innocence <font color = red>since</font> <font color = red>commission</font> Kostas Kederis today, left hospital ahead of his date with <font color = red>South</font> <font color = red>remaining</font> claiming his <font color = red>violence</font> and vowing:  quot;After the crucifixion comes the resurrection. quot; ..."
            ],
            "text/plain": [
              "<IPython.core.display.HTML object>"
            ]
          },
          "metadata": {
            "tags": []
          }
        },
        {
          "output_type": "display_data",
          "data": {
            "text/html": [
              "<font color = green>Sports (100%)</font> --> <font color = red>World (99%)</font><br><font color = green>Eriksson</font> doesn #<font color = green>39</font>;t <font color = green>feel</font> any extra <font color = green>pressure</font> following <font color = green>scandal</font> <font color = green>NEWCASTLE</font>, <font color = green>England</font> (AP) - <font color = green>England</font> <font color = green>coach</font> <font color = green>Sven-Goran</font> Eriksson said <font color = green>Tuesday</font> he isn #39;t under any extra <font color = green>pressure</font> in the aftermath of a <font color = green>scandal</font> that <font color = green>damaged</font> the <font color = green>Football</font> <font color = green>Association</font> #<font color = green>39</font>;s <font color = green>reputation</font>. <br><font color = red>regional</font> doesn #<font color = red>Mt</font>;t <font color = red>known</font> any extra <font color = red>proposals</font> following <font color = red>local</font> <font color = red>48</font>, <font color = red>land</font> (AP) - <font color = red>land</font> <font color = red>comes</font> <font color = red>ban</font> Eriksson said, <font color = red>remains</font> he isn #39;t under any extra <font color = red>proposals</font> in the aftermath of a <font color = red>local</font> that <font color = red>hundred</font> the <font color = red>fall</font> <font color = red>situation</font> #<font color = red>Mt</font>;s <font color = red>situation</font>. "
            ],
            "text/plain": [
              "<IPython.core.display.HTML object>"
            ]
          },
          "metadata": {
            "tags": []
          }
        },
        {
          "output_type": "display_data",
          "data": {
            "text/html": [
              "<font color = green>Sports (100%)</font> --> <font color = blue>Business (93%)</font><br><font color = green>Injured</font> <font color = green>Heskey</font> to miss <font color = green>England</font> <font color = green>friendly</font> NEWCASTLE, England (AP) - <font color = green>Striker</font> <font color = green>Emile</font> Heskey has pulled out of the <font color = green>England</font> <font color = green>squad</font> ahead of Wednesday #39;s <font color = green>friendly</font> against Ukraine because of a tight hamstring, the <font color = green>Football</font> Association said Tuesday. <br><font color = blue>aged</font> <font color = blue>absolutely</font> to miss <font color = blue>land</font> <font color = blue>markets</font> NEWCASTLE, England (AP) - <font color = blue>water</font> <font color = blue>details</font> Heskey has pulled out of the <font color = blue>land</font> <font color = blue>homes</font> ahead of Wednesday #39;s <font color = blue>markets</font> against Ukraine because of a tight hamstring, the <font color = blue>fall</font> Association said Tuesday. "
            ],
            "text/plain": [
              "<IPython.core.display.HTML object>"
            ]
          },
          "metadata": {
            "tags": []
          }
        },
        {
          "output_type": "display_data",
          "data": {
            "text/html": [
              "<font color = blue>Business (100%)</font> --> <font color = red>World (66%)</font><br><font color = blue>Staples</font> Profit Up, to Enter China Market  NEW <font color = blue>YORK</font> (Reuters) - Staples Inc. &lt;A HREF=\"http://www.<font color = blue>investor</font>.reuters.com/<font color = blue>FullQuote</font>.aspx?<font color = blue>ticker</font>=SPLS.O <font color = blue>target</font>=/<font color = blue>stocks</font>/quickinfo/<font color = blue>fullquote</font>\"&gt;SPLS.O&lt;/A&gt;, the top U.S.  office products retailer, on Tuesday reported a 39 percent <font color = blue>jump</font>  in quarterly profit, raised its full-year forecast and said it  plans to enter the fast-growing Chinese market, sending its  shares higher.<br><font color = red>Seles</font> Profit Up, to Enter China Market  NEW <font color = red>Palestinian</font> (Reuters) - Staples Inc. &lt;A HREF=\"http://www.<font color = red>final</font>.reuters.com/<font color = red>observers</font>.aspx?<font color = red>bowler</font>=SPLS.O <font color = red>political</font>=/<font color = red>territories</font>/quickinfo/<font color = red>crisis</font>\"&gt;SPLS.O&lt;/A&gt;, the top U.S.  office products retailer, on Tuesday reported a 39 percent \"<font color = red>It</font>  in quarterly profit, raised its full-year forecast and said it  plans to enter the fast-growing Chinese market, sending its  shares higher."
            ],
            "text/plain": [
              "<IPython.core.display.HTML object>"
            ]
          },
          "metadata": {
            "tags": []
          }
        },
        {
          "output_type": "display_data",
          "data": {
            "text/html": [
              "<font color = red>World (100%)</font> --> <font color = red>[FAILED]</font><br>Delegation Is Delayed Before Reaching Najaf AGHDAD, Iraq, Aug. 17  A delegation of Iraqis was delayed for security reasons today but still intended to visit Najaf to try to convince a rebellious Shiite cleric and his militia to evacuate a shrine in the holy city and end ..."
            ],
            "text/plain": [
              "<IPython.core.display.HTML object>"
            ]
          },
          "metadata": {
            "tags": []
          }
        },
        {
          "output_type": "display_data",
          "data": {
            "text/html": [
              "<font color = blue>Business (100%)</font> --> <font color = red>[FAILED]</font><br>Consumer Prices Down, Industry Output Up  WASHINGTON (Reuters) - U.S. consumer prices dropped in July  for the first time in eight months as a sharp run up in energy  costs reversed, the government said in a report that suggested  a slow rate of interest rate hikes is likely."
            ],
            "text/plain": [
              "<IPython.core.display.HTML object>"
            ]
          },
          "metadata": {
            "tags": []
          }
        },
        {
          "output_type": "display_data",
          "data": {
            "text/html": [
              "<font color = green>Sports (100%)</font> --> <font color = red>World (99%)</font><br><font color = green>Olympic</font> history for India, UAE An Indian army major shot his way to his country #39;s first ever individual <font color = green>Olympic</font> silver medal on Tuesday, while in the same event an member of <font color = green>Dubai</font> #39;s ruling family became the first ever <font color = green>medallist</font> from the United <font color = green>Arab</font> Emirates. <br><font color = red>since</font> history for India, UAE An Indian army major shot his way to his country #39;s first ever individual <font color = red>since</font> silver medal on Tuesday, while in the same event an member of <font color = red>24</font> #39;s ruling family became the first ever <font color = red>terms</font> from the United <font color = red>Arafat</font>, Emirates. "
            ],
            "text/plain": [
              "<IPython.core.display.HTML object>"
            ]
          },
          "metadata": {
            "tags": []
          }
        },
        {
          "output_type": "display_data",
          "data": {
            "text/html": [
              "<font color = blue>Business (100%)</font> --> <font color = red>World (64%)</font><br>Home <font color = blue>Depot</font> Likes High Oil Rising fuel prices, a bugbear for most of the retail sector, are helping Home <font color = blue>Depot</font> (HD:<font color = blue>NYSE</font> - news - research), the remodeling <font color = blue>giant</font> that reported a surge in <font color = blue>second-quarter</font> <font color = blue>earnings</font> Tuesday and guided the rest of the year higher. <br>Home <font color = red>fell</font> Likes High Oil Rising fuel prices, a bugbear for most of the retail sector, are helping Home <font color = red>fell</font> (HD:<font color = red>Israeli</font> - news - research), the remodeling <font color = red>sent</font> that reported a surge in <font color = red>yesterday</font> <font color = red>hearings</font> Tuesday and guided the rest of the year higher. "
            ],
            "text/plain": [
              "<IPython.core.display.HTML object>"
            ]
          },
          "metadata": {
            "tags": []
          }
        },
        {
          "output_type": "display_data",
          "data": {
            "text/html": [
              "<font color = purple>Sci/tech (100%)</font> --> <font color = red>World (73%)</font><br>China cracks down on  quot;phone sex quot; services BEIJING, <font color = purple>Aug</font>. 17 (Xinhuanet) -- China is carrying out a nationwide campaign to crack down on  quot;phone sex quot; services, paralleling another sweeping operation against <font color = purple>Internet</font> pornography, Minister of Information Industry Wang Xudong said here Tuesday. <br>China cracks down on  quot;phone sex quot; services BEIJING, <font color = red>Australians</font>. 17 (Xinhuanet) -- China is carrying out a nationwide campaign to crack down on  quot;phone sex quot; services, paralleling another sweeping operation against <font color = red>investigating</font> pornography, Minister of Information Industry Wang Xudong said here Tuesday. "
            ],
            "text/plain": [
              "<IPython.core.display.HTML object>"
            ]
          },
          "metadata": {
            "tags": []
          }
        },
        {
          "output_type": "display_data",
          "data": {
            "text/html": [
              "<font color = blue>Business (95%)</font> --> <font color = purple>Sci/tech (63%)</font><br>Surviving Biotech's Downturns <font color = blue>Charly</font> Travers offers advice on withstanding the volatility of the biotech sector.<br>Surviving Biotech's Downturns <font color = purple>clearly</font> Travers offers advice on withstanding the volatility of the biotech sector."
            ],
            "text/plain": [
              "<IPython.core.display.HTML object>"
            ]
          },
          "metadata": {
            "tags": []
          }
        },
        {
          "output_type": "display_data",
          "data": {
            "text/html": [
              "<font color = red>World (100%)</font> --> <font color = green>Sports (96%)</font><br><font color = red>Mr</font> Downer shoots his mouth off <font color = red>Just</font> what Alexander Downer was <font color = red>thinking</font> when he <font color = red>declared</font> on <font color = red>radio</font> last Friday that  <font color = red>quot</font>;they could fire a missile from <font color = red>North</font> <font color = red>Korea</font> to Sydney quot; is unclear. The <font color = red>provocative</font> remark, just days before his arrival yesterday on his second visit to the North Korean ...<br><font color = green>Reid</font> Downer shoots his mouth off <font color = green>Perth</font> what Alexander Downer was <font color = green>things</font> when he <font color = green>decided</font> on <font color = green>temporary</font> last Friday that  <font color = green>lot</font>;they could fire a missile from <font color = green>death</font> <font color = green>5</font>,<font color = green>000</font> to Sydney quot; is unclear. The <font color = green>eventually</font> remark, just days before his arrival yesterday on his second visit to the North Korean ..."
            ],
            "text/plain": [
              "<IPython.core.display.HTML object>"
            ]
          },
          "metadata": {
            "tags": []
          }
        },
        {
          "output_type": "display_data",
          "data": {
            "text/html": [
              "<font color = green>Sports (100%)</font> --> <font color = red>World (87%)</font><br>Edwards Banned from <font color = green>Games</font> - Source  ATHENS (Reuters) - World 100 <font color = green>meters</font> <font color = green>champion</font> Torri Edwards  will miss the Athens <font color = green>Olympics</font> after her appeal against a  two-year drugs <font color = green>ban</font> was dismissed on Tuesday, a source told  Reuters.<br>Edwards Banned from <font color = red>sides</font> - Source  ATHENS (Reuters) - World 100 <font color = red>manslaughter</font> <font color = red>commission</font> Torri Edwards  will miss the Athens <font color = red>1</font> after her appeal against a  two-year drugs <font color = red>Indonesian</font> was dismissed on Tuesday, a source told  Reuters."
            ],
            "text/plain": [
              "<IPython.core.display.HTML object>"
            ]
          },
          "metadata": {
            "tags": []
          }
        },
        {
          "output_type": "display_data",
          "data": {
            "text/html": [
              "<font color = red>World (100%)</font> --> <font color = blue>Business (79%)</font><br><font color = red>Stocks</font> <font color = red>Climb</font> on Drop in Consumer <font color = red>Prices</font> <font color = red>NEW</font> <font color = red>YORK</font> - Stocks <font color = red>rose</font> for a second straight session Tuesday as a drop in consumer prices allowed investors to put aside worries about inflation, at least for the short term.    <font color = red>With</font> gasoline prices falling to eight-month <font color = red>lows</font>, the Consumer Price Index registered a small drop in July, giving consumers a respite from <font color = red>soaring</font> energy prices...<br><font color = blue>attacked</font> <font color = blue>leave</font> on Drop in Consumer <font color = blue>sides</font> <font color = blue>5</font> <font color = blue>Palestinian</font> - Stocks <font color = blue>certainly</font> for a second straight session Tuesday as a drop in consumer prices allowed investors to put aside worries about inflation, at least for the short term.    <font color = blue>Perth</font> gasoline prices falling to eight-month <font color = blue>cancer</font>, the Consumer Price Index registered a small drop in July, giving consumers a respite from <font color = blue>hearing</font> energy prices..."
            ],
            "text/plain": [
              "<IPython.core.display.HTML object>"
            ]
          },
          "metadata": {
            "tags": []
          }
        },
        {
          "output_type": "display_data",
          "data": {
            "text/html": [
              "<font color = green>Sports (100%)</font> --> <font color = blue>Business (74%)</font><br><font color = green>Iliadis</font>, Tanimoto win <font color = green>judo</font> <font color = green>golds</font> Ilias Iliadis of <font color = green>Greece</font> thrilled the home <font color = green>crowd</font> <font color = green>Tuesday</font>, beating Roman Gontyuk of Ukraine to win the gold medal in the <font color = green>81-kilogram</font> class. <br><font color = blue>industry</font>, Tanimoto win \"<font color = blue>What</font> <font color = blue>normal</font> Ilias Iliadis of <font color = blue>entitlements</font> thrilled the home <font color = blue>remaining</font> <font color = blue>remains</font>, beating Roman Gontyuk of Ukraine to win the gold medal in the <font color = blue>fair</font> class. "
            ],
            "text/plain": [
              "<IPython.core.display.HTML object>"
            ]
          },
          "metadata": {
            "tags": []
          }
        },
        {
          "output_type": "display_data",
          "data": {
            "text/html": [
              "<font color = red>World (100%)</font> --> <font color = red>[FAILED]</font><br>Sudan vows to restore order to Darfur but calls for African peacekeepers (AFP) AFP - Sudan will take the lead in restoring order to its rebellious Darfur region but needs the support of African peacekeepers and humanitarian aid, Foreign Minister Mustafa Osman Ismail said."
            ],
            "text/plain": [
              "<IPython.core.display.HTML object>"
            ]
          },
          "metadata": {
            "tags": []
          }
        },
        {
          "output_type": "display_data",
          "data": {
            "text/html": [
              "<font color = purple>Sci/tech (100%)</font> --> <font color = red>World (99%)</font><br><font color = purple>TGn</font> <font color = purple>Sync</font> Proposes New WLAN <font color = purple>Standard</font> <font color = purple>The</font> battle over home entertainment <font color = purple>networking</font> is heating up as a coalition proposes yet another standard for the <font color = purple>IEEE</font> #39;s consideration. <br><font color = red>South</font> <font color = red>Sydney</font>. Proposes New WLAN <font color = red>rate</font> <font color = red>Governor-General</font> battle over home entertainment <font color = red>finding</font> is heating up as a coalition proposes yet another standard for the <font color = red>Mt</font> #39;s consideration. "
            ],
            "text/plain": [
              "<IPython.core.display.HTML object>"
            ]
          },
          "metadata": {
            "tags": []
          }
        },
        {
          "output_type": "display_data",
          "data": {
            "text/html": [
              "<font color = purple>Sci/tech (94%)</font> --> <font color = gray>[SKIPPED]</font><br>Yahoo! Ups Ante for Small Businesses Web giant Yahoo! is gambling that price cuts on its domain name registration and Web hosting products will make it more competitive with discounters in the space -- which means that small businesses looking to move online get a sweeter deal through ..."
            ],
            "text/plain": [
              "<IPython.core.display.HTML object>"
            ]
          },
          "metadata": {
            "tags": []
          }
        },
        {
          "output_type": "display_data",
          "data": {
            "text/html": [
              "<font color = blue>Business (96%)</font> --> <font color = gray>[SKIPPED]</font><br>IBM Buys Two Danish Services Firms IBM said Tuesday it has acquired a pair of Danish IT services firms as part of its effort to broaden its presence in Scandinavia. As a result of the moves, IBM will add about 3,700 IT staffers to its global head count. Financial terms of ..."
            ],
            "text/plain": [
              "<IPython.core.display.HTML object>"
            ]
          },
          "metadata": {
            "tags": []
          }
        },
        {
          "output_type": "display_data",
          "data": {
            "text/html": [
              "<font color = blue>Business (63%)</font> --> <font color = gray>[SKIPPED]</font><br>Motorola and HP in Linux tie-up Motorola plans to sell mobile phone network equipment that uses Linux-based code, a step forward in network gear makers #39; efforts to rally around a standard. "
            ],
            "text/plain": [
              "<IPython.core.display.HTML object>"
            ]
          },
          "metadata": {
            "tags": []
          }
        },
        {
          "output_type": "display_data",
          "data": {
            "text/html": [
              "<font color = purple>Sci/tech (100%)</font> --> <font color = blue>Business (70%)</font><br>Microsoft Pushes Off <font color = purple>SP2</font> <font color = purple>Release</font> Microsoft will delay the release of its SP2 update for another week to fix software glitches. <font color = purple>But</font> not everyone is quite so eager to install the SP2 update for Windows XP. In fact, many companies have demanded the ability to prevent their ...<br>Microsoft Pushes Off <font color = blue>26</font> <font color = blue>redundancy</font> Microsoft will delay the release of its SP2 update for another week to fix software glitches. <font color = blue>put</font> not everyone is quite so eager to install the SP2 update for Windows XP. In fact, many companies have demanded the ability to prevent their ..."
            ],
            "text/plain": [
              "<IPython.core.display.HTML object>"
            ]
          },
          "metadata": {
            "tags": []
          }
        },
        {
          "output_type": "display_data",
          "data": {
            "text/html": [
              "<font color = purple>Sci/tech (100%)</font> --> <font color = red>World (81%)</font><br><font color = purple>Cassini</font> Space <font color = purple>Probe</font> Spots Two New <font color = purple>Saturn</font> <font color = purple>Moons</font> (Reuters) <font color = purple>Reuters</font> - Two new moons were spotted around\\<font color = purple>Saturn</font> by the Cassini <font color = purple>space</font> <font color = purple>probe</font>, raising the total to 33\\moons for the ringed <font color = purple>planet</font>, <font color = purple>NASA</font> said on Monday.<br><font color = red>security</font> Space <font color = red>likely</font> Spots Two New <font color = red>detain</font> <font color = red>allegations</font> (Reuters) <font color = red>fighting</font> - Two new moons were spotted around\\<font color = red>detain</font> by the Cassini <font color = red>pace</font> <font color = red>probably</font>, raising the total to 33\\moons for the ringed <font color = red>plane</font>, <font color = red>States</font>. said on Monday."
            ],
            "text/plain": [
              "<IPython.core.display.HTML object>"
            ]
          },
          "metadata": {
            "tags": []
          }
        },
        {
          "output_type": "display_data",
          "data": {
            "text/html": [
              "<font color = green>Sports (100%)</font> --> <font color = red>World (95%)</font><br><font color = green>Buckeyes</font> have lots to replace but are brimming with optimism There are remarkable similarities between the <font color = green>2004</font> <font color = green>Ohio</font> State <font color = green>Buckeyes</font> and those that won the national championship just two years ago. <br><font color = red>sides</font> have lots to replace but are brimming with optimism \"There are remarkable similarities between the <font color = red>200</font> <font color = red>Musharraf</font> State <font color = red>sides</font> and those that won the national championship just two years ago. "
            ],
            "text/plain": [
              "<IPython.core.display.HTML object>"
            ]
          },
          "metadata": {
            "tags": []
          }
        },
        {
          "output_type": "display_data",
          "data": {
            "text/html": [
              "<font color = purple>Sci/tech (100%)</font> --> <font color = blue>Business (70%)</font><br>IBM adds <font color = purple>midrange</font> <font color = purple>server</font> to <font color = purple>eServer</font> lineup The new IBM Power5 eServer i5 550 also features higher performance and new virtualization capabilities that allow it to run multiple operating systems at once on separate <font color = purple>partitions</font>.<br>IBM adds <font color = blue>chance</font> <font color = blue>lower</font> to <font color = blue>airline</font> lineup The new IBM Power5 eServer i5 550 also features higher performance and new virtualization capabilities that allow it to run multiple operating systems at once on separate <font color = blue>allegations</font>."
            ],
            "text/plain": [
              "<IPython.core.display.HTML object>"
            ]
          },
          "metadata": {
            "tags": []
          }
        },
        {
          "output_type": "display_data",
          "data": {
            "text/html": [
              "<font color = purple>Sci/tech (100%)</font> --> <font color = green>Sports (99%)</font><br><font color = purple>iPod</font> Comparison Newsday #146;s Stephen Williams reports on seeing <font color = purple>Sony</font> #146;s NW-HD1 audio player in a store:  #147; #145;How #146;s it compare to the iPod? #146; I asked a salesman.  #145;Battery life is a lot longer, up to 30 hours, #146; he said.  #145;The LCD readout is kind of dim, #146; I said.   #146;Battery life is a lot longer, #146; he said.  #145;I understand it can #146;t play MP3 files, #146; I said.  #145;Battery life is a lot longer, #146; he said. #148; <font color = purple>Aug</font> 17<br><font color = green>about</font> Comparison Newsday #146;s Stephen Williams reports on seeing <font color = green>cricket</font> #146;s NW-HD1 audio player in a store:  #147; #145;How #146;s it compare to the iPod? #146; I asked a salesman.  #145;Battery life is a lot longer, up to 30 hours, #146; he said.  #145;The LCD readout is kind of dim, #146; I said.   #146;Battery life is a lot longer, #146; he said.  #145;I understand it can #146;t play MP3 files, #146; I said.  #145;Battery life is a lot longer, #146; he said. #148; <font color = green>Australians</font> 17"
            ],
            "text/plain": [
              "<IPython.core.display.HTML object>"
            ]
          },
          "metadata": {
            "tags": []
          }
        },
        {
          "output_type": "display_data",
          "data": {
            "text/html": [
              "<font color = blue>Business (100%)</font> --> <font color = green>Sports (98%)</font><br><font color = blue>Mills</font> <font color = blue>Grabs</font> \\$1B <font color = blue>Portfolio</font>; Taubman <font color = blue>Likely</font> to <font color = blue>Lose</font> <font color = blue>Contracts</font> <font color = blue>Mills</font> <font color = blue>Corp</font>. agreed to purchase a 50 percent <font color = blue>interest</font> in <font color = blue>nine</font> <font color = blue>malls</font> <font color = blue>owned</font> by <font color = blue>General</font> <font color = blue>Motors</font> <font color = blue>Asset</font> <font color = blue>Management</font> <font color = blue>Corp</font>. for just over \\$1 <font color = blue>billion</font>, creating a <font color = blue>new</font> <font color = blue>joint</font> <font color = blue>venture</font> between the <font color = blue>groups</font>. The <font color = blue>deal</font> will extend ...<br><font color = green>Meanwhile</font>, <font color = green>Dr</font> \\$1B <font color = green>efforts</font>; Taubman <font color = green>really</font> to <font color = green>process</font> <font color = green>Industrial</font> <font color = green>Meanwhile</font>, <font color = green>violent</font>. agreed to purchase a 50 percent <font color = green>rest</font> in <font color = green>parts</font> <font color = green>property</font> <font color = green>closed</font> by <font color = green>general</font> <font color = green>taken</font> <font color = green>set</font> <font color = green>document</font> <font color = green>violent</font>. for just over \\$1 <font color = green>connection</font>, creating a <font color = green>final</font> <font color = green>point</font> <font color = green>Adventure</font> between the <font color = green>group</font>. The <font color = green>criminal</font> will extend ..."
            ],
            "text/plain": [
              "<IPython.core.display.HTML object>"
            ]
          },
          "metadata": {
            "tags": []
          }
        },
        {
          "output_type": "error",
          "ename": "KeyboardInterrupt",
          "evalue": "ignored",
          "traceback": [
            "\u001b[0;31m---------------------------------------------------------------------------\u001b[0m",
            "\u001b[0;31mKeyboardInterrupt\u001b[0m                         Traceback (most recent call last)",
            "\u001b[0;32m<ipython-input-39-fe4668a7bbb5>\u001b[0m in \u001b[0;36m<module>\u001b[0;34m()\u001b[0m\n\u001b[1;32m      1\u001b[0m \u001b[0;32mfrom\u001b[0m \u001b[0mIPython\u001b[0m\u001b[0;34m.\u001b[0m\u001b[0mdisplay\u001b[0m \u001b[0;32mimport\u001b[0m \u001b[0mdisplay\u001b[0m\u001b[0;34m,\u001b[0m \u001b[0mHTML\u001b[0m\u001b[0;34m\u001b[0m\u001b[0;34m\u001b[0m\u001b[0m\n\u001b[0;32m----> 2\u001b[0;31m \u001b[0;32mfor\u001b[0m \u001b[0mid\u001b[0m\u001b[0;34m,\u001b[0m\u001b[0mresult\u001b[0m \u001b[0;32min\u001b[0m \u001b[0menumerate\u001b[0m\u001b[0;34m(\u001b[0m\u001b[0mresults_iterable\u001b[0m\u001b[0;34m)\u001b[0m\u001b[0;34m:\u001b[0m\u001b[0;34m\u001b[0m\u001b[0;34m\u001b[0m\u001b[0m\n\u001b[0m\u001b[1;32m      3\u001b[0m    \u001b[0mresult_html_str\u001b[0m \u001b[0;34m=\u001b[0m \u001b[0mresult\u001b[0m\u001b[0;34m.\u001b[0m\u001b[0m__str__\u001b[0m\u001b[0;34m(\u001b[0m\u001b[0mcolor_method\u001b[0m\u001b[0;34m=\u001b[0m\u001b[0;34m\"html\"\u001b[0m\u001b[0;34m)\u001b[0m\u001b[0;34m.\u001b[0m\u001b[0mreplace\u001b[0m\u001b[0;34m(\u001b[0m\u001b[0;34m\"\\n\\n\"\u001b[0m\u001b[0;34m,\u001b[0m \u001b[0;34m\"<br>\"\u001b[0m\u001b[0;34m)\u001b[0m\u001b[0;34m\u001b[0m\u001b[0;34m\u001b[0m\u001b[0m\n\u001b[1;32m      4\u001b[0m    \u001b[0mdisplay\u001b[0m\u001b[0;34m(\u001b[0m\u001b[0mHTML\u001b[0m\u001b[0;34m(\u001b[0m\u001b[0mresult_html_str\u001b[0m\u001b[0;34m)\u001b[0m\u001b[0;34m)\u001b[0m\u001b[0;34m\u001b[0m\u001b[0;34m\u001b[0m\u001b[0m\n",
            "\u001b[0;32m/usr/local/lib/python3.7/dist-packages/textattack/shared/attack.py\u001b[0m in \u001b[0;36mattack_dataset\u001b[0;34m(self, dataset, indices)\u001b[0m\n\u001b[1;32m    341\u001b[0m         \u001b[0mexamples\u001b[0m \u001b[0;34m=\u001b[0m \u001b[0mself\u001b[0m\u001b[0;34m.\u001b[0m\u001b[0m_get_examples_from_dataset\u001b[0m\u001b[0;34m(\u001b[0m\u001b[0mdataset\u001b[0m\u001b[0;34m,\u001b[0m \u001b[0mindices\u001b[0m\u001b[0;34m=\u001b[0m\u001b[0mindices\u001b[0m\u001b[0;34m)\u001b[0m\u001b[0;34m\u001b[0m\u001b[0;34m\u001b[0m\u001b[0m\n\u001b[1;32m    342\u001b[0m \u001b[0;34m\u001b[0m\u001b[0m\n\u001b[0;32m--> 343\u001b[0;31m         \u001b[0;32mfor\u001b[0m \u001b[0mgoal_function_result\u001b[0m \u001b[0;32min\u001b[0m \u001b[0mexamples\u001b[0m\u001b[0;34m:\u001b[0m\u001b[0;34m\u001b[0m\u001b[0;34m\u001b[0m\u001b[0m\n\u001b[0m\u001b[1;32m    344\u001b[0m             \u001b[0;32mif\u001b[0m \u001b[0mgoal_function_result\u001b[0m\u001b[0;34m.\u001b[0m\u001b[0mgoal_status\u001b[0m \u001b[0;34m==\u001b[0m \u001b[0mGoalFunctionResultStatus\u001b[0m\u001b[0;34m.\u001b[0m\u001b[0mSKIPPED\u001b[0m\u001b[0;34m:\u001b[0m\u001b[0;34m\u001b[0m\u001b[0;34m\u001b[0m\u001b[0m\n\u001b[1;32m    345\u001b[0m                 \u001b[0;32myield\u001b[0m \u001b[0mSkippedAttackResult\u001b[0m\u001b[0;34m(\u001b[0m\u001b[0mgoal_function_result\u001b[0m\u001b[0;34m)\u001b[0m\u001b[0;34m\u001b[0m\u001b[0;34m\u001b[0m\u001b[0m\n",
            "\u001b[0;32m/usr/local/lib/python3.7/dist-packages/textattack/shared/attack.py\u001b[0m in \u001b[0;36m_get_examples_from_dataset\u001b[0;34m(self, dataset, indices)\u001b[0m\n\u001b[1;32m    326\u001b[0m             )\n\u001b[1;32m    327\u001b[0m             goal_function_result, _ = self.goal_function.init_attack_example(\n\u001b[0;32m--> 328\u001b[0;31m                 \u001b[0mattacked_text\u001b[0m\u001b[0;34m,\u001b[0m \u001b[0mground_truth_output\u001b[0m\u001b[0;34m\u001b[0m\u001b[0;34m\u001b[0m\u001b[0m\n\u001b[0m\u001b[1;32m    329\u001b[0m             )\n\u001b[1;32m    330\u001b[0m             \u001b[0;32myield\u001b[0m \u001b[0mgoal_function_result\u001b[0m\u001b[0;34m\u001b[0m\u001b[0;34m\u001b[0m\u001b[0m\n",
            "\u001b[0;32m/usr/local/lib/python3.7/dist-packages/textattack/goal_functions/goal_function.py\u001b[0m in \u001b[0;36minit_attack_example\u001b[0;34m(self, attacked_text, ground_truth_output)\u001b[0m\n\u001b[1;32m     58\u001b[0m         \u001b[0mself\u001b[0m\u001b[0;34m.\u001b[0m\u001b[0mground_truth_output\u001b[0m \u001b[0;34m=\u001b[0m \u001b[0mground_truth_output\u001b[0m\u001b[0;34m\u001b[0m\u001b[0;34m\u001b[0m\u001b[0m\n\u001b[1;32m     59\u001b[0m         \u001b[0mself\u001b[0m\u001b[0;34m.\u001b[0m\u001b[0mnum_queries\u001b[0m \u001b[0;34m=\u001b[0m \u001b[0;36m0\u001b[0m\u001b[0;34m\u001b[0m\u001b[0;34m\u001b[0m\u001b[0m\n\u001b[0;32m---> 60\u001b[0;31m         \u001b[0mresult\u001b[0m\u001b[0;34m,\u001b[0m \u001b[0m_\u001b[0m \u001b[0;34m=\u001b[0m \u001b[0mself\u001b[0m\u001b[0;34m.\u001b[0m\u001b[0mget_result\u001b[0m\u001b[0;34m(\u001b[0m\u001b[0mattacked_text\u001b[0m\u001b[0;34m,\u001b[0m \u001b[0mcheck_skip\u001b[0m\u001b[0;34m=\u001b[0m\u001b[0;32mTrue\u001b[0m\u001b[0;34m)\u001b[0m\u001b[0;34m\u001b[0m\u001b[0;34m\u001b[0m\u001b[0m\n\u001b[0m\u001b[1;32m     61\u001b[0m         \u001b[0;32mreturn\u001b[0m \u001b[0mresult\u001b[0m\u001b[0;34m,\u001b[0m \u001b[0m_\u001b[0m\u001b[0;34m\u001b[0m\u001b[0;34m\u001b[0m\u001b[0m\n\u001b[1;32m     62\u001b[0m \u001b[0;34m\u001b[0m\u001b[0m\n",
            "\u001b[0;32m/usr/local/lib/python3.7/dist-packages/textattack/goal_functions/goal_function.py\u001b[0m in \u001b[0;36mget_result\u001b[0;34m(self, attacked_text, **kwargs)\u001b[0m\n\u001b[1;32m     69\u001b[0m         \"\"\"A helper method that queries ``self.get_results`` with a single\n\u001b[1;32m     70\u001b[0m         ``AttackedText`` object.\"\"\"\n\u001b[0;32m---> 71\u001b[0;31m         \u001b[0mresults\u001b[0m\u001b[0;34m,\u001b[0m \u001b[0msearch_over\u001b[0m \u001b[0;34m=\u001b[0m \u001b[0mself\u001b[0m\u001b[0;34m.\u001b[0m\u001b[0mget_results\u001b[0m\u001b[0;34m(\u001b[0m\u001b[0;34m[\u001b[0m\u001b[0mattacked_text\u001b[0m\u001b[0;34m]\u001b[0m\u001b[0;34m,\u001b[0m \u001b[0;34m**\u001b[0m\u001b[0mkwargs\u001b[0m\u001b[0;34m)\u001b[0m\u001b[0;34m\u001b[0m\u001b[0;34m\u001b[0m\u001b[0m\n\u001b[0m\u001b[1;32m     72\u001b[0m         \u001b[0mresult\u001b[0m \u001b[0;34m=\u001b[0m \u001b[0mresults\u001b[0m\u001b[0;34m[\u001b[0m\u001b[0;36m0\u001b[0m\u001b[0;34m]\u001b[0m \u001b[0;32mif\u001b[0m \u001b[0mlen\u001b[0m\u001b[0;34m(\u001b[0m\u001b[0mresults\u001b[0m\u001b[0;34m)\u001b[0m \u001b[0;32melse\u001b[0m \u001b[0;32mNone\u001b[0m\u001b[0;34m\u001b[0m\u001b[0;34m\u001b[0m\u001b[0m\n\u001b[1;32m     73\u001b[0m         \u001b[0;32mreturn\u001b[0m \u001b[0mresult\u001b[0m\u001b[0;34m,\u001b[0m \u001b[0msearch_over\u001b[0m\u001b[0;34m\u001b[0m\u001b[0;34m\u001b[0m\u001b[0m\n",
            "\u001b[0;32m/usr/local/lib/python3.7/dist-packages/textattack/goal_functions/goal_function.py\u001b[0m in \u001b[0;36mget_results\u001b[0;34m(self, attacked_text_list, check_skip)\u001b[0m\n\u001b[1;32m     86\u001b[0m             \u001b[0mattacked_text_list\u001b[0m \u001b[0;34m=\u001b[0m \u001b[0mattacked_text_list\u001b[0m\u001b[0;34m[\u001b[0m\u001b[0;34m:\u001b[0m\u001b[0mqueries_left\u001b[0m\u001b[0;34m]\u001b[0m\u001b[0;34m\u001b[0m\u001b[0;34m\u001b[0m\u001b[0m\n\u001b[1;32m     87\u001b[0m         \u001b[0mself\u001b[0m\u001b[0;34m.\u001b[0m\u001b[0mnum_queries\u001b[0m \u001b[0;34m+=\u001b[0m \u001b[0mlen\u001b[0m\u001b[0;34m(\u001b[0m\u001b[0mattacked_text_list\u001b[0m\u001b[0;34m)\u001b[0m\u001b[0;34m\u001b[0m\u001b[0;34m\u001b[0m\u001b[0m\n\u001b[0;32m---> 88\u001b[0;31m         \u001b[0mmodel_outputs\u001b[0m \u001b[0;34m=\u001b[0m \u001b[0mself\u001b[0m\u001b[0;34m.\u001b[0m\u001b[0m_call_model\u001b[0m\u001b[0;34m(\u001b[0m\u001b[0mattacked_text_list\u001b[0m\u001b[0;34m)\u001b[0m\u001b[0;34m\u001b[0m\u001b[0;34m\u001b[0m\u001b[0m\n\u001b[0m\u001b[1;32m     89\u001b[0m         \u001b[0;32mfor\u001b[0m \u001b[0mattacked_text\u001b[0m\u001b[0;34m,\u001b[0m \u001b[0mraw_output\u001b[0m \u001b[0;32min\u001b[0m \u001b[0mzip\u001b[0m\u001b[0;34m(\u001b[0m\u001b[0mattacked_text_list\u001b[0m\u001b[0;34m,\u001b[0m \u001b[0mmodel_outputs\u001b[0m\u001b[0;34m)\u001b[0m\u001b[0;34m:\u001b[0m\u001b[0;34m\u001b[0m\u001b[0;34m\u001b[0m\u001b[0m\n\u001b[1;32m     90\u001b[0m             \u001b[0mdisplayed_output\u001b[0m \u001b[0;34m=\u001b[0m \u001b[0mself\u001b[0m\u001b[0;34m.\u001b[0m\u001b[0m_get_displayed_output\u001b[0m\u001b[0;34m(\u001b[0m\u001b[0mraw_output\u001b[0m\u001b[0;34m)\u001b[0m\u001b[0;34m\u001b[0m\u001b[0;34m\u001b[0m\u001b[0m\n",
            "\u001b[0;32m/usr/local/lib/python3.7/dist-packages/textattack/goal_functions/goal_function.py\u001b[0m in \u001b[0;36m_call_model\u001b[0;34m(self, attacked_text_list)\u001b[0m\n\u001b[1;32m    183\u001b[0m                 \u001b[0;32mif\u001b[0m \u001b[0mtext\u001b[0m \u001b[0;32mnot\u001b[0m \u001b[0;32min\u001b[0m \u001b[0mself\u001b[0m\u001b[0;34m.\u001b[0m\u001b[0m_call_model_cache\u001b[0m\u001b[0;34m\u001b[0m\u001b[0;34m\u001b[0m\u001b[0m\n\u001b[1;32m    184\u001b[0m             ]\n\u001b[0;32m--> 185\u001b[0;31m             \u001b[0moutputs\u001b[0m \u001b[0;34m=\u001b[0m \u001b[0mself\u001b[0m\u001b[0;34m.\u001b[0m\u001b[0m_call_model_uncached\u001b[0m\u001b[0;34m(\u001b[0m\u001b[0muncached_list\u001b[0m\u001b[0;34m)\u001b[0m\u001b[0;34m\u001b[0m\u001b[0;34m\u001b[0m\u001b[0m\n\u001b[0m\u001b[1;32m    186\u001b[0m             \u001b[0;32mfor\u001b[0m \u001b[0mtext\u001b[0m\u001b[0;34m,\u001b[0m \u001b[0moutput\u001b[0m \u001b[0;32min\u001b[0m \u001b[0mzip\u001b[0m\u001b[0;34m(\u001b[0m\u001b[0muncached_list\u001b[0m\u001b[0;34m,\u001b[0m \u001b[0moutputs\u001b[0m\u001b[0;34m)\u001b[0m\u001b[0;34m:\u001b[0m\u001b[0;34m\u001b[0m\u001b[0;34m\u001b[0m\u001b[0m\n\u001b[1;32m    187\u001b[0m                 \u001b[0mself\u001b[0m\u001b[0;34m.\u001b[0m\u001b[0m_call_model_cache\u001b[0m\u001b[0;34m[\u001b[0m\u001b[0mtext\u001b[0m\u001b[0;34m]\u001b[0m \u001b[0;34m=\u001b[0m \u001b[0moutput\u001b[0m\u001b[0;34m\u001b[0m\u001b[0;34m\u001b[0m\u001b[0m\n",
            "\u001b[0;32m/usr/local/lib/python3.7/dist-packages/textattack/goal_functions/goal_function.py\u001b[0m in \u001b[0;36m_call_model_uncached\u001b[0;34m(self, attacked_text_list)\u001b[0m\n\u001b[1;32m    158\u001b[0m         ), f\"Got {len(outputs)} outputs for {len(inputs)} inputs\"\n\u001b[1;32m    159\u001b[0m \u001b[0;34m\u001b[0m\u001b[0m\n\u001b[0;32m--> 160\u001b[0;31m         \u001b[0;32mreturn\u001b[0m \u001b[0mself\u001b[0m\u001b[0;34m.\u001b[0m\u001b[0m_process_model_outputs\u001b[0m\u001b[0;34m(\u001b[0m\u001b[0mattacked_text_list\u001b[0m\u001b[0;34m,\u001b[0m \u001b[0moutputs\u001b[0m\u001b[0;34m)\u001b[0m\u001b[0;34m\u001b[0m\u001b[0;34m\u001b[0m\u001b[0m\n\u001b[0m\u001b[1;32m    161\u001b[0m \u001b[0;34m\u001b[0m\u001b[0m\n\u001b[1;32m    162\u001b[0m     \u001b[0;32mdef\u001b[0m \u001b[0m_call_model\u001b[0m\u001b[0;34m(\u001b[0m\u001b[0mself\u001b[0m\u001b[0;34m,\u001b[0m \u001b[0mattacked_text_list\u001b[0m\u001b[0;34m)\u001b[0m\u001b[0;34m:\u001b[0m\u001b[0;34m\u001b[0m\u001b[0;34m\u001b[0m\u001b[0m\n",
            "\u001b[0;32m/usr/local/lib/python3.7/dist-packages/textattack/goal_functions/classification/classification_goal_function.py\u001b[0m in \u001b[0;36m_process_model_outputs\u001b[0;34m(self, inputs, scores)\u001b[0m\n\u001b[1;32m     26\u001b[0m         \"\"\"\n\u001b[1;32m     27\u001b[0m         \u001b[0;31m# Automatically cast a list or ndarray of predictions to a tensor.\u001b[0m\u001b[0;34m\u001b[0m\u001b[0;34m\u001b[0m\u001b[0;34m\u001b[0m\u001b[0m\n\u001b[0;32m---> 28\u001b[0;31m         \u001b[0;32mif\u001b[0m \u001b[0misinstance\u001b[0m\u001b[0;34m(\u001b[0m\u001b[0mscores\u001b[0m\u001b[0;34m,\u001b[0m \u001b[0mlist\u001b[0m\u001b[0;34m)\u001b[0m \u001b[0;32mor\u001b[0m \u001b[0misinstance\u001b[0m\u001b[0;34m(\u001b[0m\u001b[0mscores\u001b[0m\u001b[0;34m,\u001b[0m \u001b[0mnp\u001b[0m\u001b[0;34m.\u001b[0m\u001b[0mndarray\u001b[0m\u001b[0;34m)\u001b[0m\u001b[0;34m:\u001b[0m\u001b[0;34m\u001b[0m\u001b[0;34m\u001b[0m\u001b[0m\n\u001b[0m\u001b[1;32m     29\u001b[0m             \u001b[0mscores\u001b[0m \u001b[0;34m=\u001b[0m \u001b[0mtorch\u001b[0m\u001b[0;34m.\u001b[0m\u001b[0mtensor\u001b[0m\u001b[0;34m(\u001b[0m\u001b[0mscores\u001b[0m\u001b[0;34m)\u001b[0m\u001b[0;34m\u001b[0m\u001b[0;34m\u001b[0m\u001b[0m\n\u001b[1;32m     30\u001b[0m \u001b[0;34m\u001b[0m\u001b[0m\n",
            "\u001b[0;31mKeyboardInterrupt\u001b[0m: "
          ]
        }
      ]
    },
    {
      "cell_type": "code",
      "metadata": {
        "colab": {
          "base_uri": "https://localhost:8080/",
          "height": 803
        },
        "id": "VXDuMPJBGtCP",
        "outputId": "ffeca49a-5964-4b75-ae60-5c2cd24d9b5a"
      },
      "source": [
        "import pandas as pd\n",
        "pd.options.display.max_colwidth = 480 # increase colum width so we can actually read the examples\n",
        "\n",
        "from IPython.core.display import display, HTML\n",
        "display(HTML(logger.df[['original_text', 'perturbed_text']].to_html(escape=False)))"
      ],
      "execution_count": null,
      "outputs": [
        {
          "output_type": "display_data",
          "data": {
            "text/html": [
              "<table border=\"1\" class=\"dataframe\">\n",
              "  <thead>\n",
              "    <tr style=\"text-align: right;\">\n",
              "      <th></th>\n",
              "      <th>original_text</th>\n",
              "      <th>perturbed_text</th>\n",
              "    </tr>\n",
              "  </thead>\n",
              "  <tbody>\n",
              "    <tr>\n",
              "      <th>0</th>\n",
              "      <td>Fears for <font color = blue>T</font> N <font color = blue>pension</font> after talks Unions <font color = blue>representing</font> workers at Turner   <font color = blue>Newall</font> say they are 'disappointed' after talks with stricken parent firm Federal Mogul.</td>\n",
              "      <td>Fears for <font color = green>Australia</font> N <font color = green>regional</font> after talks Unions <font color = green>currently</font> workers at Turner   <font color = green>cricket</font> say they are 'disappointed' after talks with stricken parent firm Federal Mogul.</td>\n",
              "    </tr>\n",
              "    <tr>\n",
              "      <th>1</th>\n",
              "      <td><font color = purple>The</font> Race is <font color = purple>On</font>: <font color = purple>Second</font> <font color = purple>Private</font> <font color = purple>Team</font> <font color = purple>Sets</font> <font color = purple>Launch</font> <font color = purple>Date</font> for <font color = purple>Human</font> <font color = purple>Spaceflight</font> (<font color = purple>SPACE</font>.com) <font color = purple>SPACE</font>.com - <font color = purple>TORONTO</font>, <font color = purple>Canada</font> -- A second\\<font color = purple>team</font> of <font color = purple>rocketeers</font> <font color = purple>competing</font> for the  #36;10 million Ansari <font color = purple>X</font> <font color = purple>Prize</font>, a <font color = purple>contest</font> for\\privately funded <font color = purple>suborbital</font> <font color = purple>space</font> <font color = purple>flight</font>, has officially <font color = purple>announced</font> the <font color = purple>first</font>\\<font color = purple>launch</font> date for its <font color = purple>manned</font> rocket.</td>\n",
              "      <td><font color = red>Governor-General</font> Race is <font color = red>stop</font>: <font color = red>today</font>. <font color = red>rate</font> <font color = red>finally</font> <font color = red>streets</font> <font color = red>students</font> <font color = red>rate</font> for <font color = red>human</font> <font color = red>flights</font> (<font color = red>1</font>.com) <font color = red>1</font>.com - <font color = red>5</font>, <font color = red>Al</font> -- A second\\<font color = red>figures</font> of <font color = red>tailenders</font> <font color = red>calling</font> for the  #36;10 million Ansari <font color = red>them</font> <font color = red>Foreign</font>, a <font color = red>request</font> for\\privately funded <font color = red>capital</font> <font color = red>pace</font> <font color = red>light</font>, has officially <font color = red>promised</font> the <font color = red>Test</font>\\<font color = red>strikes</font> date for its <font color = red>returned</font> rocket.</td>\n",
              "    </tr>\n",
              "    <tr>\n",
              "      <th>2</th>\n",
              "      <td><font color = purple>Ky</font>. Company Wins Grant to <font color = purple>Study</font> Peptides (<font color = purple>AP</font>) <font color = purple>AP</font> - A company founded by a chemistry researcher at the University of Louisville won a grant to develop a method of producing better peptides, which are short chains of amino acids, the building blocks of proteins.</td>\n",
              "      <td><font color = blue>5</font>. Company Wins Grant to <font color = blue>state</font> Peptides (<font color = blue>5</font>) <font color = blue>5</font> - A company founded by a chemistry researcher at the University of Louisville won a grant to develop a method of producing better peptides, which are short chains of amino acids, the building blocks of proteins.</td>\n",
              "    </tr>\n",
              "    <tr>\n",
              "      <th>3</th>\n",
              "      <td><font color = purple>Prediction</font> Unit Helps Forecast <font color = purple>Wildfires</font> (AP) AP - It's barely <font color = purple>dawn</font> when Mike Fitzpatrick starts his shift with a blur of colorful maps, figures and endless charts, but already he knows what the day will bring. Lightning will strike in places he expects. Winds will pick up, moist places will dry and flames will roar.</td>\n",
              "      <td><font color = red>organisation</font> Unit Helps Forecast <font color = red>figures</font> (AP) AP - It's barely <font color = red>hearings</font> when Mike Fitzpatrick starts his shift with a blur of colorful maps, figures and endless charts, but already he knows what the day will bring. Lightning will strike in places he expects. Winds will pick up, moist places will dry and flames will roar.</td>\n",
              "    </tr>\n",
              "    <tr>\n",
              "      <th>4</th>\n",
              "      <td>Calif. Aims to <font color = purple>Limit</font> Farm-Related <font color = purple>Smog</font> (AP) AP - Southern California's <font color = purple>smog-fighting</font> agency went after <font color = purple>emissions</font> of the bovine variety Friday, adopting the nation's first rules to reduce air pollution from dairy cow manure.</td>\n",
              "      <td>Calif. Aims to <font color = green>Powell</font> Farm-Related <font color = green>Mt</font> (AP) AP - Southern California's <font color = green>fighting</font> agency went after <font color = green>Commissioner</font> of the bovine variety Friday, adopting the nation's first rules to reduce air pollution from dairy cow manure.</td>\n",
              "    </tr>\n",
              "    <tr>\n",
              "      <th>5</th>\n",
              "      <td>Open <font color = purple>Letter</font> Against British <font color = purple>Copyright</font> Indoctrination in <font color = purple>Schools</font> The <font color = purple>British</font> Department for Education and Skills (DfES) recently launched a \"<font color = purple>Music</font> Manifesto\" campaign, with the ostensible intention of educating the next generation of British musicians. Unfortunately, they also teamed up with the music industry (EMI, and various artists) to make this popular. EMI has <font color = purple>apparently</font> negotiated their end well, so that children in our schools will now be indoctrinated about the <font color = purple>illegality</font> of <font color = purple>downloading</font> <font color = purple>music</font>.<font color = purple>The</font> ignorance and audacity of this got to me a <font color = purple>little</font>, so I wrote an open letter to the DfES about it. Unfortunately, it's pedantic, as I suppose you have to be when writing to <font color = purple>goverment</font> representatives. But I hope you find it useful, and perhaps feel inspired to do something similar, if or when the same thing has happened in your area.</td>\n",
              "      <td>Open <font color = blue>disaster</font> Against British <font color = blue>light</font> Indoctrination in <font color = blue>holding</font> The <font color = blue>Secretary</font> Department for Education and Skills (DfES) recently launched a \"<font color = blue>Christmas</font> Manifesto\" campaign, with the ostensible intention of educating the next generation of British musicians. Unfortunately, they also teamed up with the music industry. (EMI, and various artists) to make this popular. EMI has <font color = blue>real</font> negotiated their end well, so that children in our schools will now be indoctrinated about the <font color = blue>political</font> of <font color = blue>searching</font> <font color = blue>responsibility</font>.<font color = blue>Governor-General</font> ignorance and audacity of this got to me a <font color = blue>property</font>, so I wrote an open letter to the DfES about it. Unfortunately, it's pedantic, as I suppose you have to be when writing to <font color = blue>payment</font> representatives. But I hope you find it useful, and perhaps feel inspired to do something similar, if or when the same thing has happened in your area.</td>\n",
              "    </tr>\n",
              "    <tr>\n",
              "      <th>6</th>\n",
              "      <td><font color = purple>E-mail</font> scam targets police chief Wiltshire Police warns about \"<font color = purple>phishing</font>\" after its fraud squad chief was targeted.</td>\n",
              "      <td><font color = red>gives</font> scam targets police chief Wiltshire Police warns about \"<font color = red>coming</font>\" after its fraud squad chief was targeted.</td>\n",
              "    </tr>\n",
              "    <tr>\n",
              "      <th>7</th>\n",
              "      <td><font color = purple>Card</font> fraud unit nets 36,000 cards In its first two years, the UK's dedicated card fraud unit, has recovered 36,000 stolen cards and 171 arrests - and estimates it saved 65m.</td>\n",
              "      <td><font color = red>Howard</font> fraud unit nets 36,000 cards In its first two years, the UK's dedicated card fraud unit, has recovered 36,000 stolen cards and 171 arrests - and estimates it saved 65m.</td>\n",
              "    </tr>\n",
              "    <tr>\n",
              "      <th>8</th>\n",
              "      <td>Group to Propose New <font color = purple>High-Speed</font> <font color = purple>Wireless</font> <font color = purple>Format</font>  LOS ANGELES (Reuters) - A group of technology companies  <font color = purple>including</font> Texas Instruments <font color = purple>Inc</font>. &lt;TXN.N&gt;, <font color = purple>STMicroelectronics</font>  &lt;STM.PA&gt; and Broadcom Corp. &lt;BRCM.O&gt;, on Thursday said they  will propose a new <font color = purple>wireless</font> <font color = purple>networking</font> standard up to 10 times  the speed of the current generation.</td>\n",
              "      <td>Group to Propose New <font color = blue>locked</font> <font color = blue>singles</font> <font color = blue>tell</font>  LOS ANGELES (Reuters) - A group of technology companies  <font color = blue>following</font> Texas Instruments <font color = blue>India</font>.. &lt;TXN.N&gt;, <font color = blue>advice</font>  &lt;STM.PA&gt; and Broadcom Corp. &lt;BRCM.O&gt;, on Thursday said they  will propose a new <font color = blue>remains</font> <font color = blue>finding</font> standard up to 10 times  the speed of the current generation.</td>\n",
              "    </tr>\n",
              "    <tr>\n",
              "      <th>9</th>\n",
              "      <td><font color = purple>Apple</font> Launches <font color = purple>Graphics</font> <font color = purple>Software</font>, <font color = purple>Video</font> Bundle  LOS ANGELES (Reuters) - <font color = purple>Apple</font> <font color = purple>Computer</font> <font color = purple>Inc</font>.&lt;<font color = purple>AAPL</font>.O&<font color = purple>gt</font>; on  Tuesday <font color = purple>began</font> shipping a new program designed to <font color = purple>let</font> <font color = purple>users</font>  <font color = purple>create</font> <font color = purple>real-time</font> motion <font color = purple>graphics</font> and <font color = purple>unveiled</font> a discount  <font color = purple>video-editing</font> software <font color = purple>bundle</font> featuring its flagship <font color = purple>Final</font> Cut  <font color = purple>Pro</font> software.</td>\n",
              "      <td><font color = blue>threatening</font> Launches <font color = blue>visit</font> <font color = blue>prepare</font>, <font color = blue>jets</font> Bundle  LOS ANGELES (Reuters) - <font color = blue>threatening</font> <font color = blue>enter</font> <font color = blue>India</font>..&lt;<font color = blue>that</font>.O&<font color = blue>said</font>.; on  Tuesday <font color = blue>continued</font> shipping a new program designed to <font color = blue>currently</font> <font color = blue>powers</font>  <font color = blue>private</font> <font color = blue>time</font> motion <font color = blue>payment</font> and <font color = blue>Ahmed</font> a discount  <font color = blue>Whiting</font> software <font color = blue>receiving</font> featuring its flagship <font color = blue>final</font> Cut  <font color = blue>President</font> software.</td>\n",
              "    </tr>\n",
              "  </tbody>\n",
              "</table>"
            ],
            "text/plain": [
              "<IPython.core.display.HTML object>"
            ]
          },
          "metadata": {
            "tags": []
          }
        }
      ]
    },
    {
      "cell_type": "code",
      "metadata": {
        "id": "u_mWtTPYZfgN",
        "colab": {
          "base_uri": "https://localhost:8080/"
        },
        "outputId": "40a7a3c8-beaa-4a5b-dbd3-821d34fd99d1"
      },
      "source": [
        "!textattack attack --recipe bae --model bert-base-uncased-ag-news --num-examples 10"
      ],
      "execution_count": null,
      "outputs": [
        {
          "output_type": "stream",
          "text": [
            "Downloading: 3.93kB [00:00, 4.54MB/s]       \n",
            "Downloading: 2.49kB [00:00, 3.35MB/s]       \n",
            "Using custom data configuration default\n",
            "Downloading and preparing dataset ag_news/default (download: 29.88 MiB, generated: 30.23 MiB, post-processed: Unknown size, total: 60.10 MiB) to /root/.cache/huggingface/datasets/ag_news/default/0.0.0/0eeeaaa5fb6dffd81458e293dfea1adba2881ffcbdc3fb56baeb5a892566c29a...\n",
            "Downloading: 29.5MB [00:00, 68.6MB/s]\n",
            "Downloading: 1.86MB [00:00, 27.6MB/s]      \n",
            "Dataset ag_news downloaded and prepared to /root/.cache/huggingface/datasets/ag_news/default/0.0.0/0eeeaaa5fb6dffd81458e293dfea1adba2881ffcbdc3fb56baeb5a892566c29a. Subsequent calls will reuse this data.\n",
            "\u001b[34;1mtextattack\u001b[0m: Loading \u001b[94mdatasets\u001b[0m dataset \u001b[94mag_news\u001b[0m, split \u001b[94mtest\u001b[0m.\n",
            "\u001b[34;1mtextattack\u001b[0m: Loading pre-trained model from HuggingFace model repository: \u001b[94mtextattack/bert-base-uncased-ag-news\u001b[0m\n",
            "Downloading: 100% 706/706 [00:00<00:00, 644kB/s]\n",
            "Downloading: 100% 438M/438M [00:11<00:00, 38.6MB/s]\n",
            "Downloading: 100% 232k/232k [00:00<00:00, 924kB/s]\n",
            "Downloading: 100% 112/112 [00:00<00:00, 90.2kB/s]\n",
            "Downloading: 100% 48.0/48.0 [00:00<00:00, 36.3kB/s]\n",
            "Downloading: 100% 570/570 [00:00<00:00, 607kB/s]\n",
            "Downloading: 100% 440M/440M [00:06<00:00, 66.1MB/s]\n",
            "Some weights of the model checkpoint at bert-base-uncased were not used when initializing BertForMaskedLM: ['cls.seq_relationship.weight', 'cls.seq_relationship.bias']\n",
            "- This IS expected if you are initializing BertForMaskedLM from the checkpoint of a model trained on another task or with another architecture (e.g. initializing a BertForSequenceClassification model from a BertForPreTraining model).\n",
            "- This IS NOT expected if you are initializing BertForMaskedLM from the checkpoint of a model that you expect to be exactly identical (initializing a BertForSequenceClassification model from a BertForSequenceClassification model).\n",
            "Downloading: 100% 232k/232k [00:00<00:00, 923kB/s]\n",
            "Downloading: 100% 466k/466k [00:00<00:00, 1.49MB/s]\n",
            "Downloading: 100% 28.0/28.0 [00:00<00:00, 29.8kB/s]\n",
            "Using /tmp/tfhub_modules to cache modules.\n",
            "Downloading TF-Hub Module 'https://tfhub.dev/google/universal-sentence-encoder/4'.\n",
            "Downloaded https://tfhub.dev/google/universal-sentence-encoder/4, Total size: 987.47MB\n",
            "Downloaded TF-Hub Module 'https://tfhub.dev/google/universal-sentence-encoder/4'.\n",
            "\u001b[34;1mtextattack\u001b[0m: Unknown if model of class <class 'transformers.models.bert.modeling_bert.BertForSequenceClassification'> compatible with goal function <class 'textattack.goal_functions.classification.untargeted_classification.UntargetedClassification'>.\n",
            "Attack(\n",
            "  (search_method): GreedyWordSwapWIR(\n",
            "    (wir_method):  delete\n",
            "  )\n",
            "  (goal_function):  UntargetedClassification\n",
            "  (transformation):  WordSwapMaskedLM(\n",
            "    (method):  bae\n",
            "    (masked_lm_name):  BertForMaskedLM\n",
            "    (max_length):  512\n",
            "    (max_candidates):  50\n",
            "    (min_confidence):  0.0\n",
            "  )\n",
            "  (constraints): \n",
            "    (0): PartOfSpeech(\n",
            "        (tagger_type):  nltk\n",
            "        (tagset):  universal\n",
            "        (allow_verb_noun_swap):  True\n",
            "        (compare_against_original):  True\n",
            "      )\n",
            "    (1): UniversalSentenceEncoder(\n",
            "        (metric):  cosine\n",
            "        (threshold):  0.936338023\n",
            "        (window_size):  15\n",
            "        (skip_text_shorter_than_window):  True\n",
            "        (compare_against_original):  True\n",
            "      )\n",
            "    (2): RepeatModification\n",
            "    (3): StopwordModification\n",
            "  (is_black_box):  True\n",
            ") \n",
            "\n",
            "\u001b[34;1mtextattack\u001b[0m: Load time: 64.59423613548279s\n",
            "  0% 0/10 [00:00<?, ?it/s]--------------------------------------------- Result 1 ---------------------------------------------\n",
            "\u001b[91mWorld (91%)\u001b[0m --> \u001b[37m[SKIPPED]\u001b[0m\n",
            "\n",
            "Lazard adversaries edge closer to a deal Bruce Wasserstein, head of Lazard, could reach an agreement as early as this week with Michel David-Weill, the chairman, extending the deadline for \n",
            "\n",
            "\n",
            "[Succeeded / Failed / Total] 0 / 0 / 1:  10% 1/10 [00:00<00:02,  3.38it/s]--------------------------------------------- Result 2 ---------------------------------------------\n",
            "\u001b[35mSci/tech (99%)\u001b[0m --> \u001b[91m[FAILED]\u001b[0m\n",
            "\n",
            "European spacecraft prepares to orbit Moon Europes first lunar spacecraft is set to go into orbit around the Moon on Monday. SMART-1 has already reached the gateway to the Moon, the region where its gravity starts to dominate that of the Earth.\n",
            "\n",
            "\n",
            "[Succeeded / Failed / Total] 0 / 1 / 2:  20% 2/10 [00:37<02:29, 18.70s/it]--------------------------------------------- Result 3 ---------------------------------------------\n",
            "\u001b[94mBusiness (100%)\u001b[0m --> \u001b[91m[FAILED]\u001b[0m\n",
            "\n",
            "Fed lifts rates a further quarter point By Andrew Balls in Washington and Jennifer Hughes in New York. The US Federal Reserve on Tuesday raised interest rates by a quarter point to 2.25 per cent and signalled there had been no change in its assessment of economic conditions.\n",
            "\n",
            "\n",
            "[Succeeded / Failed / Total] 0 / 2 / 3:  30% 3/10 [01:07<02:37, 22.51s/it]--------------------------------------------- Result 4 ---------------------------------------------\n",
            "\u001b[92mSports (100%)\u001b[0m --> \u001b[91m[FAILED]\u001b[0m\n",
            "\n",
            "Pepperdine 80, Fairleigh Dickinson 79 Glen McGowan had 22 points and little-used reserve Chase Griffin came off the bench to make two clutch free throws to help Pepperdine hold off Fairleigh Dickinson 80-79 Friday for fifth place in the BCA Invitational.\n",
            "\n",
            "\n",
            "[Succeeded / Failed / Total] 0 / 3 / 4:  40% 4/10 [01:48<02:43, 27.25s/it]--------------------------------------------- Result 5 ---------------------------------------------\n",
            "\u001b[91mWorld (100%)\u001b[0m --> \u001b[91m[FAILED]\u001b[0m\n",
            "\n",
            "Indian-Americans hail Manmohan speech New York, Sep 27 (UNI) Members of the Indian-American community who attended a public meeting addressed by Prime Minister Manmohan Singh welcomed his speech and expressed confidence that India would soon be a developed economy.\n",
            "\n",
            "\n",
            "[Succeeded / Failed / Total] 0 / 4 / 5:  50% 5/10 [02:15<02:15, 27.02s/it]--------------------------------------------- Result 6 ---------------------------------------------\n",
            "\u001b[35mSci/tech (95%)\u001b[0m --> \u001b[94mBusiness (96%)\u001b[0m\n",
            "\n",
            "Unisys to lay off 1,400 workers Unisys Corp. plans to cut 1,400 jobs, primarily in general and administrative areas, and consolidate its office space worldwide, it announced Wednesday. The cuts represent 3.8 percent of the \u001b[35mcompany's\u001b[0m staff of 37,000.\n",
            "\n",
            "Unisys to lay off 1,400 workers Unisys Corp. plans to cut 1,400 jobs, primarily in general and administrative areas, and consolidate its office space worldwide, it announced Wednesday. The cuts represent 3.8 percent of the \u001b[94ming\u001b[0m staff of 37,000.\n",
            "\n",
            "\n",
            "[Succeeded / Failed / Total] 1 / 4 / 6:  60% 6/10 [02:18<01:32, 23.06s/it]--------------------------------------------- Result 7 ---------------------------------------------\n",
            "\u001b[94mBusiness (100%)\u001b[0m --> \u001b[91m[FAILED]\u001b[0m\n",
            "\n",
            "Dollar Mired Near Lows Before Jobs Data  LONDON (Reuters) - The dollar teetered just above nine-year  lows on a trade-weighted basis on Friday as investors waited  for key U.S. jobs data before deciding whether to extend the  greenback's recent decline.\n",
            "\n",
            "\n",
            "[Succeeded / Failed / Total] 1 / 5 / 7:  70% 7/10 [02:39<01:08, 22.72s/it]--------------------------------------------- Result 8 ---------------------------------------------\n",
            "\u001b[91mWorld (100%)\u001b[0m --> \u001b[91m[FAILED]\u001b[0m\n",
            "\n",
            "Keep quiet on U.S. election, Martin tells loose-lipped cabinet (Canadian Press) Canadian Press - OTTAWA (CP) - Prime Minister Paul Martin served notice to his Liberal cabinet Thursday to clam up with their personal opinions on the U.S. presidential election.\n",
            "\n",
            "\n",
            "[Succeeded / Failed / Total] 1 / 6 / 8:  80% 8/10 [03:15<00:48, 24.47s/it]--------------------------------------------- Result 9 ---------------------------------------------\n",
            "\u001b[35mSci/tech (100%)\u001b[0m --> \u001b[91m[FAILED]\u001b[0m\n",
            "\n",
            "Hobbit-sized Humans Called Homo floresiensis Discovered by &lt;b&gt;...&lt;/b&gt; Long live the real Bilbo Baggins, the first Little People of the World, Homo floresiensis and Homo sapien archeologists Michael Morwood, Peter Brown and Professor Soejono!\n",
            "\n",
            "\n",
            "[Succeeded / Failed / Total] 1 / 7 / 9:  90% 9/10 [04:13<00:28, 28.14s/it]--------------------------------------------- Result 10 ---------------------------------------------\n",
            "\u001b[35mSci/tech (100%)\u001b[0m --> \u001b[91m[FAILED]\u001b[0m\n",
            "\n",
            "Briefly: MSN Messenger beta leaks onto Web roundup Plus: Level 3 to buy Sprint's dial-up business...Cisco CEO's salary shoots up from \\$1...SanDisk ups capacity on flash memory cards.\n",
            "\n",
            "\n",
            "[Succeeded / Failed / Total] 1 / 8 / 10: 100% 10/10 [04:53<00:00, 29.32s/it]\n",
            "\n",
            "+-------------------------------+--------+\n",
            "| Attack Results                |        |\n",
            "+-------------------------------+--------+\n",
            "| Number of successful attacks: | 1      |\n",
            "| Number of failed attacks:     | 8      |\n",
            "| Number of skipped attacks:    | 1      |\n",
            "| Original accuracy:            | 90.0%  |\n",
            "| Accuracy under attack:        | 80.0%  |\n",
            "| Attack success rate:          | 11.11% |\n",
            "| Average perturbed word %:     | 2.33%  |\n",
            "| Average num. words per input: | 39.3   |\n",
            "| Avg num queries:              | 145.78 |\n",
            "+-------------------------------+--------+\n",
            "\u001b[34;1mtextattack\u001b[0m: Attack time: 293.1991317272186s\n"
          ],
          "name": "stdout"
        }
      ]
    },
    {
      "cell_type": "code",
      "metadata": {
        "id": "7nq_4vf9-jsp"
      },
      "source": [
        ""
      ],
      "execution_count": null,
      "outputs": []
    }
  ]
}